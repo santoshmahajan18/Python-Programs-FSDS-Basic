{
 "cells": [
  {
   "cell_type": "markdown",
   "id": "ee5365f1",
   "metadata": {},
   "source": [
    "# 17 Python Program Assignment"
   ]
  },
  {
   "cell_type": "markdown",
   "id": "a5289f9a",
   "metadata": {},
   "source": [
    "**1.Create a function that takes three arguments a, b, c and returns the sum of the numbers that are evenly divided by c from the range a, b inclusive.**\n",
    "\n",
    "Examples:\n",
    "\n",
    "evenly_divisible(1, 10, 20) ➞ 0\n",
    "\n",
    "    # No number between 1 and 10 can be evenly divided by 20.\n",
    "    \n",
    "evenly_divisible(1, 10, 2) ➞ 30\n",
    "\n",
    "    # 2 + 4 + 6 + 8 + 10 = 30\n",
    "    \n",
    "evenly_divisible(1, 10, 3) ➞ 18\n",
    "\n",
    "    # 3 + 6 + 9 = 18"
   ]
  },
  {
   "cell_type": "code",
   "execution_count": 10,
   "id": "ebd90027",
   "metadata": {},
   "outputs": [
    {
     "name": "stdout",
     "output_type": "stream",
     "text": [
      "Plese enter the value of a: 1\n",
      "Plese enter the value of b: 10\n",
      "Plese enter the value of c: 2\n",
      "(1, 10, 2)----->30\n",
      "None\n",
      "Plese enter the value of a: 1\n",
      "Plese enter the value of b: 10\n",
      "Plese enter the value of c: 20\n",
      "(1, 10, 20)----->0\n",
      "None\n",
      "Plese enter the value of a: 1\n",
      "Plese enter the value of b: 10\n",
      "Plese enter the value of c: 3\n",
      "(1, 10, 3)----->18\n",
      "None\n"
     ]
    }
   ],
   "source": [
    "# code to return sum of numbers that are divisible by number represented by variable c\n",
    "def div_test():\n",
    "    a=int(input(\"Plese enter the value of a: \"))\n",
    "    b=int(input(\"Plese enter the value of b: \"))    \n",
    "    c=int(input(\"Plese enter the value of c: \"))\n",
    "    list=[]\n",
    "    for num in range (a,b+1):\n",
    "        if num%c==0:\n",
    "            list.append(num)\n",
    "    print(f'{a,b,c}----->{sum(list)}')\n",
    "\n",
    "for i in range(3):\n",
    "          print(div_test())   "
   ]
  },
  {
   "cell_type": "markdown",
   "id": "5f36ab29",
   "metadata": {},
   "source": [
    "**2.Create a function that returns True if a given inequality expression is correct and False otherwise.**\n",
    "\n",
    "Examples:\n",
    "\n",
    "correct_signs(\"3 < 7 < 11\") ➞ True\n",
    "\n",
    "correct_signs(\"13 > 44 > 33 > 1\") ➞ False\n",
    "\n",
    "correct_signs(\"1 < 2 < 6 < 9 > 3\") ➞ True"
   ]
  },
  {
   "cell_type": "code",
   "execution_count": 11,
   "id": "49205b95",
   "metadata": {},
   "outputs": [
    {
     "name": "stdout",
     "output_type": "stream",
     "text": [
      "\n",
      "Please enter the inequality: \n",
      "3 < 7 < 11\n",
      "3 < 7 < 11---->True\n",
      "\n",
      "Please enter the inequality: \n",
      "13 > 44 > 33 > 1\n",
      "13 > 44 > 33 > 1---->False\n",
      "\n",
      "Please enter the inequality: \n",
      "1 < 2 < 6 < 9 > 3\n",
      "1 < 2 < 6 < 9 > 3---->True\n"
     ]
    }
   ],
   "source": [
    "# code to return boolean value depending on the condition\n",
    "\n",
    "def chk_bool():\n",
    "    \n",
    "    s=input(\"\\nPlease enter the inequality: \\n\")\n",
    "    \n",
    "    result=eval(s)\n",
    "    \n",
    "    print(f'{s}---->{result}')\n",
    "          \n",
    "for y in range(3):\n",
    "    \n",
    "          chk_bool()"
   ]
  },
  {
   "cell_type": "markdown",
   "id": "7bed318f",
   "metadata": {},
   "source": [
    "**3.Create a function that replaces all the vowels in a string with a specified character.**\n",
    "\n",
    "Examples:\n",
    "\n",
    "replace_vowels(\"the aardvark\", \"#\") ➞ \"th# ##rdv#rk\"\n",
    "\n",
    "replace_vowels(\"minnie mouse\", \"?\") ➞ \"m?nn?? m??s?\"\n",
    "\n",
    "replace_vowels(\"shakespeare\", \"*\") ➞ \"shksp**r\""
   ]
  },
  {
   "cell_type": "code",
   "execution_count": 12,
   "id": "43955a24",
   "metadata": {},
   "outputs": [
    {
     "name": "stdout",
     "output_type": "stream",
     "text": [
      "Please enter your string: the aardvark\n",
      "Replacement character: #\n",
      "After replacemen of vowels in \"the aardvark\" by special character: #, the new string is th# ##rdv#rk\n",
      "\n",
      "Please enter your string: minnie mouse\n",
      "Replacement character: ?\n",
      "After replacemen of vowels in \"minnie mouse\" by special character: ?, the new string is m?nn?? m??s?\n",
      "\n",
      "Please enter your string: shakespeare\n",
      "Replacement character: *\n",
      "After replacemen of vowels in \"shakespeare\" by special character: *, the new string is sh*k*sp**r*\n",
      "\n"
     ]
    }
   ],
   "source": [
    "# code to replace vowels with special characters\n",
    "\n",
    "def repl():\n",
    "    \n",
    "    vowels = ['a','e','i','o','u','A','E','I','O','U']\n",
    "    \n",
    "    s=input(\"Please enter your string: \")\n",
    "    \n",
    "    copy=s\n",
    "    \n",
    "    x=input(\"Replacement character: \")\n",
    "    \n",
    "    for i in s:\n",
    "        \n",
    "        if i in vowels:\n",
    "            \n",
    "            s=s.replace(i,x)\n",
    "            \n",
    "    print(f'After replacemen of vowels in \"{copy}\" by special character: {x}, the new string is {s}\\n')\n",
    "    \n",
    "for m in range(3):\n",
    "    \n",
    "    repl()\n",
    "    "
   ]
  },
  {
   "cell_type": "markdown",
   "id": "8a5c3de0",
   "metadata": {},
   "source": [
    "**4.Write a function that calculates the factorial of a number recursively.**\n",
    "\n",
    "Examples:\n",
    "\n",
    "factorial(5) ➞ 120\n",
    "\n",
    "factorial(3) ➞ 6\n",
    "\n",
    "factorial(1) ➞ 1\n",
    "\n",
    "factorial(0) ➞ 1"
   ]
  },
  {
   "cell_type": "code",
   "execution_count": 6,
   "id": "fac91f77",
   "metadata": {},
   "outputs": [
    {
     "name": "stdout",
     "output_type": "stream",
     "text": [
      "Please enter a number: 4\n",
      "The factorial of 4 is 24\n",
      "\n"
     ]
    }
   ],
   "source": [
    "# code to find factorial of a number recursively\n",
    "\n",
    "n=int(input(\"Please enter a number: \"))\n",
    "\n",
    "def fact(n):\n",
    "    if n < 0:\n",
    "        print(\"Sorry, factorial does not exist for negative numbers\")\n",
    "        #break\n",
    "    elif n==0:\n",
    "        \n",
    "        return 1\n",
    "    else:\n",
    "        return n * fact(n-1)\n",
    "\n",
    "print(f'The factorial of {n} is {fact(n)}\\n')"
   ]
  },
  {
   "cell_type": "markdown",
   "id": "4c62a9c6",
   "metadata": {},
   "source": [
    "**5.Hamming distance is the number of characters that differ between two strings.**\n",
    "\n",
    "To illustrate:\n",
    "\n",
    "String1: \"abcbba\"\n",
    "\n",
    "String2: \"abcbda\"\n",
    "\n",
    "Hamming Distance: 1 - \"b\" vs. \"d\" is the only difference.\n",
    "\n",
    "Create a function that computes the hamming distance between two strings.\n",
    "\n",
    "Examples:\n",
    "\n",
    "hamming_distance(\"abcde\", \"bcdef\") ➞ 5\n",
    "\n",
    "hamming_distance(\"abcde\", \"abcde\") ➞ 0\n",
    "\n",
    "hamming_distance(\"strong\", \"strung\") ➞ 1"
   ]
  },
  {
   "cell_type": "code",
   "execution_count": 8,
   "id": "d0cc6898",
   "metadata": {},
   "outputs": [
    {
     "name": "stdout",
     "output_type": "stream",
     "text": [
      "\n",
      "Please enter string 1: abcde\n",
      "\n",
      "Please enter string 2: bcdef\n",
      "\n",
      "The hamming distance between abcde and bcdef is: 5\n",
      "\n",
      "Please enter string 1: abcde\n",
      "\n",
      "Please enter string 2: abcde\n",
      "\n",
      "The hamming distance between abcde and abcde is: 0\n",
      "\n",
      "Please enter string 1: strong\n",
      "\n",
      "Please enter string 2: strung\n",
      "\n",
      "The hamming distance between strong and strung is: 1\n"
     ]
    }
   ],
   "source": [
    "# code to compute hamming distance between two strings\n",
    "def ham_dist():\n",
    "    \n",
    "    s1=input(\"\\nPlease enter string 1: \")\n",
    "    \n",
    "    s2=input(\"\\nPlease enter string 2: \")\n",
    "    \n",
    "    if len(s1)==len(s2):\n",
    "        \n",
    "        count=0\n",
    "        \n",
    "        for i in range(len(s1)):\n",
    "            \n",
    "            if s1[i] != s2[i]:\n",
    "                \n",
    "                count = count + 1\n",
    "                \n",
    "        print(f'\\nThe hamming distance between {s1} and {s2} is: {count}')\n",
    "        \n",
    "    else:\n",
    "        \n",
    "        print(\"\\nThe length of the two stings should be same.\")\n",
    "\n",
    "for y in range(3):\n",
    "    \n",
    "    ham_dist()\n",
    "    \n",
    "# inputs  abcde, bcdef\n",
    "\n",
    "# inputs abcde,abcde\n",
    "\n",
    "# inputs strong,strung"
   ]
  },
  {
   "cell_type": "code",
   "execution_count": null,
   "id": "c4d86a92",
   "metadata": {},
   "outputs": [],
   "source": []
  }
 ],
 "metadata": {
  "kernelspec": {
   "display_name": "Python 3 (ipykernel)",
   "language": "python",
   "name": "python3"
  },
  "language_info": {
   "codemirror_mode": {
    "name": "ipython",
    "version": 3
   },
   "file_extension": ".py",
   "mimetype": "text/x-python",
   "name": "python",
   "nbconvert_exporter": "python",
   "pygments_lexer": "ipython3",
   "version": "3.9.13"
  }
 },
 "nbformat": 4,
 "nbformat_minor": 5
}
