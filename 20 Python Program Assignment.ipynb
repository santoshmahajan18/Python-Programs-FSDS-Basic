{
 "cells": [
  {
   "cell_type": "markdown",
   "id": "c2fca0c7",
   "metadata": {},
   "source": [
    "# 20 Python Program Assignment"
   ]
  },
  {
   "cell_type": "markdown",
   "id": "d806c1d2",
   "metadata": {},
   "source": [
    "**1.Create a function that takes a list of strings and integers, and filters out the list so that it returns a list of integers only.**\n",
    "\n",
    "Examples:\n",
    "\n",
    "filter_list([1, 2, 3, \"a\", \"b\", 4]) ➞ [1, 2, 3, 4]\n",
    "\n",
    "filter_list([\"A\", 0, \"Edabit\", 1729, \"Python\", \"1729\"]) ➞ [0, 1729]\n",
    "\n",
    "filter_list([\"Nothing\", \"here\"]) ➞ []"
   ]
  },
  {
   "cell_type": "code",
   "execution_count": 17,
   "id": "35c15b6f",
   "metadata": {},
   "outputs": [
    {
     "name": "stdout",
     "output_type": "stream",
     "text": [
      "Input list is: [1, 2, 3, 'a', 'b', 4] and Final list is [1, 2, 3, 4]\n",
      "\n",
      "Input list is: ['A', 0, 'Edabit', 1729, 'Python', '1729'] and Final list is [0, 1729]\n",
      "\n",
      "Input list is: ['A', 0, 'Edabit', 1729, 'Python', '1729'] and Final list is [0, 1729]\n",
      "\n"
     ]
    }
   ],
   "source": [
    "# code to return only the integers\n",
    "\n",
    "def int_only(my_list):\n",
    "    \n",
    "    result=[]\n",
    "    \n",
    "    for i in my_list:\n",
    "        \n",
    "            if type(i)==int:\n",
    "                \n",
    "                result.append(i)\n",
    "                \n",
    "    print(f\"Input list is: {my_list} and Final list is {result}\\n\")\n",
    "    \n",
    "my_list=[1, 2, 3, \"a\", \"b\", 4]\n",
    "int_only(my_list)\n",
    "\n",
    "my_list=[\"A\", 0, \"Edabit\", 1729, \"Python\", \"1729\"]\n",
    "int_only(my_list)\n",
    "\n",
    "my_list=[\"A\", 0, \"Edabit\", 1729, \"Python\", \"1729\"]\n",
    "int_only(my_list)\n"
   ]
  },
  {
   "cell_type": "markdown",
   "id": "b41664fc",
   "metadata": {},
   "source": [
    "**2.Given a list of numbers, create a function which returns the list but with each element's index in the list added to itself. This means you add 0 to the number at index 0, add 1 to the number at index 1, etc...**\n",
    "\n",
    "Examples:\n",
    "\n",
    "add_indexes([0, 0, 0, 0, 0]) ➞ [0, 1, 2, 3, 4]\n",
    "\n",
    "add_indexes([1, 2, 3, 4, 5]) ➞ [1, 3, 5, 7, 9]\n",
    "\n",
    "add_indexes([5, 4, 3, 2, 1]) ➞ [5, 5, 5, 5, 5]"
   ]
  },
  {
   "cell_type": "code",
   "execution_count": 23,
   "id": "d83e8f80",
   "metadata": {},
   "outputs": [
    {
     "name": "stdout",
     "output_type": "stream",
     "text": [
      "The original list is [0, 0, 0, 0, 0] and the new list is: [0, 1, 2, 3, 4]\n",
      "\n",
      "The original list is [1, 2, 3, 4, 5] and the new list is: [1, 3, 5, 7, 9]\n",
      "\n",
      "The original list is [5, 4, 3, 2, 1] and the new list is: [5, 5, 5, 5, 5]\n",
      "\n"
     ]
    }
   ],
   "source": [
    "# code to add index value to each element of a list\n",
    "\n",
    "def add_ind(my_list):\n",
    "    \n",
    "    result=[]\n",
    "    \n",
    "    for i in range(len(my_list)):\n",
    "        \n",
    "        result.append(i+my_list[i])\n",
    "        \n",
    "    print(f'The original list is {my_list} and the new list is: {result}\\n')\n",
    "   \n",
    "my_list=[0, 0, 0, 0, 0]\n",
    "add_ind(my_list)\n",
    "\n",
    "my_list=[1, 2, 3, 4, 5]\n",
    "add_ind(my_list)\n",
    "\n",
    "my_list=[5, 4, 3, 2, 1]\n",
    "add_ind(my_list)"
   ]
  },
  {
   "cell_type": "markdown",
   "id": "5b87cc71",
   "metadata": {},
   "source": [
    "**3.Create a function that takes the height and radius of a cone as arguments and returns the volume of the cone rounded to the nearest hundredth. See the resources tab for the formula.**\n",
    "\n",
    "Examples:\n",
    "\n",
    "cone_volume(3, 2) ➞ 12.57|\n",
    "\n",
    "cone_volume(15, 6) ➞ 565.49\n",
    "\n",
    "cone_volume(18, 0) ➞ 0"
   ]
  },
  {
   "cell_type": "code",
   "execution_count": 29,
   "id": "a96c22dc",
   "metadata": {},
   "outputs": [
    {
     "name": "stdout",
     "output_type": "stream",
     "text": [
      "please enter radius of cone: 6\n",
      "please enter height of cone: 12\n",
      "The volume of cone with radius 6 and height 12 is 452.3893421169302\n"
     ]
    }
   ],
   "source": [
    "# code to find volume of cone\n",
    "import math\n",
    "\n",
    "def cone_vol():\n",
    "    \n",
    "    r=int(input(\"please enter radius of cone: \"))\n",
    "    \n",
    "    ht=int(input(\"please enter height of cone: \"))\n",
    "    \n",
    "    result=(1/3)*(math.pi)*r*r*ht\n",
    "    \n",
    "    print(f'The volume of cone with radius {r} and height {ht} is {result}')\n",
    "    \n",
    "cone_vol()"
   ]
  },
  {
   "cell_type": "markdown",
   "id": "3baad70b",
   "metadata": {},
   "source": [
    "**4.This Triangular Number Sequence is generated from a pattern of dots that form a triangle.**\n",
    "\n",
    "The first 5 numbers of the sequence, or dots, are: 1, 3, 6, 10, 15\n",
    "\n",
    "This means that the first triangle has just one dot, the second one has three dots, the third one has 6 dots and so on. Write a function that gives the number of dots with its corresponding triangle number of the sequence.\n",
    "\n",
    "\n",
    "Examples:\n",
    "\n",
    "triangle(1) ➞ 1\n",
    "\n",
    "triangle(6) ➞ 21\n",
    "\n",
    "triangle(215) ➞ 23220"
   ]
  },
  {
   "cell_type": "code",
   "execution_count": 30,
   "id": "2a804d45",
   "metadata": {},
   "outputs": [
    {
     "name": "stdout",
     "output_type": "stream",
     "text": [
      "Output ➞ 1\n",
      "Output ➞ 21\n",
      "Output ➞ 23220\n"
     ]
    }
   ],
   "source": [
    "# code to find number of dots with its corresponding trianble number\n",
    "def triangle(n):\n",
    "    \n",
    "    print(f'Output ➞ {int((n)*((n+1)/2))}')\n",
    "\n",
    "triangle(1)\n",
    "\n",
    "triangle(6)\n",
    "\n",
    "triangle(215)"
   ]
  },
  {
   "cell_type": "markdown",
   "id": "0a715b67",
   "metadata": {},
   "source": [
    "**5.Create a function that takes a list of numbers between 1 and 10 (excluding one number) and returns the missing number.**\n",
    "\n",
    "Examples:\n",
    "\n",
    "missing_num([1, 2, 3, 4, 6, 7, 8, 9, 10]) ➞ 5\n",
    "\n",
    "missing_num([7, 2, 3, 6, 5, 9, 1, 4, 8]) ➞ 10\n",
    "\n",
    "missing_num([10, 5, 1, 2, 4, 6, 8, 3, 9]) ➞ 7"
   ]
  },
  {
   "cell_type": "code",
   "execution_count": 36,
   "id": "f75763e9",
   "metadata": {},
   "outputs": [
    {
     "name": "stdout",
     "output_type": "stream",
     "text": [
      "The number missing in my list [1, 2, 3, 4, 5, 7, 8, 9, 10] is 6\n",
      "\n",
      "The number missing in my list [1, 2, 3, 5, 6, 7, 8, 9, 10] is 4\n",
      "\n",
      "The number missing in my list [1, 2, 4, 5, 6, 7, 8, 9, 10] is 3\n",
      "\n"
     ]
    }
   ],
   "source": [
    "# code to find missing number from a list of  to 10\n",
    "\n",
    "def missing_num(my_list):\n",
    "    \n",
    "    for i in range(1,11):\n",
    "                \n",
    "        if i not in my_list:\n",
    "            \n",
    "            print(f'The number missing in my list {my_list} is {i}\\n')\n",
    "        \n",
    "my_list=[1,2,3,4,5,7,8,9,10]   \n",
    "missing_num(my_list)\n",
    "\n",
    "my_list=[1,2,3,5,6,7,8,9,10]   \n",
    "missing_num(my_list)\n",
    "\n",
    "my_list=[1,2,4,5,6,7,8,9,10]\n",
    "missing_num(my_list)"
   ]
  }
 ],
 "metadata": {
  "kernelspec": {
   "display_name": "Python 3 (ipykernel)",
   "language": "python",
   "name": "python3"
  },
  "language_info": {
   "codemirror_mode": {
    "name": "ipython",
    "version": 3
   },
   "file_extension": ".py",
   "mimetype": "text/x-python",
   "name": "python",
   "nbconvert_exporter": "python",
   "pygments_lexer": "ipython3",
   "version": "3.9.13"
  }
 },
 "nbformat": 4,
 "nbformat_minor": 5
}
