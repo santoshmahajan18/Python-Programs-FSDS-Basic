{
 "cells": [
  {
   "cell_type": "markdown",
   "id": "355a84c3",
   "metadata": {},
   "source": [
    "# 18 Python Program Assignment"
   ]
  },
  {
   "cell_type": "markdown",
   "id": "1bae4d87",
   "metadata": {},
   "source": [
    "**1.Create a function that takes a list of non-negative integers and strings and return a new list without the strings.**\n",
    "\n",
    "xamples:\n",
    "\n",
    "filter_list([1, 2, \"a\", \"b\"]) ➞ [1, 2]\n",
    "\n",
    "filter_list([1, \"a\", \"b\", 0, 15]) ➞ [1, 0, 15]\n",
    "\n",
    "filter_list([1, 2, \"aasf\", \"1\", \"123\", 123]) ➞ [1, 2, 123]"
   ]
  },
  {
   "cell_type": "code",
   "execution_count": 30,
   "id": "a31ed3e3",
   "metadata": {},
   "outputs": [
    {
     "data": {
      "text/plain": [
       "[1, 2]"
      ]
     },
     "execution_count": 30,
     "metadata": {},
     "output_type": "execute_result"
    }
   ],
   "source": [
    "# code to remove strings from a list\n",
    "\n",
    "def filter(list):\n",
    "    \n",
    "    return [i for i in list if isinstance(i,int) and i>+0]\n",
    "\n",
    "filter([1,2,\"a\",\"b\"])\n",
    "\n"
   ]
  },
  {
   "cell_type": "code",
   "execution_count": 7,
   "id": "7121a667",
   "metadata": {},
   "outputs": [
    {
     "data": {
      "text/plain": [
       "[1, 2]"
      ]
     },
     "execution_count": 7,
     "metadata": {},
     "output_type": "execute_result"
    }
   ],
   "source": [
    "# another method of removing strings from a list\n",
    "\n",
    "def filter(list):\n",
    "    \n",
    "    result=[]\n",
    "    \n",
    "    for element in list:\n",
    "        \n",
    "        if type(element)==int and element >= 0:\n",
    "            \n",
    "            result.append(element)\n",
    "            \n",
    "    return result\n",
    "\n",
    "filter([1, 2, \"a\", \"b\"])\n",
    "        "
   ]
  },
  {
   "cell_type": "markdown",
   "id": "b4db78ad",
   "metadata": {},
   "source": [
    "**2. The \"Reverser\" takes a string as input and returns that string in reverse order, with the opposite case.**\n",
    "\n",
    "Examples:\n",
    "\n",
    "reverse(\"Hello World\") ➞ \"DLROw OLLEh\"\n",
    "\n",
    "reverse(\"ReVeRsE\") ➞ \"eSrEvEr\"\n",
    "\n",
    "reverse(\"Radar\") ➞ \"RADAr\""
   ]
  },
  {
   "cell_type": "code",
   "execution_count": 14,
   "id": "6eaee21f",
   "metadata": {},
   "outputs": [
    {
     "name": "stdout",
     "output_type": "stream",
     "text": [
      "Please enter string: Hello World\n",
      "Hello World----->DLROw OLLEh\n",
      "\n",
      "Please enter string: ReVeRsE\n",
      "ReVeRsE----->eSrEvEr\n",
      "\n",
      "Please enter string: Radar\n",
      "Radar----->RADAr\n",
      "\n"
     ]
    }
   ],
   "source": [
    "# code to reverse a string with opposite case\n",
    "def rev():\n",
    "    s=input(\"Please enter string: \")\n",
    "    copy=s\n",
    "    s=s[::-1]\n",
    "    s=s.swapcase()\n",
    "    print(f'{copy}----->{s}\\n')\n",
    "    \n",
    "for x in range(3):\n",
    "    rev()\n",
    "    "
   ]
  },
  {
   "cell_type": "markdown",
   "id": "3b0bcbd0",
   "metadata": {},
   "source": [
    "**3.You can assign variables from lists like this:**\n",
    "\n",
    "lst = [1, 2, 3, 4, 5, 6]\n",
    "\n",
    "first = lst[0]\n",
    "\n",
    "middle = lst[1:-1]\n",
    "\n",
    "last = lst[-1]\n",
    "\n",
    "print(first) ➞ outputs 1\n",
    "\n",
    "print(middle) ➞ outputs [2, 3, 4, 5]\n",
    "\n",
    "print(last) ➞ outputs 6\n",
    "\n",
    "With Python 3, you can assign variables from lists in a much more succinct way. Create variables first, middle and last from the given list using destructuring assignment\n",
    "\n",
    "(check the Resources tab for some examples), where:\n",
    "\n",
    "first ➞ 1\n",
    "\n",
    "middle ➞ [2, 3, 4, 5]\n",
    "\n",
    "last ➞ 6\n",
    "\n",
    "Your task is to unpack the list write your code here into three variables, being first, middle, and last, with middle being everything in between the first and last element. Then print all three variables."
   ]
  },
  {
   "cell_type": "code",
   "execution_count": 15,
   "id": "10d03cd0",
   "metadata": {},
   "outputs": [
    {
     "name": "stdout",
     "output_type": "stream",
     "text": [
      "first----->1\n",
      "middle---->[2, 3, 4, 5]\n",
      "last------> 6\n"
     ]
    }
   ],
   "source": [
    "# code to unpack the list into first, middle and last\n",
    "\n",
    "first,*middle,last=[1,2,3,4,5,6]\n",
    "\n",
    "print(f'first----->{first}')\n",
    "\n",
    "print(f'middle---->{middle}')\n",
    "\n",
    "print(f'last------> {last}')"
   ]
  },
  {
   "cell_type": "markdown",
   "id": "8d5a9e21",
   "metadata": {},
   "source": [
    "**4.Write a function that calculates the factorial of a number recursively.**\n",
    "\n",
    "Examples:\n",
    "\n",
    "factorial(5) ➞ 120\n",
    "\n",
    "factorial(3) ➞ 6\n",
    "\n",
    "factorial(1) ➞ 1\n",
    "\n",
    "factorial(0) ➞ 1"
   ]
  },
  {
   "cell_type": "code",
   "execution_count": 23,
   "id": "4bfcef8a",
   "metadata": {},
   "outputs": [
    {
     "name": "stdout",
     "output_type": "stream",
     "text": [
      "Enter the number: 5\n",
      "The factorial of 5 is 120\n"
     ]
    },
    {
     "data": {
      "text/plain": [
       "120"
      ]
     },
     "execution_count": 23,
     "metadata": {},
     "output_type": "execute_result"
    }
   ],
   "source": [
    "# code to calculate a factorial of a number recursively\n",
    "\n",
    "n=int(input(\"Enter the number: \"))\n",
    "\n",
    "def fac(n):\n",
    "    \n",
    "    if n<0:\n",
    "        \n",
    "        print(\"Number cannot be negative!\")\n",
    "        \n",
    "    elif n==0:\n",
    "        \n",
    "        return 1\n",
    "    \n",
    "    else:\n",
    "        \n",
    "        return n*fac(n-1)\n",
    "    \n",
    "print(f\"The factorial of {n} is {fac(n)}\")   \n",
    "\n",
    "fac(n)\n"
   ]
  },
  {
   "cell_type": "markdown",
   "id": "bc102f37",
   "metadata": {},
   "source": [
    "**5.Write a function that moves all elements of one type to the end of the list.**\n",
    "\n",
    "Examples:\n",
    "\n",
    "move_to_end([1, 3, 2, 4, 4, 1], 1) ➞ [3, 2, 4, 4, 1, 1]\n",
    "\n",
    "Move all the 1s to the end of the array.\n",
    "\n",
    "move_to_end([7, 8, 9, 1, 2, 3, 4], 9) ➞ [7, 8, 1, 2, 3, 4, 9]\n",
    "\n",
    "move_to_end([\"a\", \"a\", \"a\", \"b\"], \"a\") ➞ [\"b\", \"a\", \"a\", \"a\"]"
   ]
  },
  {
   "cell_type": "code",
   "execution_count": 29,
   "id": "9ad35f91",
   "metadata": {},
   "outputs": [
    {
     "name": "stdout",
     "output_type": "stream",
     "text": [
      "Original list: ['3', '5', '7', '9', '11']\n",
      "New list: ['3', '7', '9', '11', '5']\n"
     ]
    }
   ],
   "source": [
    "# code to move a type of element to the end of the list\n",
    "\n",
    "a=['3', '5', '7', '9', '11'] # original list\n",
    "\n",
    "print(\"Original list: \"+ str(a)) # printing original list\n",
    "\n",
    "b=len(a) # assessing total length of the list\n",
    "\n",
    "a.remove('5') # removing element '5' from the list\n",
    "\n",
    "a.insert(b-1,'5') # inserting the same element '5' at the last index of this list\n",
    "\n",
    "print(\"New list: \"+str(a)) # printing the modified list"
   ]
  }
 ],
 "metadata": {
  "kernelspec": {
   "display_name": "Python 3 (ipykernel)",
   "language": "python",
   "name": "python3"
  },
  "language_info": {
   "codemirror_mode": {
    "name": "ipython",
    "version": 3
   },
   "file_extension": ".py",
   "mimetype": "text/x-python",
   "name": "python",
   "nbconvert_exporter": "python",
   "pygments_lexer": "ipython3",
   "version": "3.9.13"
  }
 },
 "nbformat": 4,
 "nbformat_minor": 5
}
