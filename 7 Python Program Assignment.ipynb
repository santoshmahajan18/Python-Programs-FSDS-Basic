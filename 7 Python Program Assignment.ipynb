{
 "cells": [
  {
   "cell_type": "markdown",
   "id": "fac40172",
   "metadata": {},
   "source": [
    "# 7 Python Program Assignment"
   ]
  },
  {
   "cell_type": "markdown",
   "id": "5da660a7",
   "metadata": {},
   "source": [
    "1. Write a Python Program to find sum of Array."
   ]
  },
  {
   "cell_type": "code",
   "execution_count": 6,
   "id": "333bf8ed",
   "metadata": {},
   "outputs": [
    {
     "name": "stdout",
     "output_type": "stream",
     "text": [
      "Enter the array: 1,2,3,4,5,6,7\n",
      "The sum of the array is:  28\n"
     ]
    }
   ],
   "source": [
    "# code to find sum of array\n",
    "def sum(arr):\n",
    "    sum=0\n",
    "    for i in arr:\n",
    "        sum=sum+i\n",
    "    return (sum)\n",
    "\n",
    "arr=eval(input(\"Enter the array: \"))\n",
    "sum(arr)\n",
    "print(\"The sum of the array is: \",sum(arr))"
   ]
  },
  {
   "cell_type": "markdown",
   "id": "49936d50",
   "metadata": {},
   "source": [
    "2. Write a Python Program to find Largest element in an Array."
   ]
  },
  {
   "cell_type": "code",
   "execution_count": 7,
   "id": "9a66974d",
   "metadata": {},
   "outputs": [
    {
     "name": "stdout",
     "output_type": "stream",
     "text": [
      "Enter the array: 12,45,23,41,56,78,108,12\n",
      "Largest element present in given array:  108\n"
     ]
    }
   ],
   "source": [
    "# code to find the largest element in an array\n",
    "\n",
    "def larg(arr)     :\n",
    "#Initialize max with first element of array.    \n",
    "    max = arr[0];    \n",
    "     \n",
    "#Loop through the array    \n",
    "    for i in range(0, len(arr)):    \n",
    "    #Compare elements of array with max    \n",
    "       if(arr[i] > max):    \n",
    "           max = arr[i];    \n",
    "    return max\n",
    "arr=eval(input(\"Enter the array: \"))   \n",
    "ans=larg(arr)\n",
    "print(\"Largest element present in given array: \" ,ans);   "
   ]
  },
  {
   "cell_type": "markdown",
   "id": "c8ef2392",
   "metadata": {},
   "source": [
    "3. Write a Python Program for array rotation."
   ]
  },
  {
   "cell_type": "code",
   "execution_count": 2,
   "id": "d48f04bd",
   "metadata": {},
   "outputs": [
    {
     "name": "stdout",
     "output_type": "stream",
     "text": [
      "[1, 2, 3, 4, 5, 6, 7, 8, 9]\n",
      "Rotated list is\n",
      "[3, 4, 5, 6, 7, 8, 9, 1, 2]\n"
     ]
    }
   ],
   "source": [
    "def rotateList(arr,d,n):\n",
    "  arr[:]=arr[d:n]+arr[0:d]\n",
    "  return arr\n",
    "arr = [1, 2, 3, 4, 5, 6,7,8,9] \n",
    "  \n",
    "print(arr)\n",
    "print(\"Rotated list is\")\n",
    "print(rotateList(arr,2,len(arr))) "
   ]
  },
  {
   "cell_type": "markdown",
   "id": "432008ac",
   "metadata": {},
   "source": [
    "4. Write a Python Program to Split the array and add the first part to the end."
   ]
  },
  {
   "cell_type": "code",
   "execution_count": 3,
   "id": "6a0efcf8",
   "metadata": {},
   "outputs": [
    {
     "name": "stdout",
     "output_type": "stream",
     "text": [
      "Enter the Array: 1,2,3,4,5,6,7,8,9\n",
      "The Sum of First and Last Elements of Array (1, 2, 3, 4, 5, 6, 7, 8, 9) is 10\n"
     ]
    }
   ],
   "source": [
    "#code to split the array and add the first part with the last part\n",
    "def sumOfSplits():\n",
    "    in_arr = eval(input(\"Enter the Array: \"))\n",
    "    print(f\"The Sum of First and Last Elements of Array {in_arr} is {in_arr[0]+in_arr[-1]}\")\n",
    "    \n",
    "sumOfSplits()"
   ]
  },
  {
   "cell_type": "markdown",
   "id": "8097f9e8",
   "metadata": {},
   "source": [
    "5. Write a Python Program to check if given array is Monotonic."
   ]
  },
  {
   "cell_type": "markdown",
   "id": "7de8216b",
   "metadata": {},
   "source": [
    "An array is monotonic if it is either monotone increasing or monotone decreasing. An array A is monotone increasing if for all i <= j, A[i] <= A[j]. \n",
    "\n",
    "An array A is monotone decreasing if for all i <= j, A[i] >= A[j]. \n",
    "For example: list=[ 21,19,16,12,9,8,2] is monotonic whereas list 2= [12,45,3,27,16] is non-monotonic."
   ]
  },
  {
   "cell_type": "code",
   "execution_count": 5,
   "id": "87204fee",
   "metadata": {},
   "outputs": [
    {
     "name": "stdout",
     "output_type": "stream",
     "text": [
      "True\n"
     ]
    }
   ],
   "source": [
    "# code to check if an arrany is monotonic or not\n",
    "def is_mono(A):\n",
    "    return (all(A[i] <= A[i+1] for i in range(len(A)-1))) or all(A[i] >= A[i+1] for i in range(len(A)-1))\n",
    "    \n",
    "A=[6,5,4,3]\n",
    "print(is_mono(A))"
   ]
  },
  {
   "cell_type": "code",
   "execution_count": null,
   "id": "17923555",
   "metadata": {},
   "outputs": [],
   "source": []
  }
 ],
 "metadata": {
  "kernelspec": {
   "display_name": "Python 3 (ipykernel)",
   "language": "python",
   "name": "python3"
  },
  "language_info": {
   "codemirror_mode": {
    "name": "ipython",
    "version": 3
   },
   "file_extension": ".py",
   "mimetype": "text/x-python",
   "name": "python",
   "nbconvert_exporter": "python",
   "pygments_lexer": "ipython3",
   "version": "3.9.13"
  }
 },
 "nbformat": 4,
 "nbformat_minor": 5
}
