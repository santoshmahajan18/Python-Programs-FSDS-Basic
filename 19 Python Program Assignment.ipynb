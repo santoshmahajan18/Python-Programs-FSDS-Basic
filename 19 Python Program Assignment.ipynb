{
 "cells": [
  {
   "cell_type": "markdown",
   "id": "ab22f5fe",
   "metadata": {},
   "source": [
    "# 19 Python Program Assignment"
   ]
  },
  {
   "cell_type": "markdown",
   "id": "ba78f8e5",
   "metadata": {},
   "source": [
    "**1.Create a function that takes a string and returns a string in which each character is repeated once.**\n",
    "\n",
    "Examples:\n",
    "\n",
    "double_char(\"String\") ➞ \"SSttrriinngg\"\n",
    "\n",
    "double_char(\"Hello World!\") ➞ \"HHeelllloo WWoorrlldd!!\"\n",
    "\n",
    "doublechar(\"1234!_\") ➞ \"11223344!!__\""
   ]
  },
  {
   "cell_type": "code",
   "execution_count": 47,
   "id": "cd890fd2",
   "metadata": {},
   "outputs": [
    {
     "name": "stdout",
     "output_type": "stream",
     "text": [
      "Please enter your string: String\n",
      "String---->SSttrriinngg\n",
      "\n",
      "Please enter your string: Hello World!\n",
      "Hello World!---->HHeelllloo  WWoorrlldd!!\n",
      "\n",
      "Please enter your string: 1234!\n",
      "1234!---->11223344!!\n",
      "\n"
     ]
    }
   ],
   "source": [
    "# code to create a function which repeats every character of a string\n",
    "\n",
    "def repeat():\n",
    "    \n",
    "    s=input(\"Please enter your string: \")\n",
    "    \n",
    "    result=''\n",
    "    \n",
    "    for i in s:\n",
    "        \n",
    "        result=result + i*2\n",
    "        \n",
    "    print(f\"{s}---->{result}\\n\")\n",
    "    \n",
    "for x in range(3):\n",
    "    \n",
    "    repeat()\n",
    "\n",
    "        "
   ]
  },
  {
   "cell_type": "markdown",
   "id": "50dd8672",
   "metadata": {},
   "source": [
    "**2.Create a function that reverses a boolean value and returns the string \"boolean expected\" if another variable type is given.**\n",
    "\n",
    "Examples:\n",
    "\n",
    "reverse(True) ➞ False\n",
    "\n",
    "reverse(False) ➞ True\n",
    "\n",
    "reverse(0) ➞ \"boolean expected\"\n",
    "\n",
    "reverse(None) ➞ \"boolean expected\""
   ]
  },
  {
   "cell_type": "code",
   "execution_count": 25,
   "id": "4344cd29",
   "metadata": {},
   "outputs": [
    {
     "name": "stdout",
     "output_type": "stream",
     "text": [
      "False\n",
      "True\n",
      "Boolean Expected\n",
      "Boolean Expected\n",
      "Boolean Expected\n"
     ]
    }
   ],
   "source": [
    "# code to reverse the boolean expression\n",
    "\n",
    "def reverse(s):\n",
    "    \n",
    "    if type(s) == bool:\n",
    "        \n",
    "        return not s\n",
    "    \n",
    "    else:\n",
    "        if type(s) !=bool:\n",
    "            return \"Boolean Expected\"\n",
    "    \n",
    "\n",
    "print(reverse(True))\n",
    "print(reverse(False))\n",
    "print(reverse(1))\n",
    "print(reverse(5))\n",
    "print(reverse('a'))"
   ]
  },
  {
   "cell_type": "markdown",
   "id": "5c8e54ad",
   "metadata": {},
   "source": [
    "**3. Create a function that returns the thickness (in meters) of a piece of paper after folding it n number of times. The paper starts off with a thickness of 0.5mm.**\n",
    "\n",
    "Examples:\n",
    "\n",
    "num_layers(1) ➞ \"0.001m\"\n",
    "\n",
    "    # Paper folded once is 1mm (equal to 0.001m)\n",
    "    \n",
    "num_layers(4) ➞ \"0.008m\"\n",
    "\n",
    "    # Paper folded 4 times is 8mm (equal to 0.008m)\n",
    "    \n",
    "num_layers(21) ➞ \"1048.576m\"\n",
    "\n",
    "    # Paper folded 21 times is 1048576mm (equal to 1048.576m)"
   ]
  },
  {
   "cell_type": "code",
   "execution_count": 37,
   "id": "8ef440f3",
   "metadata": {},
   "outputs": [
    {
     "name": "stdout",
     "output_type": "stream",
     "text": [
      "Please specify number of folds: 2\n",
      "The thickness is 0.002m\n"
     ]
    }
   ],
   "source": [
    "# code to calculate thickness of paper after folding n times\n",
    "\n",
    "n=int(input(\"Please specify number of folds: \"))\n",
    "\n",
    "def thick_paper(): \n",
    "    \n",
    "    thick=0.5\n",
    "    \n",
    "    for i in range(n):\n",
    "        \n",
    "        thick=thick*2\n",
    "\n",
    "    print(f\"The thickness is {thick/1000}m\") # print command is under the def.\n",
    "          \n",
    "thick_paper()  \n"
   ]
  },
  {
   "cell_type": "code",
   "execution_count": 36,
   "id": "b01f755a",
   "metadata": {},
   "outputs": [
    {
     "name": "stdout",
     "output_type": "stream",
     "text": [
      "Please specify number of folds: 1\n",
      "The thickness is 0.001m\n",
      "\n",
      "Please specify number of folds: 2\n",
      "The thickness is 0.002m\n",
      "\n",
      "Please specify number of folds: 3\n",
      "The thickness is 0.004m\n",
      "\n"
     ]
    }
   ],
   "source": [
    "# another way to calculate thickness of paper after folding n times\n",
    "\n",
    "def thick_paper(): \n",
    "    \n",
    "    n=int(input(\"Please specify number of folds: \"))\n",
    "    \n",
    "    thick=0.5\n",
    "    \n",
    "    for i in range(n):\n",
    "        \n",
    "        thick=thick*2\n",
    "\n",
    "    print(f\"The thickness is {thick/1000}m\\n\")\n",
    "          \n",
    "for x in range(3):\n",
    "        thick_paper()\n"
   ]
  },
  {
   "cell_type": "markdown",
   "id": "0d0c0c72",
   "metadata": {},
   "source": [
    "**4.Create a function that takes a single string as argument and returns an ordered list containing the indices of all capital letters in the string.**\n",
    "\n",
    "Examples:\n",
    "\n",
    "index_of_caps(\"eDaBiT\") ➞ [1, 3, 5]\n",
    "\n",
    "index_of_caps(\"eQuINoX\") ➞ [1, 3, 4, 6]\n",
    "\n",
    "index_of_caps(\"determine\") ➞ []\n",
    "\n",
    "index_of_caps(\"STRIKE\") ➞ [0, 1, 2, 3, 4, 5]\n",
    "\n",
    "index_of_caps(\"sUn\") ➞ [1]"
   ]
  },
  {
   "cell_type": "code",
   "execution_count": 43,
   "id": "fb1d74bc",
   "metadata": {},
   "outputs": [
    {
     "name": "stdout",
     "output_type": "stream",
     "text": [
      "string please: eDaBiT\n",
      "The input string is:eDaBiT and output is [1, 3, 5]\n",
      "\n",
      "string please: eQuINoX\n",
      "The input string is:eQuINoX and output is [1, 3, 4, 6]\n",
      "\n",
      "string please: determine\n",
      "The input string is:determine and output is []\n",
      "\n",
      "string please: STRIKE\n",
      "The input string is:STRIKE and output is [0, 1, 2, 3, 4, 5]\n",
      "\n",
      "string please: sUn\n",
      "The input string is:sUn and output is [1]\n",
      "\n"
     ]
    }
   ],
   "source": [
    "# function to return indexes of all capital letters in a string\n",
    "\n",
    "def cap_ind():\n",
    "\n",
    "    s=input(\"string please: \")\n",
    "    \n",
    "    result=[]\n",
    "    \n",
    "    for element in s:\n",
    "        \n",
    "        if element.isupper():\n",
    "            \n",
    "            result.append(s.index(element))\n",
    "            \n",
    "    print(f\"The input string is:{s} and output is {result}\\n\")\n",
    "    \n",
    "for x in range(5):\n",
    "    cap_ind()\n",
    "            \n",
    "        "
   ]
  },
  {
   "cell_type": "markdown",
   "id": "d85a7653",
   "metadata": {},
   "source": [
    "**5.Using list comprehensions, create a function that finds all even numbers from 1 to the given number.**\n",
    "\n",
    "Examples:\n",
    "\n",
    "find_even_nums(8) ➞ [2, 4, 6, 8]\n",
    "\n",
    "find_even_nums(4) ➞ [2, 4]\n",
    "\n",
    "find_even_nums(2) ➞ [2]"
   ]
  },
  {
   "cell_type": "code",
   "execution_count": 46,
   "id": "5d814920",
   "metadata": {},
   "outputs": [
    {
     "name": "stdout",
     "output_type": "stream",
     "text": [
      "List of all even numbers till 50 numbers is:[2, 4, 6, 8, 10, 12, 14, 16, 18, 20, 22, 24, 26, 28, 30, 32, 34, 36, 38, 40, 42, 44, 46, 48, 50]\n"
     ]
    }
   ],
   "source": [
    "# code for finding even numbers using list comprehension\n",
    "def even(n):\n",
    "    \n",
    "    my_list=[i for i in range(1,n+1) if i%2==0]\n",
    "    \n",
    "    print(f\"List of all even numbers till {n} numbers is:{my_list}\")\n",
    "    \n",
    "even(50)"
   ]
  }
 ],
 "metadata": {
  "kernelspec": {
   "display_name": "Python 3 (ipykernel)",
   "language": "python",
   "name": "python3"
  },
  "language_info": {
   "codemirror_mode": {
    "name": "ipython",
    "version": 3
   },
   "file_extension": ".py",
   "mimetype": "text/x-python",
   "name": "python",
   "nbconvert_exporter": "python",
   "pygments_lexer": "ipython3",
   "version": "3.9.13"
  }
 },
 "nbformat": 4,
 "nbformat_minor": 5
}
