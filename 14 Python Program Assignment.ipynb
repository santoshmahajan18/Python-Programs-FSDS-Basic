{
 "cells": [
  {
   "cell_type": "markdown",
   "id": "65e27fbb",
   "metadata": {},
   "source": [
    "# 14 Python Program Assignment"
   ]
  },
  {
   "cell_type": "markdown",
   "id": "c977ec1e",
   "metadata": {},
   "source": [
    "1.Define a class with a generator which can iterate the numbers, which are divisible by 7, between a given range 0 and n."
   ]
  },
  {
   "cell_type": "code",
   "execution_count": 3,
   "id": "21df09c3",
   "metadata": {},
   "outputs": [
    {
     "name": "stdout",
     "output_type": "stream",
     "text": [
      "0 7 14 21 28 35 42 49 56 63 70 77 84 91 98 105 112 119 126 133 140 147 154 161 168 175 182 189 196 203 210 217 224 231 238 245 252 259 266 273 280 287 294 "
     ]
    }
   ],
   "source": [
    "class div_by_7_generator:\n",
    "    def __init__(self,num):\n",
    "        self.num=num\n",
    "    def find_number(self):\n",
    "        for unit in range(0,self.num+1):\n",
    "            if unit%7==0:\n",
    "                yield unit\n",
    "                \n",
    "result=div_by_7_generator(300)\n",
    "for unit in result.find_number():\n",
    "    print(unit,end=' ')"
   ]
  },
  {
   "cell_type": "markdown",
   "id": "87e27f33",
   "metadata": {},
   "source": [
    "2.Write a program to compute the frequency of the words from the input. The output should output after sorting the key alphanumerically.\n",
    "\n",
    "Suppose the following input is supplied to the program:\n",
    "\n",
    "New to Python or choosing between Python 2 and Python 3? Read Python 2 or Python 3.\n",
    "\n",
    "Then, the output should be:\n",
    "\n",
    "2:2 3.:1 3?:1 New:1 Python:5 Read:1 and:1 between:1 choosing:1 or:2 to:1"
   ]
  },
  {
   "cell_type": "code",
   "execution_count": 9,
   "id": "ceb3053e",
   "metadata": {},
   "outputs": [
    {
     "name": "stdout",
     "output_type": "stream",
     "text": [
      "Please enter your string: New to Python or choosing between Python 2 and Python 3? Read Python 2 or Python 3\n",
      " 2 : 2\n",
      " 3 : 1\n",
      " 3? : 1\n",
      " New : 1\n",
      " Python : 5\n",
      " Read : 1\n",
      " and : 1\n",
      " between : 1\n",
      " choosing : 1\n",
      " or : 2\n",
      " to : 1\n"
     ]
    }
   ],
   "source": [
    "# code to find frequency of words\n",
    "def check_freq():\n",
    "    my_string=input(\"Please enter your string: \")\n",
    "    freq={}\n",
    "    for unit in my_string.split(' '):\n",
    "        if(freq.get(unit) == None):\n",
    "            freq[unit]=1\n",
    "            \n",
    "        else:\n",
    "            freq[unit]=freq[unit]+1\n",
    "    for unit in sorted(freq):\n",
    "        print(f\" {unit} : {freq[unit]}\")\n",
    "check_freq()"
   ]
  },
  {
   "cell_type": "markdown",
   "id": "1c618b4b",
   "metadata": {},
   "source": [
    "3.Define a class Person and its two child classes: Male and Female. All classes have a method \"getGender\" which can print \"Male\" for Male class and \"Female\" for Female class. "
   ]
  },
  {
   "cell_type": "code",
   "execution_count": 2,
   "id": "cde8ee5d",
   "metadata": {},
   "outputs": [
    {
     "name": "stdout",
     "output_type": "stream",
     "text": [
      "Male\n",
      "Female\n"
     ]
    }
   ],
   "source": [
    "# code to create parent class and child classes\n",
    "class Person():\n",
    "    def getGender():\n",
    "        pass\n",
    "    \n",
    "class Male():\n",
    "    def getGender():\n",
    "        print(\"Male\")\n",
    "    \n",
    "class Female():\n",
    "    def getGender():\n",
    "        print(\"Female\")\n",
    "        \n",
    "Male.getGender()\n",
    "Female.getGender()"
   ]
  },
  {
   "cell_type": "markdown",
   "id": "90223435",
   "metadata": {},
   "source": [
    "4.Please write a program to generate all sentences where subject is in [\"I\", \"You\"] and verb is in [\"Play\", \"Love\"] and the object is in [\"Hockey\",\"Football\"] "
   ]
  },
  {
   "cell_type": "code",
   "execution_count": 13,
   "id": "81f8acc1",
   "metadata": {},
   "outputs": [
    {
     "name": "stdout",
     "output_type": "stream",
     "text": [
      "  I Play Hockey\n",
      "  I Play Football\n",
      "  I Love Hockey\n",
      "  I Love Football\n",
      "  You Play Hockey\n",
      "  You Play Football\n",
      "  You Love Hockey\n",
      "  You Love Football\n"
     ]
    }
   ],
   "source": [
    "# code to generate sentences in different combinations\n",
    "def gen_sent():\n",
    "    subject=[\"I\",\"You\"]\n",
    "    verb=[\"Play\",\"Love\"]\n",
    "    object=[\"Hockey\",\"Football\"]\n",
    "    for s in subject:\n",
    "        for v in verb:\n",
    "            for o in object:\n",
    "                print(\" \",s,v,o)\n",
    "gen_sent()"
   ]
  },
  {
   "cell_type": "markdown",
   "id": "925269fb",
   "metadata": {},
   "source": [
    "5.Please write a program to compress and decompress the string \"hello world!hello world!hello world!hello world!\"."
   ]
  },
  {
   "cell_type": "code",
   "execution_count": 15,
   "id": "272ef3df",
   "metadata": {},
   "outputs": [
    {
     "name": "stdout",
     "output_type": "stream",
     "text": [
      "ab3a6c2da3b\n",
      "hel2o world!hel2o world!hel2o world!hel2o world!\n"
     ]
    }
   ],
   "source": [
    "# code to compress a string\n",
    "def solve(s):\n",
    "   res = \"\" # initializing blank string\n",
    "   cnt = 1 # initializing count to 1\n",
    "   for i in range(1, len(s)): # checking every element over the lenth of the string\n",
    "      if s[i - 1] == s[i]: # it two consequtive elements are same, note range starts from 1, so s[i-1] is s[0]\n",
    "         cnt += 1 # then increase count by one\n",
    "      else:\n",
    "         res = res + s[i - 1] # if two consequtive elements are not same, the element gets moved to empty string res\n",
    "         if cnt > 1: # if count is greater than 1\n",
    "            res += str(cnt)  # we include the count in the form of a string to the variable res\n",
    "         cnt = 1 # we reinitialize the counter to 1 to look for repetition of next character\n",
    "   res = res + s[-1] # the last element in the string gets added to the variable res\n",
    "   if cnt > 1: # if count is greater than 1\n",
    "      res += str(cnt) # we add the count to the emplty variable res\n",
    "   return res # the final strin res will consist of character followed by the number of times it is repeating itself\n",
    "\n",
    "s = \"abbbaaaaaaccdaaab\"\n",
    "print(solve(s))\n",
    "t=\"hello world!hello world!hello world!hello world!\"\n",
    "print(solve(t))"
   ]
  },
  {
   "cell_type": "code",
   "execution_count": 18,
   "id": "c452fca0",
   "metadata": {},
   "outputs": [
    {
     "name": "stdout",
     "output_type": "stream",
     "text": [
      "abbbaaaaaaccdaaab\n",
      "hello world!hello world!hello world!hello world!\n"
     ]
    }
   ],
   "source": [
    "# code to decompress a string\n",
    "def decompress(x):\n",
    "    output = ''\n",
    "    for ele in range(len(x)):\n",
    "        if x[ele].isdigit():\n",
    "            output= output + output[-1]*(int(x[ele])-1)\n",
    "        else:\n",
    "            output = output + x[ele]\n",
    "    print(output)\n",
    "    \n",
    "x='ab3a6c2da3b'\n",
    "decompress(x)\n",
    "x='hel2o world!hel2o world!hel2o world!hel2o world!'\n",
    "decompress(x)"
   ]
  },
  {
   "cell_type": "markdown",
   "id": "bdea650a",
   "metadata": {},
   "source": [
    "6.Please write a binary search function which searches an item in a sorted list. The function should return the index of element to be searched in the list."
   ]
  },
  {
   "cell_type": "markdown",
   "id": "e7d2d606",
   "metadata": {},
   "source": [
    "A binary search is an algorithm to find a particular element in the list. Suppose we have a list of thousand elements, and we need to get an index position of a particular element. We can find the element's index position very fast using the binary search algorithm.\n",
    "\n",
    "There are many searching algorithms but the binary search is most popular among them."
   ]
  },
  {
   "cell_type": "code",
   "execution_count": 16,
   "id": "abd5beba",
   "metadata": {},
   "outputs": [
    {
     "name": "stdout",
     "output_type": "stream",
     "text": [
      "Element is present at index 6\n"
     ]
    }
   ],
   "source": [
    "# code to use a binary search function to locat a particular element in a list\n",
    "def bin_search(list,n):\n",
    "    low=0 # assigning 0 to variable low\n",
    "    high=len(list)-1 # assigning variable high a value =  len(list)-1\n",
    "    mid=0 # assigning 0 to variable mid\n",
    "    \n",
    "    while low<=high: # while value of low is less than or equal to high\n",
    "        mid=(low+high)//2 # we assign the variable mid, the integer value obtained from averaging out sum of high and low\n",
    "        if list[mid]<n: # if the element at index mid is lower than the desired integer n\n",
    "            low=mid+1 # the value of variable low becomes equal to value mid+1\n",
    "        elif list[mid]>n: # if the element at index mid is higher than the desired integer n\n",
    "            high = mid-1 # the value of variable high is decreased by one\n",
    "        else: # if value of variable low and high are equal, we return value of mid\n",
    "            return mid\n",
    "    return -1 # if we are able to do the above three steps, we return -1 else we return 0\n",
    "list1 = [12, 24, 32, 39, 45, 50, 54]  \n",
    "n = 54  \n",
    "result=bin_search(list1,n)\n",
    "if result != -1:  \n",
    "    print(\"Element is present at index\", str(result))  \n",
    "else:  \n",
    "    print(\"Element is not present in list1\")  \n",
    "        "
   ]
  }
 ],
 "metadata": {
  "kernelspec": {
   "display_name": "Python 3 (ipykernel)",
   "language": "python",
   "name": "python3"
  },
  "language_info": {
   "codemirror_mode": {
    "name": "ipython",
    "version": 3
   },
   "file_extension": ".py",
   "mimetype": "text/x-python",
   "name": "python",
   "nbconvert_exporter": "python",
   "pygments_lexer": "ipython3",
   "version": "3.9.13"
  }
 },
 "nbformat": 4,
 "nbformat_minor": 5
}
