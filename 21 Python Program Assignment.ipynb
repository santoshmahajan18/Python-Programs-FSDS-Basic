{
 "cells": [
  {
   "cell_type": "markdown",
   "id": "7c67eab8",
   "metadata": {},
   "source": [
    "# 21 Python Program Assignment"
   ]
  },
  {
   "cell_type": "markdown",
   "id": "f4c5cd50",
   "metadata": {},
   "source": [
    "**1.Write a function that takes a list and a number as arguments. Add the number to the end of the list, then remove the first element of the list. The function should then return the updated list.**\n",
    "\n",
    "Examples:\n",
    "\n",
    "next_in_line([5, 6, 7, 8, 9], 1) ➞ [6, 7, 8, 9, 1]\n",
    "\n",
    "next_in_line([7, 6, 3, 23, 17], 10) ➞ [6, 3, 23, 17, 10]\n",
    "\n",
    "next_in_line([1, 10, 20, 42 ], 6) ➞ [10, 20, 42, 6]\n",
    "\n",
    "next_in_line([], 6) ➞ \"No list has been selected\""
   ]
  },
  {
   "cell_type": "code",
   "execution_count": 5,
   "id": "134e6298",
   "metadata": {},
   "outputs": [
    {
     "name": "stdout",
     "output_type": "stream",
     "text": [
      "Please enter the number that you wish to append to the list: 11\n",
      "Original list:[5, 6, 7, 8, 9]\n",
      " Amended list:[6, 7, 8, 9, 11]\n",
      "\n",
      "Please enter the number that you wish to append to the list: 15\n",
      "Original list:[7, 6, 3, 23, 17]\n",
      " Amended list:[6, 3, 23, 17, 15]\n",
      "\n",
      "Please enter the number that you wish to append to the list: 16\n",
      "Original list:[1, 10, 20, 42]\n",
      " Amended list:[10, 20, 42, 16]\n",
      "\n"
     ]
    }
   ],
   "source": [
    "# code to remove first element of the list and add a new element to the end of the list\n",
    "\n",
    "def amend(my_list):\n",
    "    \n",
    "    n=int(input(\"Please enter the number that you wish to append to the list: \"))\n",
    "    \n",
    "    copy=str(my_list)\n",
    "    \n",
    "    if len(my_list)>1:\n",
    "        \n",
    "        my_list.append(n)\n",
    "        \n",
    "        my_list.remove(my_list[0])\n",
    "        \n",
    "    print(f\"Original list:{copy}\\n Amended list:{my_list}\\n\")\n",
    "    \n",
    "my_list=[5, 6, 7, 8, 9]\n",
    "amend(my_list)\n",
    "\n",
    "my_list=[7, 6, 3, 23, 17]\n",
    "amend(my_list)\n",
    "\n",
    "my_list=[1, 10, 20, 42 ]\n",
    "amend(my_list)"
   ]
  },
  {
   "cell_type": "markdown",
   "id": "a20d79eb",
   "metadata": {},
   "source": [
    "**2.Create the function that takes a list of dictionaries and returns the sum of people's budgets.**\n",
    "\n",
    "Examples:\n",
    "\n",
    "get_budgets([\n",
    "{ \"name\": \"John\", \"age\": 21, \"budget\": 23000 },\n",
    "\n",
    "{ \"name\": \"Steve\", \"age\": 32, \"budget\": 40000 },\n",
    "\n",
    "{ \"name\": \"Martin\", \"age\": 16, \"budget\": 2700 }\n",
    "\n",
    "]) ➞ 65700\n",
    "\n",
    "get_budgets([\n",
    "{ \"name\": \"John\", \"age\": 21, \"budget\": 29000 },\n",
    "\n",
    "{ \"name\": \"Steve\", \"age\": 32, \"budget\": 32000 },\n",
    "\n",
    "{ \"name\": \"Martin\", \"age\": 16, \"budget\": 1600 }\n",
    "\n",
    "]) ➞ 62600"
   ]
  },
  {
   "cell_type": "code",
   "execution_count": 6,
   "id": "0abf3f9f",
   "metadata": {},
   "outputs": [
    {
     "name": "stdout",
     "output_type": "stream",
     "text": [
      "People's budget = 65700\n",
      "People's budget = 62600\n"
     ]
    }
   ],
   "source": [
    "# code to return sum of people's budget\n",
    "def get_budgets(dict):\n",
    "    \n",
    "    sum=0\n",
    "    \n",
    "    for i in dict:\n",
    "        \n",
    "        sum=sum+i[\"budget\"]\n",
    "        \n",
    "    print(f'People\\'s budget = {sum}')\n",
    "    \n",
    "get_budgets([ { \"name\": \"John\", \"age\": 21, \"budget\": 23000 },\n",
    "\n",
    "{ \"name\": \"Steve\", \"age\": 32, \"budget\": 40000 },\n",
    "\n",
    "{ \"name\": \"Martin\", \"age\": 16, \"budget\": 2700 }\n",
    "\n",
    "])\n",
    "\n",
    "get_budgets([ { \"name\": \"John\", \"age\": 21, \"budget\": 29000 },\n",
    "\n",
    "{ \"name\": \"Steve\", \"age\": 32, \"budget\": 32000 },\n",
    "\n",
    "{ \"name\": \"Martin\", \"age\": 16, \"budget\": 1600 }\n",
    "\n",
    "])"
   ]
  },
  {
   "cell_type": "markdown",
   "id": "a7df0626",
   "metadata": {},
   "source": [
    "**3.Create a function that takes a string and returns a string with its letters in alphabetical order.**\n",
    "\n",
    "Examples:\n",
    "\n",
    "alphabet_soup(\"hello\") ➞ \"ehllo\"\n",
    "\n",
    "alphabet_soup(\"edabit\") ➞ \"abdeit\"\n",
    "\n",
    "alphabet_soup(\"hacker\") ➞ \"acehkr\"\n",
    "\n",
    "alphabet_soup(\"geek\") ➞ \"eegk\"\n",
    "\n",
    "alphabet_soup(\"javascript\") ➞ \"aacijprstv\""
   ]
  },
  {
   "cell_type": "code",
   "execution_count": 7,
   "id": "25a7fcca",
   "metadata": {},
   "outputs": [
    {
     "name": "stdout",
     "output_type": "stream",
     "text": [
      "Enter the string: hello\n",
      "ehllo\n",
      "Enter the string: edabit\n",
      "abdeit\n",
      "Enter the string: hacker\n",
      "acehkr\n",
      "Enter the string: geek\n",
      "eegk\n",
      "Enter the string: javascript\n",
      "aacijprstv\n"
     ]
    }
   ],
   "source": [
    "# code to arrange letters of a string in alphabetical order\n",
    "\n",
    "def sort_my_string():\n",
    "    \n",
    "    str=input(\"Enter the string: \")\n",
    "    \n",
    "    print(''.join(sorted(str)))\n",
    "\n",
    "for a in range(5):\n",
    "    sort_my_string()"
   ]
  },
  {
   "cell_type": "markdown",
   "id": "d881f89b",
   "metadata": {},
   "source": [
    "**4.What will be the value of your investment at the end of the 10 year period?**\n",
    "\n",
    "Create a function that accepts the principal p, the term in years t, the interest rate r, and the number of compounding periods per year n. The function returns the value at the end of term rounded to the nearest cent.\n",
    "\n",
    "\n",
    "For the example above:\n",
    "\n",
    "compound_interest(10000, 10, 0.06, 12) ➞ 18193.97\n",
    "\n",
    "Note that the interest rate is given as a decimal and n=12 because with monthly compounding there are 12 periods per year. Compounding can also be done annually, quarterly, weekly, or daily.\n",
    "\n",
    "\n",
    "Examples:\n",
    "\n",
    "compound_interest(100, 1, 0.05, 1) ➞ 105.0\n",
    "\n",
    "compound_interest(3500, 15, 0.1, 4) ➞ 15399.26\n",
    "\n",
    "compound_interest(100000, 20, 0.15, 365) ➞ 2007316.26"
   ]
  },
  {
   "cell_type": "code",
   "execution_count": 8,
   "id": "cfacf3fb",
   "metadata": {},
   "outputs": [
    {
     "name": "stdout",
     "output_type": "stream",
     "text": [
      "Compound Interest is:  16532.97705144422\n"
     ]
    }
   ],
   "source": [
    "# code to write function for compound interest compounded n times annually\n",
    "\n",
    "def comp_int(principal, rate,n,time):\n",
    "    \n",
    "    amount=principal*(pow((1+rate/n),n*time))\n",
    "    \n",
    "    CI=amount-principal\n",
    "    \n",
    "    print(\"Compound Interest is: \",CI)\n",
    "    \n",
    "comp_int(10000,0.10,2,10)\n",
    "    "
   ]
  },
  {
   "cell_type": "markdown",
   "id": "4488e9c3",
   "metadata": {},
   "source": [
    "**5.Write a function that takes a list of elements and returns only the integers.**\n",
    "\n",
    "Examples:\n",
    "\n",
    "return_only_integer([9, 2, \"space\", \"car\", \"lion\", 16]) ➞ [9, 2, 16]\n",
    "\n",
    "return_only_integer([\"hello\", 81, \"basketball\", 123, \"fox\"]) ➞ [81, 123]\n",
    "\n",
    "return_only_integer([10, \"121\", 56, 20, \"car\", 3, \"lion\"]) ➞ [10, 56, 20,3]\n",
    "\n",
    "return_only_integer([\"String\", True, 3.3, 1]) ➞ [1]\n"
   ]
  },
  {
   "cell_type": "code",
   "execution_count": 2,
   "id": "7ccb7e42",
   "metadata": {},
   "outputs": [
    {
     "name": "stdout",
     "output_type": "stream",
     "text": [
      "Original list: [9, 2, 'space', 'car', 'lion', 16]\n",
      " Modified list: [9, 2, 16]\n",
      "\n",
      "Original list: ['hello', 81, 'basketball', 123, 'fox']\n",
      " Modified list: [81, 123]\n",
      "\n",
      "Original list: [10, '121', 56, 20, 'car', 3, 'lion']\n",
      " Modified list: [10, 56, 20, 3]\n",
      "\n",
      "Original list: ['String', True, 3.3, 1]\n",
      " Modified list: [1]\n",
      "\n"
     ]
    }
   ],
   "source": [
    "# code to return only the intergers from a list\n",
    "\n",
    "def return_only_int(my_list):\n",
    "    \n",
    "    result=[]\n",
    "    \n",
    "    for i in my_list:\n",
    "        \n",
    "        if type(i)==int:\n",
    "            \n",
    "            result.append(i)\n",
    "            \n",
    "    print(f'Original list: {my_list}\\n Modified list: {result}\\n')\n",
    "    \n",
    "my_list=[9, 2, \"space\", \"car\", \"lion\", 16]  \n",
    "return_only_int(my_list)\n",
    "\n",
    "my_list=[\"hello\", 81, \"basketball\", 123, \"fox\"]\n",
    "return_only_int(my_list)\n",
    "\n",
    "my_list=[10, \"121\", 56, 20, \"car\", 3, \"lion\"]\n",
    "return_only_int(my_list)\n",
    "\n",
    "my_list=[\"String\", True, 3.3, 1]\n",
    "return_only_int(my_list)"
   ]
  }
 ],
 "metadata": {
  "kernelspec": {
   "display_name": "Python 3 (ipykernel)",
   "language": "python",
   "name": "python3"
  },
  "language_info": {
   "codemirror_mode": {
    "name": "ipython",
    "version": 3
   },
   "file_extension": ".py",
   "mimetype": "text/x-python",
   "name": "python",
   "nbconvert_exporter": "python",
   "pygments_lexer": "ipython3",
   "version": "3.9.13"
  }
 },
 "nbformat": 4,
 "nbformat_minor": 5
}
