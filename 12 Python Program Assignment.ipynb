{
 "cells": [
  {
   "cell_type": "markdown",
   "id": "4e827c27",
   "metadata": {},
   "source": [
    "# 12 Python Program Assignment"
   ]
  },
  {
   "cell_type": "markdown",
   "id": "1a10cfd2",
   "metadata": {},
   "source": [
    "1.Write a Python program to Extract Unique values dictionary values."
   ]
  },
  {
   "cell_type": "markdown",
   "id": "9972791b",
   "metadata": {},
   "source": [
    "Sometimes, while working with data, we can have problem in which we need to perform the extraction of only unique values from dictionary values list. This can have application in many domains such as web development."
   ]
  },
  {
   "cell_type": "code",
   "execution_count": 10,
   "id": "2a2b13e6",
   "metadata": {},
   "outputs": [
    {
     "name": "stdout",
     "output_type": "stream",
     "text": [
      "My original dictionary is: {'a': [3, 4, 6, 1], 'b': [2, 6, 11, 3], 'c': [12, 3, 5, 7], 'd': [2, 4, 3]}\n",
      "\n",
      "The unique value list is : [1, 2, 3, 4, 5, 6, 7, 11, 12]\n"
     ]
    }
   ],
   "source": [
    "# code to extract unique values\n",
    "\n",
    "# initiating a dictionary\n",
    "my_dict={'a':[3,4,6,1],\n",
    "        'b':[2,6,11,3],\n",
    "        'c':[12,3,5,7],\n",
    "        'd':[2,4,3]}\n",
    "\n",
    "# printing my dictionary to ensure that the data has been entered correctly\n",
    "print(f\"My original dictionary is: {my_dict}\",end=\"\\n\\n\")\n",
    "\n",
    "x=list(my_dict.values()) # storing all the values of my dictionary in a list\n",
    "\n",
    "y=[] # intializing a blank list y\n",
    "\n",
    "result=[] # intializing another blank list result\n",
    "\n",
    "for i in x: # iterating through the newly created list of all the values\n",
    "    \n",
    "    y.extend(i) # extending the blank list y with all the values i\n",
    "    \n",
    "for i in y: # checking all the elements of list y\n",
    "    \n",
    "    if i not in result: # if the element is not in result, append the element to the blank list result\n",
    "        \n",
    "        result.append(i)\n",
    "        \n",
    "result.sort() # sort out all the elements of list result\n",
    "\n",
    "print(\"The unique value list is : \" + str(result))\n",
    "    "
   ]
  },
  {
   "cell_type": "markdown",
   "id": "e2a85907",
   "metadata": {},
   "source": [
    "2.Write a Python program to find the sum of all items in a dictionary."
   ]
  },
  {
   "cell_type": "code",
   "execution_count": 11,
   "id": "4e16640d",
   "metadata": {},
   "outputs": [
    {
     "name": "stdout",
     "output_type": "stream",
     "text": [
      "The sum of all the items in the dictionary is:  265\n"
     ]
    }
   ],
   "source": [
    "# code to sum all items in a dictionary\n",
    "my_dict={'a': 20,'b':10,'c':50,'d':45,'e':75,'f':65}\n",
    "print(\"The sum of all the items in the dictionary is: \",sum(my_dict.values()))"
   ]
  },
  {
   "cell_type": "markdown",
   "id": "eaf8cca5",
   "metadata": {},
   "source": [
    "3.Write a Python program to Merging two Dictionaries?"
   ]
  },
  {
   "cell_type": "code",
   "execution_count": 13,
   "id": "59c90c11",
   "metadata": {},
   "outputs": [
    {
     "name": "stdout",
     "output_type": "stream",
     "text": [
      "{'tournament': 'cricket', 'counties': ['India', 'Sri Lanka']}\n"
     ]
    }
   ],
   "source": [
    "# code to merge two dictionaries\n",
    "\n",
    "sports={'tournament':'cricket'} # 1st dictionary\n",
    "\n",
    "participants={'counties':['India',\"Sri Lanka\"]} # 2nd dictionary\n",
    "\n",
    "sports.update(participants) # merging the two dictionaries using update function\n",
    "\n",
    "print(sports)"
   ]
  },
  {
   "cell_type": "markdown",
   "id": "b000001d",
   "metadata": {},
   "source": [
    "4.Write a Python program to convert key-values list to flat dictionary."
   ]
  },
  {
   "cell_type": "code",
   "execution_count": 17,
   "id": "1e736e79",
   "metadata": {},
   "outputs": [
    {
     "name": "stdout",
     "output_type": "stream",
     "text": [
      "{'a': 2, 'b': 3, 'c': 5, 'd': 12, 'e': 45, 'f': 30, 'g': 23, 'h': 14, 'i': 11}\n"
     ]
    }
   ],
   "source": [
    "# code to convert key-values to flat dictionary\n",
    "\n",
    "my_list=[('a',2),('b',3),('c',5),('d',12),('e',45),('f',30),('g',23),('h',14),('i',11)] # compiling list with pairs\n",
    "\n",
    "new_dict={} # creating an empty dictionary\n",
    "\n",
    "for i in my_list: # iterating through the list\n",
    "    \n",
    "    new_dict[i[0]]=i[1] # assigning key value pairs\n",
    "    \n",
    "print(new_dict)"
   ]
  },
  {
   "cell_type": "markdown",
   "id": "4e16b8be",
   "metadata": {},
   "source": [
    "5.Write a Python program to insertion at the beginning in OrderedDict."
   ]
  },
  {
   "cell_type": "code",
   "execution_count": 21,
   "id": "933bb639",
   "metadata": {},
   "outputs": [
    {
     "name": "stdout",
     "output_type": "stream",
     "text": [
      "My dictionary:  OrderedDict([('India', 'Rohit'), ('Australia', 'Smith'), ('West Indies', 'Lara')])\n",
      "My dictionary:  OrderedDict([('India', 'Rohit'), ('Australia', 'Smith'), ('West Indies', 'Lara'), ('Sri Lanka', 'Malinga')])\n",
      "My dictionary:  OrderedDict([('Sri Lanka', 'Malinga'), ('India', 'Rohit'), ('Australia', 'Smith'), ('West Indies', 'Lara')])\n"
     ]
    }
   ],
   "source": [
    "# code to insert at the beginning of OrderedDict\n",
    "from collections import OrderedDict\n",
    "my_dict1=OrderedDict({\"India\":\"Rohit\",\"Australia\":'Smith','West Indies':'Lara'})\n",
    "print(\"My dictionary: \",my_dict1)\n",
    "\n",
    "my_dict2={\"Sri Lanka\":\"Malinga\"}\n",
    "my_dict1.update(my_dict2) # adding the new dictionary to my original dictionary\n",
    "print(\"My dictionary: \",my_dict1)\n",
    "\n",
    "my_dict1.move_to_end('Sri Lanka',last=False) # moving the last item to the beginning of my dictionary\n",
    "print(\"My dictionary: \",my_dict1)"
   ]
  },
  {
   "cell_type": "markdown",
   "id": "6e6256a4",
   "metadata": {},
   "source": [
    "6.Write a Python program to check order of character in string using OrderedDict()."
   ]
  },
  {
   "cell_type": "code",
   "execution_count": 26,
   "id": "08c05244",
   "metadata": {},
   "outputs": [
    {
     "name": "stdout",
     "output_type": "stream",
     "text": [
      "My original dictionary:  {'f': 45, 'a': 100, 'z': 25, 'g': 12, 'm': 97, 'o': 63, 'r': 120}\n",
      "\n",
      "My final dictionary:  OrderedDict([('a', 100), ('f', 45), ('g', 12), ('m', 97), ('o', 63), ('r', 120), ('z', 25)])\n"
     ]
    }
   ],
   "source": [
    "# code to check order of character in string\n",
    "from collections import OrderedDict\n",
    "\n",
    "my_dict={'f':50,'a':100,'z':25,'g':12,'m':97,'o':63,'f':45,'r':120}\n",
    "print(\"My original dictionary: \",my_dict,end=\"\\n\\n\")\n",
    "\n",
    "my_final_dict=OrderedDict(dict(sorted(my_dict.items())))\n",
    "print(\"My final dictionary: \",my_final_dict)"
   ]
  },
  {
   "cell_type": "markdown",
   "id": "b7a15de1",
   "metadata": {},
   "source": [
    "7.Write a Python program to sort Python Dictionaries by Key or Value."
   ]
  },
  {
   "cell_type": "code",
   "execution_count": 32,
   "id": "2c123e73",
   "metadata": {},
   "outputs": [
    {
     "name": "stdout",
     "output_type": "stream",
     "text": [
      "{'Pandya': 40, 'Rohit': 60, 'Surya': 50, 'Virat': 70}\n",
      "{'Pandya': 40, 'Surya': 50, 'Rohit': 60, 'Virat': 70}\n"
     ]
    }
   ],
   "source": [
    "# code to sort python dictionary by key or by value\n",
    "my_dict2={\"Rohit\":60,\"Virat\":70,\"Surya\":50,\"Pandya\":40}\n",
    "def sort(dict1,sort_type):\n",
    "    if sort_type=='key':\n",
    "        print(dict(sorted(dict1.items(),key=lambda x:x[0],reverse=False,)))\n",
    "    else:\n",
    "        print(dict(sorted(dict1.items(),key=lambda x:x[1],reverse=False)))\n",
    "        \n",
    "sort(my_dict2,'key')\n",
    "sort(my_dict2,'value')"
   ]
  },
  {
   "cell_type": "code",
   "execution_count": null,
   "id": "8966cdcc",
   "metadata": {},
   "outputs": [],
   "source": []
  }
 ],
 "metadata": {
  "kernelspec": {
   "display_name": "Python 3 (ipykernel)",
   "language": "python",
   "name": "python3"
  },
  "language_info": {
   "codemirror_mode": {
    "name": "ipython",
    "version": 3
   },
   "file_extension": ".py",
   "mimetype": "text/x-python",
   "name": "python",
   "nbconvert_exporter": "python",
   "pygments_lexer": "ipython3",
   "version": "3.9.13"
  }
 },
 "nbformat": 4,
 "nbformat_minor": 5
}
