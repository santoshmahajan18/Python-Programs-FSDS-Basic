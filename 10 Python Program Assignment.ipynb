{
 "cells": [
  {
   "cell_type": "markdown",
   "id": "35370f0c",
   "metadata": {},
   "source": [
    "# 10 Python Program Assignment"
   ]
  },
  {
   "cell_type": "markdown",
   "id": "4ba26318",
   "metadata": {},
   "source": [
    "1.Write a Python Program to find sum of elements in a list."
   ]
  },
  {
   "cell_type": "code",
   "execution_count": 1,
   "id": "8f982c44",
   "metadata": {},
   "outputs": [
    {
     "name": "stdout",
     "output_type": "stream",
     "text": [
      "Sum of elements of the given list is:  21\n"
     ]
    }
   ],
   "source": [
    "# code to find sum of elements in a list\n",
    "sum=0\n",
    "list=[1,2,3,4,5,6]\n",
    "for i in range(len(list)):\n",
    "    sum=sum+list[i]\n",
    "print(\"Sum of elements of the given list is: \",sum)"
   ]
  },
  {
   "cell_type": "markdown",
   "id": "3cd40a76",
   "metadata": {},
   "source": [
    "2.Write a Python Program to multiply all numbers in the list."
   ]
  },
  {
   "cell_type": "code",
   "execution_count": 3,
   "id": "56bf6f51",
   "metadata": {},
   "outputs": [
    {
     "name": "stdout",
     "output_type": "stream",
     "text": [
      "The product of all the elements in the given list is:  10752\n"
     ]
    }
   ],
   "source": [
    "# code to multiply all numbers in a list\n",
    "mul=1\n",
    "my_list1 = [2,4,6,4,7,8]\n",
    "for i in range(len(my_list1)):\n",
    "    mul=mul * my_list1[i]\n",
    "print(\"The product of all the elements in the given list is: \",mul)"
   ]
  },
  {
   "cell_type": "code",
   "execution_count": 4,
   "id": "4e953e06",
   "metadata": {},
   "outputs": [
    {
     "name": "stdout",
     "output_type": "stream",
     "text": [
      "Please enter total number of elements in the list: 4\n",
      "Please enter your elements one by one: 12\n",
      "Please enter your elements one by one: 12\n",
      "Please enter your elements one by one: 2\n",
      "Please enter your elements one by one: 2\n",
      "The product of all the elements in the list is:  576\n"
     ]
    }
   ],
   "source": [
    "# code to multiply all numbers in a list using a function\n",
    "def mul_list():\n",
    "    tot_ele_in_list=int(input(\"Please enter total number of elements in the list: \"))\n",
    "    my_list2=[]\n",
    "    mult=1\n",
    "    for i in range(tot_ele_in_list):\n",
    "        my_list2.append(int(input(\"Please enter your elements one by one: \")))\n",
    "        mult=mult*my_list2[i]\n",
    "    print(\"The product of all the elements in the list is: \",mult)\n",
    "    \n",
    "mul_list()"
   ]
  },
  {
   "cell_type": "markdown",
   "id": "44c0397e",
   "metadata": {},
   "source": [
    "3. Write a Python Program to find smallest number in the list"
   ]
  },
  {
   "cell_type": "code",
   "execution_count": 5,
   "id": "ff24085c",
   "metadata": {},
   "outputs": [
    {
     "name": "stdout",
     "output_type": "stream",
     "text": [
      "The smallest number in the given list is:  1\n"
     ]
    }
   ],
   "source": [
    "# code to find the smallest number in a list\n",
    "list3=[3,22,56,1,12,45]\n",
    "list3.sort()\n",
    "print(\"The smallest number in the given list is: \",list3[0])"
   ]
  },
  {
   "cell_type": "markdown",
   "id": "1572e0fa",
   "metadata": {},
   "source": [
    "4.Write a Python Program to find largest number in the list."
   ]
  },
  {
   "cell_type": "code",
   "execution_count": 6,
   "id": "1b452d65",
   "metadata": {},
   "outputs": [
    {
     "name": "stdout",
     "output_type": "stream",
     "text": [
      "The largest number in the given list is:  56\n"
     ]
    }
   ],
   "source": [
    "# code to find the largest number in the list\n",
    "list4=[3,22,56,1,12,45]\n",
    "list4.sort()\n",
    "print(\"The largest number in the given list is: \",list4[-1])"
   ]
  },
  {
   "cell_type": "markdown",
   "id": "b67028d7",
   "metadata": {},
   "source": [
    "5.Write a Python Program to find second largest number in the list."
   ]
  },
  {
   "cell_type": "code",
   "execution_count": 7,
   "id": "4105274c",
   "metadata": {},
   "outputs": [
    {
     "name": "stdout",
     "output_type": "stream",
     "text": [
      "The second largest number in the given list is:  45\n"
     ]
    }
   ],
   "source": [
    "# code to find second largest number in the list\n",
    "list4=[3,22,56,1,12,45]\n",
    "list4.sort()\n",
    "print(\"The second largest number in the given list is: \",list4[-2])"
   ]
  },
  {
   "cell_type": "markdown",
   "id": "3f9575e9",
   "metadata": {},
   "source": [
    "6. Write a Python Program to find N largest elements in the list."
   ]
  },
  {
   "cell_type": "code",
   "execution_count": 8,
   "id": "75273704",
   "metadata": {},
   "outputs": [
    {
     "name": "stdout",
     "output_type": "stream",
     "text": [
      "[876, 90, 68, 54]\n"
     ]
    }
   ],
   "source": [
    "# Python program to find N largest\n",
    "# element from given list of integers\n",
    "# Function returns N largest elements\n",
    "\n",
    "def nmax(list1,n):\n",
    "    \n",
    "    final=[] # create a blank list\n",
    "    \n",
    "    for i in range(0,n):\n",
    "        \n",
    "        max1=0 # initalizing first biggest number to zero.\n",
    "        \n",
    "        for j in range(len(list1)): # iterate through all the elements in the list\n",
    "            \n",
    "            if list1[j]>max1: # if the element is greater than zero, max1 takes the value of first element\n",
    "                \n",
    "                max1=list1[j]\n",
    "                \n",
    "        list1.remove(max1) # the largest number from the list is removed\n",
    "        \n",
    "        final.append(max1) # this removed number is stored in the list 'final'\n",
    "        \n",
    "    print(final)\n",
    "    \n",
    "list1=[4,7,33,3,12,68,9,54,32,4,9,876,90]\n",
    "\n",
    "n=4\n",
    "\n",
    "nmax(list1,n)"
   ]
  },
  {
   "cell_type": "markdown",
   "id": "80953dbd",
   "metadata": {},
   "source": [
    "7.Write a Python Program to find even numbers in the list."
   ]
  },
  {
   "cell_type": "code",
   "execution_count": 9,
   "id": "54dbd1d8",
   "metadata": {},
   "outputs": [
    {
     "name": "stdout",
     "output_type": "stream",
     "text": [
      "[4, 12, 68, 54, 32, 4, 876, 90]\n"
     ]
    }
   ],
   "source": [
    "# code to find all the even numbers in the list\n",
    "def num_even(list2): # defining a function\n",
    "    \n",
    "    final_even=[] # creating an empty list first\n",
    "    \n",
    "    for i in range(len(list2)):# iterating through all the elements of the list2\n",
    "        \n",
    "        if list2[i] % 2 == 0: #if the element when divided by 2 gives zero as reminder, the element is even\n",
    "            \n",
    "            final_even.append(list2[i]) # appending all such even numbers to the empty list final_even\n",
    "            \n",
    "    print(final_even) # printing the final list of all even numbers.\n",
    "    \n",
    "list2=[4,7,33,3,12,68,9,54,32,4,9,876,90]\n",
    "num_even(list2)\n",
    "        "
   ]
  },
  {
   "cell_type": "markdown",
   "id": "04def63a",
   "metadata": {},
   "source": [
    "8.Write a Python Program to find odd numbers in the list."
   ]
  },
  {
   "cell_type": "code",
   "execution_count": 10,
   "id": "0df73e41",
   "metadata": {},
   "outputs": [
    {
     "name": "stdout",
     "output_type": "stream",
     "text": [
      "[7, 33, 3, 9, 9]\n"
     ]
    }
   ],
   "source": [
    "# code to find all the odd numbers in the list\n",
    "def num_odd(list2): # defining a function\n",
    "    \n",
    "    final_odd=[] # creating an empty list first\n",
    "    \n",
    "    for i in range(len(list2)):# iterating through all the elements of the list2\n",
    "        \n",
    "        if list2[i] % 2 != 0: #if the element when divided by 2 gives zero as reminder, the element is even\n",
    "            \n",
    "            final_odd.append(list2[i]) # appending all such even numbers to the empty list final_even\n",
    "            \n",
    "    print(final_odd) # printing the final list of all even numbers.\n",
    "    \n",
    "list2=[4,7,33,3,12,68,9,54,32,4,9,876,90]\n",
    "num_odd(list2)"
   ]
  },
  {
   "cell_type": "markdown",
   "id": "7ebbcc9d",
   "metadata": {},
   "source": [
    "9.Write a Python Program to remove empty list from list."
   ]
  },
  {
   "cell_type": "code",
   "execution_count": 11,
   "id": "975098b7",
   "metadata": {},
   "outputs": [
    {
     "name": "stdout",
     "output_type": "stream",
     "text": [
      "The original list is : {my_list}\n",
      "The list after removal of empty list is : [4, 7, 33, 3, 9, [54, 32, 4, 9], 876, 90]\n"
     ]
    }
   ],
   "source": [
    "# function to remove empty list from a list\n",
    "\n",
    "def remove_empty_list(my_list): # defining a fuction\n",
    "    \n",
    "    new_list=[] # initializing an empty list\n",
    "    \n",
    "    for i in my_list: # iterating through all the elements in the list\n",
    "        \n",
    "        if i: # checking if there is an empty list in the given list\n",
    "            \n",
    "            new_list.append(i) # if the element in the list is not an empty list, it will get appended to the new_list\n",
    "            \n",
    "    return new_list # returning the new list after removing all the empty lists\n",
    "\n",
    "my_list=[4,7,33,3,[],9,[54,32,4,9],[],876,[],90]\n",
    "\n",
    "print(r\"The original list is : {my_list}\")\n",
    "\n",
    "print(f'The list after removal of empty list is : {remove_empty_list(my_list)}')\n",
    "    "
   ]
  },
  {
   "cell_type": "markdown",
   "id": "f2fb3fbf",
   "metadata": {},
   "source": [
    "10.Write a Python Program to Cloning or Copying a list."
   ]
  },
  {
   "cell_type": "code",
   "execution_count": 12,
   "id": "c5511f29",
   "metadata": {},
   "outputs": [
    {
     "name": "stdout",
     "output_type": "stream",
     "text": [
      "The orginial list before cloning was: [4, 7, 33, 3, 12, 68, 9, 54, 32, 4, 9, 876, 90]\n",
      "The cloned list after cloning is: [4, 7, 33, 3, 12, 68, 9, 54, 32, 4, 9, 876, 90]\n"
     ]
    }
   ],
   "source": [
    "# code to copy a list\n",
    "\n",
    "def clone(list): # intializing a function\n",
    "    \n",
    "    list_copy=list[:] #copying existing list into a new list\n",
    "    \n",
    "    return list_copy # returning new list\n",
    "\n",
    "list=[4,7,33,3,12,68,9,54,32,4,9,876,90]\n",
    "\n",
    "list1=clone(list)\n",
    "\n",
    "print(f\"The orginial list before cloning was: {list}\")\n",
    "print(f\"The cloned list after cloning is: {list1}\")"
   ]
  },
  {
   "cell_type": "markdown",
   "id": "3391e672",
   "metadata": {},
   "source": [
    "11.Write a Python Program to count occurences of an element in a list."
   ]
  },
  {
   "cell_type": "code",
   "execution_count": 13,
   "id": "d1d651b4",
   "metadata": {},
   "outputs": [
    {
     "name": "stdout",
     "output_type": "stream",
     "text": [
      "The number 5 has occured 6 times in the given list\n"
     ]
    }
   ],
   "source": [
    "# code to count occurences of an element in a list.\n",
    "\n",
    "def count_a(list,a):\n",
    "    count=0\n",
    "    for i in list:\n",
    "        if i==a:\n",
    "            count=count+1\n",
    "    return count\n",
    "\n",
    "list=[2,3,1,4,5,66,23,5,77,65,5,79,90,5,21,5,5]\n",
    "a=5\n",
    "print(f'The number {a} has occured {count_a(list,a)} times in the given list')"
   ]
  },
  {
   "cell_type": "code",
   "execution_count": null,
   "id": "4d2df3db",
   "metadata": {},
   "outputs": [],
   "source": []
  }
 ],
 "metadata": {
  "kernelspec": {
   "display_name": "Python 3 (ipykernel)",
   "language": "python",
   "name": "python3"
  },
  "language_info": {
   "codemirror_mode": {
    "name": "ipython",
    "version": 3
   },
   "file_extension": ".py",
   "mimetype": "text/x-python",
   "name": "python",
   "nbconvert_exporter": "python",
   "pygments_lexer": "ipython3",
   "version": "3.9.13"
  }
 },
 "nbformat": 4,
 "nbformat_minor": 5
}
