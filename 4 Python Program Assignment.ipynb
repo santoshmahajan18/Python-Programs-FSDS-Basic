{
 "cells": [
  {
   "cell_type": "markdown",
   "id": "32094241",
   "metadata": {},
   "source": [
    "# 4 Python Program Assignment"
   ]
  },
  {
   "cell_type": "markdown",
   "id": "277b77c0",
   "metadata": {},
   "source": [
    "1.Write a Python Program to find the factorial of a number."
   ]
  },
  {
   "cell_type": "code",
   "execution_count": 9,
   "id": "9de95702",
   "metadata": {},
   "outputs": [
    {
     "name": "stdout",
     "output_type": "stream",
     "text": [
      "Please enter a number: 5\n",
      "The factorial of 5 is 120\n"
     ]
    }
   ],
   "source": [
    "# code to find factorial of a number\n",
    "def fact(num):\n",
    "    if num < 1:\n",
    "        return 1\n",
    "    else:\n",
    "        return num*fact(num-1)\n",
    "    \n",
    "num=int(input(\"Please enter a number: \"))\n",
    "value=fact(num)\n",
    "print(f'The factorial of {num} is {value}')"
   ]
  },
  {
   "cell_type": "markdown",
   "id": "e5d1f464",
   "metadata": {},
   "source": [
    "2.Write a Python Program to display the multiplication table ?"
   ]
  },
  {
   "cell_type": "code",
   "execution_count": 10,
   "id": "b45d8aa9",
   "metadata": {},
   "outputs": [
    {
     "name": "stdout",
     "output_type": "stream",
     "text": [
      "Please enter a number: 12\n",
      "Enter number of values: 10\n",
      "12 x 1 = 12\n",
      "12 x 2 = 24\n",
      "12 x 3 = 36\n",
      "12 x 4 = 48\n",
      "12 x 5 = 60\n",
      "12 x 6 = 72\n",
      "12 x 7 = 84\n",
      "12 x 8 = 96\n",
      "12 x 9 = 108\n",
      "12 x 10 = 120\n"
     ]
    }
   ],
   "source": [
    "def show_table(num,values):\n",
    "    for i in range(1,values+1):\n",
    "        print(f'{num} x {i} = {num * i}')\n",
    "              \n",
    "num=int(input(\"Please enter a number: \"))\n",
    "values=int(input(\"Enter number of values: \"))\n",
    "show_table(num,values)"
   ]
  },
  {
   "cell_type": "markdown",
   "id": "9fb58e3e",
   "metadata": {},
   "source": [
    "3.Write a Python Program to print the fibonacci sequence ?¶"
   ]
  },
  {
   "cell_type": "code",
   "execution_count": 11,
   "id": "89c5fd29",
   "metadata": {},
   "outputs": [
    {
     "name": "stdout",
     "output_type": "stream",
     "text": [
      "Please enter a number: 10\n",
      "Fibonacci sequence: \n",
      "0 , 1, 1 , 2 , 3 , 5 , 8 , 13 , 21 , 34 , "
     ]
    }
   ],
   "source": [
    "# code to print fibonacci series\n",
    "n = int(input(\"Please enter a number: \"))\n",
    "n1 = 0\n",
    "n2 = 1\n",
    "count = 2\n",
    "if n < 0:\n",
    "    print(\"Please enter a non-negative number.\")\n",
    "elif n==1:\n",
    "    print(\"Fibonacci sequence: \")\n",
    "    print(n1)\n",
    "else:\n",
    "    print(\"Fibonacci sequence: \")\n",
    "    print(n1,\",\",n2,end = ', ')\n",
    "    while count < n:\n",
    "        nth = n1 + n2\n",
    "        print(nth,end=' , ')\n",
    "        #update values\n",
    "        n1 = n2\n",
    "        n2 = nth\n",
    "        count = count + 1\n",
    "        "
   ]
  },
  {
   "cell_type": "markdown",
   "id": "03bd6278",
   "metadata": {},
   "source": [
    "4.Write a Python Program to check Armstrong number ?"
   ]
  },
  {
   "cell_type": "markdown",
   "id": "d10b6a8e",
   "metadata": {},
   "source": [
    "An armstrong number in python is a positive integer of base n, and the sum of each digit of the Armstrong number of order n is equal to the number itself.\n",
    "\n",
    "For example 371 a three digit number is = `3**3` + `7**3`+ `1**3`. Hence 271 is an Armstrong number."
   ]
  },
  {
   "cell_type": "code",
   "execution_count": 12,
   "id": "00001f5a",
   "metadata": {},
   "outputs": [
    {
     "name": "stdout",
     "output_type": "stream",
     "text": [
      "Please enter a number: 153\n",
      "Given number 153 is an Armstrong number.\n"
     ]
    }
   ],
   "source": [
    "# code to check if a number is Armstrong number\n",
    "n=int(input(\"Please enter a number: \"))\n",
    "a=n # assigning value of n to a variable a\n",
    "b=len(str(n)) # total number of digits in n\n",
    "sum=0\n",
    "while n!=0:\n",
    "    r=n%10\n",
    "    sum=sum+(r**b)\n",
    "    n=n//10\n",
    "if a==sum:\n",
    "    print(f\"Given number {a} is an Armstrong number.\")\n",
    "else:\n",
    "    print(f\"Given number {a} is not an Armstrong number\" )\n",
    "    "
   ]
  },
  {
   "cell_type": "markdown",
   "id": "ee7bf7b0",
   "metadata": {},
   "source": [
    "6.Write a Python Program to sum of natural numbers."
   ]
  },
  {
   "cell_type": "code",
   "execution_count": 13,
   "id": "ed28adaf",
   "metadata": {},
   "outputs": [
    {
     "name": "stdout",
     "output_type": "stream",
     "text": [
      "Please enter a number: 7\n",
      "The sum of first n natural numbers is:  28\n"
     ]
    }
   ],
   "source": [
    "# code to sum n natural numbers\n",
    "n=int(input(\"Please enter a number: \"))\n",
    "sum=0\n",
    "for i in range(n+1):\n",
    "    sum=sum+i\n",
    "print(\"The sum of first n natural numbers is: \",sum)"
   ]
  },
  {
   "cell_type": "code",
   "execution_count": 8,
   "id": "405128e5",
   "metadata": {},
   "outputs": [
    {
     "name": "stdout",
     "output_type": "stream",
     "text": [
      "Please enter a number: 8\n",
      "The sum of first n natural numbers is:  36\n"
     ]
    }
   ],
   "source": [
    "# another way of calculating sum of first n natural numbers\n",
    "# this method is called using recursion\n",
    "\n",
    "n=int(input(\"Please enter a number: \"))\n",
    "\n",
    "def sum(n):\n",
    "  if n == 1:\n",
    "    return 1\n",
    "  return n + sum(n-1)\n",
    "\n",
    "print(\"The sum of first n natural numbers is: \",sum(n))"
   ]
  },
  {
   "cell_type": "code",
   "execution_count": null,
   "id": "f07d3523",
   "metadata": {},
   "outputs": [],
   "source": []
  }
 ],
 "metadata": {
  "kernelspec": {
   "display_name": "Python 3 (ipykernel)",
   "language": "python",
   "name": "python3"
  },
  "language_info": {
   "codemirror_mode": {
    "name": "ipython",
    "version": 3
   },
   "file_extension": ".py",
   "mimetype": "text/x-python",
   "name": "python",
   "nbconvert_exporter": "python",
   "pygments_lexer": "ipython3",
   "version": "3.9.13"
  }
 },
 "nbformat": 4,
 "nbformat_minor": 5
}
