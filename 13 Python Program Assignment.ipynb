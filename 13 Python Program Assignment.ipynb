{
 "cells": [
  {
   "cell_type": "markdown",
   "id": "8c890f10",
   "metadata": {},
   "source": [
    "# 13 Python Program Assignment"
   ]
  },
  {
   "cell_type": "markdown",
   "id": "c9cef0f8",
   "metadata": {},
   "source": [
    "**1.Write a program that calculates and prints the value according to the given formula:**\n",
    "\n",
    "Q = Square root of [(2 * C * D)/H]\n",
    "\n",
    "Following are the fixed values of C and H:\n",
    "\n",
    "C is 50. H is 30.\n",
    "\n",
    "D is the variable whose values should be input to your program in a comma-separated sequence.\n",
    "\n",
    "Example: Let us assume the following comma separated input sequence is given to the program:100,150,180\n",
    "\n",
    "The output of the program should be: 18,22,24"
   ]
  },
  {
   "cell_type": "code",
   "execution_count": 10,
   "id": "45696f3b",
   "metadata": {},
   "outputs": [
    {
     "name": "stdout",
     "output_type": "stream",
     "text": [
      "Please enter your input: 100,150,160\n",
      "Output is 18,22,23\n"
     ]
    }
   ],
   "source": [
    "# code to calculate values\n",
    "from math import sqrt\n",
    "def my_calci():\n",
    "    num=eval(input(\"Please enter your input: \"))\n",
    "    result=[]\n",
    "    C=50 # already declared\n",
    "    H=30 # already declared\n",
    "    for i in num:\n",
    "        Q=str(int(sqrt((2 * C * i)/H)))\n",
    "        result.append(Q)\n",
    "    print(\"Output is {}\".format(','.join(result)))\n",
    "    \n",
    "my_calci()"
   ]
  },
  {
   "cell_type": "markdown",
   "id": "23cf1e91",
   "metadata": {},
   "source": [
    "**2.Write a program which takes 2 digits, X,Y as input and generates a 2-dimensional array. The element value in the i-th row and j-th column of the array should be i*j.**\n",
    "\n",
    "Note: i=0,1.., X-1; j=0,1,¡Y-1.\n",
    "\n",
    "Example: Suppose the following inputs are given to the program: 3,5\n",
    "\n",
    "Then, the output of the program should be:[[0, 0, 0, 0, 0], [0, 1, 2, 3, 4], [0, 2, 4, 6, 8]]"
   ]
  },
  {
   "cell_type": "code",
   "execution_count": 11,
   "id": "253903d3",
   "metadata": {},
   "outputs": [
    {
     "name": "stdout",
     "output_type": "stream",
     "text": [
      "Please enter number of rows: 4\n",
      "Please enter number of columns: 5\n",
      "[[0, 0, 0, 0, 0], [0, 1, 2, 3, 4], [0, 2, 4, 6, 8], [0, 3, 6, 9, 12]]\n"
     ]
    }
   ],
   "source": [
    "# code to generate an array\n",
    "import array as arr\n",
    "def gen_array():\n",
    "    x_row=int(input(\"Please enter number of rows: \"))\n",
    "    y_col=int(input(\"Please enter number of columns: \"))\n",
    "    output_array=[]\n",
    "    for i in range(x_row):\n",
    "        output_array.insert(x_row,[])\n",
    "        for j in range(y_col):\n",
    "            output_array[i].append(i*j)\n",
    "            \n",
    "    print(output_array)\n",
    "    \n",
    "gen_array()"
   ]
  },
  {
   "cell_type": "markdown",
   "id": "16d43a56",
   "metadata": {},
   "source": [
    "**3.Write a program that accepts a comma separated sequence of words as input and prints the words in a comma-separated sequence after sorting them alphabetically.**\n",
    "\n",
    "Suppose the following input is supplied to the program: without,hello,bag,world\n",
    "Then, the output should be: bag,hello,without,world"
   ]
  },
  {
   "cell_type": "code",
   "execution_count": 4,
   "id": "e344beeb",
   "metadata": {},
   "outputs": [
    {
     "name": "stdout",
     "output_type": "stream",
     "text": [
      "Please enter your string: without,hello,bag,world\n",
      "\n",
      "\n",
      "Output: bag,hello,without,world\n",
      "\n"
     ]
    }
   ],
   "source": [
    "# code to separate out words in alphabetical sequence\n",
    "def sort_fun():\n",
    "    \n",
    "    my_input=input(\"Please enter your string: \")\n",
    "    \n",
    "    result=','.join(sorted(my_input.split(',')))\n",
    "    \n",
    "    print(f\"\\n\\nOutput: {result}\",end='\\n\\n')\n",
    "    \n",
    "sort_fun()"
   ]
  },
  {
   "cell_type": "markdown",
   "id": "7e2dc0f6",
   "metadata": {},
   "source": [
    "**4.Write a program that accepts a sequence of whitespace separated words as input and prints the words after removing all duplicate words and sorting them alphanumerically.**\n",
    "\n",
    "Suppose the following input is supplied to the program: \n",
    "hello world and practice makes perfect and hello world again\n",
    "\n",
    "Then, the output should be: again and hello makes perfect practice world"
   ]
  },
  {
   "cell_type": "code",
   "execution_count": 9,
   "id": "7f683eeb",
   "metadata": {},
   "outputs": [
    {
     "name": "stdout",
     "output_type": "stream",
     "text": [
      "Please enter your string: hello world and practice makes perfect and hello world again\n",
      "\n",
      "\n",
      "The output string is: again and hello makes perfect practice world\n"
     ]
    }
   ],
   "source": [
    "# code to remove repeatative words\n",
    "def sort_fun():\n",
    "    \n",
    "    my_input=input(\"Please enter your string: \")\n",
    "    \n",
    "    result = ' '.join(sorted(list(set(my_input.split(\" \")))))\n",
    "    print(f'\\n\\nThe output string is: {result}')\n",
    "    \n",
    "sort_fun()\n"
   ]
  },
  {
   "cell_type": "markdown",
   "id": "3b87573b",
   "metadata": {},
   "source": [
    "**5.Write a program that accepts a sentence and calculate the number of letters and digits.**\n",
    "\n",
    "Suppose the following input is supplied to the program: hello world! 123\n",
    "\n",
    "Then, the output should be:\n",
    "\n",
    "LETTERS 10\n",
    "\n",
    "DIGITS 3"
   ]
  },
  {
   "cell_type": "code",
   "execution_count": 15,
   "id": "a4ec05b0",
   "metadata": {},
   "outputs": [
    {
     "name": "stdout",
     "output_type": "stream",
     "text": [
      "Please enter your string: India is a growing economy in the year 2023\n",
      "\n",
      "\n",
      "The number of alphabets in the given string : India is a growing economy in the year 2023 , are : 31 and number of digits in the given string are : 4\n"
     ]
    }
   ],
   "source": [
    "# code to count the number of letter and digits in a string.\n",
    "def sort_fun():\n",
    "    \n",
    "    my_input=input(\"Please enter your string: \")\n",
    "    \n",
    "    list_of_alpha = 'ABCDEFGHIJKLMNOPQRSTUVWXYZabcdefghijklmnopqrstuvwxyz'\n",
    "    list_of_digits = '0123456789'\n",
    "    num_letters=0\n",
    "    num_digits=0\n",
    "    for i in my_input:\n",
    "        if i in list_of_alpha:\n",
    "            num_letters=num_letters+1\n",
    "        if i in list_of_digits:\n",
    "            num_digits=num_digits+1\n",
    "    print(f\"\\n\\nThe number of alphabets in the given string : {my_input} , are : {num_letters} and number of digits in the given string are : {num_digits}\")\n",
    "          \n",
    "sort_fun()            "
   ]
  },
  {
   "cell_type": "markdown",
   "id": "605af926",
   "metadata": {},
   "source": [
    "**6.A website requires the users to input username and password to register. Write a program to check the validity of password input by users.**\n",
    "\n",
    "Following are the criteria for checking the password:\n",
    "\n",
    "At least 1 letter between [a-z]\n",
    "\n",
    "At least 1 number between [0-9]\n",
    "\n",
    "At least 1 letter between [A-Z]\n",
    "\n",
    "At least 1 character from [$#@]\n",
    "\n",
    "Minimum length of transaction password: 6\n",
    "\n",
    "Maximum length of transaction password: 12\n",
    "\n",
    "Your program should accept a sequence of comma separated passwords and will check them according to the above criteria. Passwords that match the criteria are to be printed, each separated by a comma.\n",
    "\n",
    "Example:\n",
    "\n",
    "If the following passwords are given as input to the program: ABd1234@1,a F1#,2w3E*,2We3345\n",
    "\n",
    "Then, the output of the program should be:ABd1234@1"
   ]
  },
  {
   "cell_type": "code",
   "execution_count": 9,
   "id": "ea197b10",
   "metadata": {},
   "outputs": [
    {
     "name": "stdout",
     "output_type": "stream",
     "text": [
      "Please enter your input string: ABd1234@1,a F1#,2w3E*,2We3345,23RH@qrs,##WEaRT765\n",
      "Following password is a valid passwords: ABd1234@1\n",
      "Following password is a valid passwords: 23RH@qrs\n",
      "Following password is a valid passwords: ##WEaRT765\n"
     ]
    }
   ],
   "source": [
    "# code to check the validity of password input by users\n",
    "def chk_valid():\n",
    "    my_string=input(\"Please enter your input string: \")\n",
    "#     small_alpha='abcdefghijklmnopqurstuvwxyz'\n",
    "#     cap_alpha='ABCDEFGHIJKLMNOPQRSTUVWXYZ'\n",
    "    num='0123456789'\n",
    "    sp_char='$#@'\n",
    "    for unit in my_string.split(','):\n",
    "        if len(unit)>=6 and len(unit)<=12:\n",
    "            if any(i.isupper() for i in unit): # checking for upper case alphabet in a password\n",
    "                if any(i.islower() for i in unit): # checking for lower case alphabet in a password\n",
    "                    if any(i for i in unit if i in sp_char): # checking for special character $#@ in a password\n",
    "                        if any(i.isdigit() for i in unit): # checking for digits in a password\n",
    "                            print(f'Following password is a valid passwords: {unit}')\n",
    "                    \n",
    "chk_valid() # ABd1234@1,a F1#,2w3E*,2We3345,23RH@qrs,##WEaRT765"
   ]
  },
  {
   "cell_type": "code",
   "execution_count": null,
   "id": "ad0fb93f",
   "metadata": {},
   "outputs": [],
   "source": []
  }
 ],
 "metadata": {
  "kernelspec": {
   "display_name": "Python 3 (ipykernel)",
   "language": "python",
   "name": "python3"
  },
  "language_info": {
   "codemirror_mode": {
    "name": "ipython",
    "version": 3
   },
   "file_extension": ".py",
   "mimetype": "text/x-python",
   "name": "python",
   "nbconvert_exporter": "python",
   "pygments_lexer": "ipython3",
   "version": "3.9.13"
  }
 },
 "nbformat": 4,
 "nbformat_minor": 5
}
