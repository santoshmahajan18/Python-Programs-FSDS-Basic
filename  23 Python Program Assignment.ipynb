{
 "cells": [
  {
   "cell_type": "markdown",
   "id": "41c8d226",
   "metadata": {},
   "source": [
    "# 23 Python Program Assignment"
   ]
  },
  {
   "cell_type": "markdown",
   "id": "bcdeb5b3",
   "metadata": {},
   "source": [
    "**1.Create a function that takes a number as an argument and returns True or False depending on whether the number is symmetrical or not. A number is symmetrical when it is the same as its reverse.**\n",
    "\n",
    "Examples:\n",
    "\n",
    "is_symmetrical(7227) ➞ True\n",
    "\n",
    "is_symmetrical(12567) ➞ False\n",
    "\n",
    "is_symmetrical(44444444) ➞ True\n",
    "\n",
    "is_symmetrical(9939) ➞ False\n",
    "\n",
    "is_symmetrical(1112111) ➞ True"
   ]
  },
  {
   "cell_type": "code",
   "execution_count": 6,
   "id": "f83fe1fb",
   "metadata": {},
   "outputs": [
    {
     "name": "stdout",
     "output_type": "stream",
     "text": [
      "Please enter your number: 7227\n",
      "7227 is symmetrical\n",
      "\n",
      "Please enter your number: 12567\n",
      "12567 is not symmetrical\n",
      "\n",
      "Please enter your number: 44444444\n",
      "44444444 is symmetrical\n",
      "\n",
      "Please enter your number: 9939\n",
      "9939 is not symmetrical\n",
      "\n",
      "Please enter your number: 1112111\n",
      "1112111 is symmetrical\n",
      "\n"
     ]
    }
   ],
   "source": [
    "# code to find if a number is symmetrical or not. A number is symmetrical when it is same as its reverse.\n",
    "def is_symmetrical():\n",
    "    s=input(\"Please enter your number: \")\n",
    "    if s[::]==s[::-1]:\n",
    "        print(f'{s} is symmetrical\\n')\n",
    "    else:\n",
    "        print(f'{s} is not symmetrical\\n')\n",
    "        \n",
    "for a in range(5):\n",
    "    is_symmetrical()"
   ]
  },
  {
   "cell_type": "markdown",
   "id": "9f84f920",
   "metadata": {},
   "source": [
    "**2.Given a string of numbers separated by a comma and space, return the product of the numbers.**\n",
    "\n",
    "Examples:\n",
    "    \n",
    "multiply_nums(\"2, 3\") ➞ 6\n",
    "\n",
    "multiply_nums(\"1, 2, 3, 4\") ➞ 24\n",
    "\n",
    "multiply_nums(\"54, 75, 453, 0\") ➞ 0\n",
    "\n",
    "multiply_nums(\"10, -2\") ➞ -20"
   ]
  },
  {
   "cell_type": "code",
   "execution_count": 34,
   "id": "58de1bf0",
   "metadata": {},
   "outputs": [
    {
     "name": "stdout",
     "output_type": "stream",
     "text": [
      "The new lits of all the numbers is : ['1', ',', ' ', '2', ',', ' ', '3', ',', ' ', '4']\n",
      "The sliced list is : ['1', '2', '3', '4']\n"
     ]
    },
    {
     "data": {
      "text/plain": [
       "24"
      ]
     },
     "execution_count": 34,
     "metadata": {},
     "output_type": "execute_result"
    }
   ],
   "source": [
    "# code to multiply string of numbers separated by comma and space\n",
    "import math\n",
    "\n",
    "def multiply_nums(nums):\n",
    "\n",
    "        int_list=[] # creating a blank list\n",
    "        \n",
    "        new_list=list(nums) # converting the input string into a list\n",
    "        \n",
    "        print(f'The new lits of all the numbers is : {new_list}') # printing this new list\n",
    "        \n",
    "        sliced_list=new_list[0::3] # this new list consists of , blank space. So eliminating these elements\n",
    "        \n",
    "        print(f'The sliced list is : {sliced_list}') # this is a derived list consisting only of strings\n",
    "        \n",
    "        for element in sliced_list:\n",
    "            \n",
    "            int_element=int(element) # converting each element of the sliced list to an integer\n",
    "            \n",
    "            int_list.append(int_element) # appending this int element to the integer list\n",
    "            \n",
    "        return math.prod(int_list) # using product function to multiple all the integers of a list\n",
    "                \n",
    "multiply_nums(\"1, 2, 3, 4\")\n",
    "    "
   ]
  },
  {
   "cell_type": "code",
   "execution_count": 27,
   "id": "f7e0819c",
   "metadata": {},
   "outputs": [
    {
     "name": "stdout",
     "output_type": "stream",
     "text": [
      "Input String is: 2, 3\n",
      "Output String is: ['2', '3']\n",
      "2, 3 ➞ 6\n"
     ]
    }
   ],
   "source": [
    "# another way to write same code\n",
    "\n",
    "def multiply_nums(input_string):\n",
    "    \n",
    "    output_string = input_string.replace(' ','').split(',') # replacing the blank space with no space and splitting the string\n",
    "    \n",
    "    print(f'Input String is: {input_string}')\n",
    "    \n",
    "    print(f'Output String is: {output_string}')\n",
    "    \n",
    "    output_number = 1\n",
    "    \n",
    "    for element in output_string:\n",
    "        \n",
    "        output_number = output_number * int(element)\n",
    "        \n",
    "    print(f'{input_string} ➞ {output_number}')\n",
    "    \n",
    "multiply_nums(\"2, 3\")"
   ]
  },
  {
   "cell_type": "markdown",
   "id": "870a17d1",
   "metadata": {},
   "source": [
    "**3.Create a function that squares every digit of a number.**\n",
    "\n",
    "Examples:\n",
    "\n",
    "square_digits(9119) ➞ 811181\n",
    "\n",
    "square_digits(2483) ➞ 416649\n",
    "\n",
    "square_digits(3212) ➞ 9414\n",
    "\n",
    "Notes:\n",
    "\n",
    "The function receives an integer and must return an integer."
   ]
  },
  {
   "cell_type": "code",
   "execution_count": 56,
   "id": "bcfcff8b",
   "metadata": {},
   "outputs": [
    {
     "name": "stdout",
     "output_type": "stream",
     "text": [
      "The input number is: 9119\n",
      "The derived input list is: ['81', '1', '1', '81']\n",
      "The output is :811181\n",
      "\n",
      "The input number is: 2483\n",
      "The derived input list is: ['4', '16', '64', '9']\n",
      "The output is :416649\n",
      "\n",
      "The input number is: 3212\n",
      "The derived input list is: ['9', '4', '1', '4']\n",
      "The output is :9414\n",
      "\n",
      "The input number is: 525\n",
      "The derived input list is: ['25', '4', '25']\n",
      "The output is :25425\n",
      "\n"
     ]
    }
   ],
   "source": [
    "# code to square every digit of a number\n",
    "\n",
    "def digi_square(num): # creating a function\n",
    "    \n",
    "    input_list=[] # creating a blank input list\n",
    "    \n",
    "    for element in str(num): # considering the number as string and iterating through each digit\n",
    "        \n",
    "        a=int(element)**2 # coverting each element of string into integer and squaring it\n",
    "        \n",
    "        input_list.append(str(a)) # converting the square back to a string and appending it to the input list\n",
    "        \n",
    "    print(f'The input number is: {num}')\n",
    "    \n",
    "    print(f'The derived input list is: {input_list}') # printing this input list to see the elements of this list\n",
    "    \n",
    "    result=''.join(input_list) # joining the elements of input list together and forming a new string\n",
    "    \n",
    "    print(f'The output is :{result}\\n')\n",
    "    \n",
    "\n",
    "digi_square(9119)\n",
    "\n",
    "digi_square(2483)\n",
    "\n",
    "digi_square(3212)\n",
    "\n",
    "digi_square(525)"
   ]
  },
  {
   "cell_type": "markdown",
   "id": "5cc9144e",
   "metadata": {},
   "source": [
    "**4.Create a function that sorts a list and removes all duplicate items from it.**\n",
    "\n",
    "Examples:\n",
    "\n",
    "setify([1, 3, 3, 5, 5]) ➞ [1, 3, 5]\n",
    "\n",
    "setify([4, 4, 4, 4]) ➞ [4]\n",
    "\n",
    "setify([5, 7, 8, 9, 10, 15]) ➞ [5, 7, 8, 9, 10, 15]\n",
    "\n",
    "setify([3, 3, 3, 2, 1]) ➞ [1, 2, 3]"
   ]
  },
  {
   "cell_type": "code",
   "execution_count": 59,
   "id": "3079577c",
   "metadata": {},
   "outputs": [
    {
     "name": "stdout",
     "output_type": "stream",
     "text": [
      "My input list is [1, 3, 3, 5, 5]\n",
      " My output list is [1, 3, 5]\n",
      "\n",
      "<class 'list'>\n",
      "My input list is [4, 4, 4, 4]\n",
      " My output list is [4]\n",
      "\n",
      "<class 'list'>\n",
      "My input list is [5, 7, 8, 9, 10, 15]\n",
      " My output list is [5, 7, 8, 9, 10, 15]\n",
      "\n",
      "<class 'list'>\n",
      "My input list is [3, 3, 3, 2, 1]\n",
      " My output list is [1, 2, 3]\n",
      "\n",
      "<class 'list'>\n"
     ]
    }
   ],
   "source": [
    "# code to remove all duplicates items from a list\n",
    "\n",
    "def setify(my_list):\n",
    "    \n",
    "    result_list=sorted(set(my_list)) # first converting given list to a set, then sorting it and storing it into a new list .\n",
    "    \n",
    "    print(f'My input list is {my_list}\\n My output list is {result_list}\\n')\n",
    "    \n",
    "setify([1, 3, 3, 5, 5])\n",
    "\n",
    "setify([4, 4, 4, 4])\n",
    "\n",
    "setify([5, 7, 8, 9, 10, 15]) \n",
    "\n",
    "setify([3, 3, 3, 2, 1])\n",
    "    "
   ]
  },
  {
   "cell_type": "markdown",
   "id": "cecd5223",
   "metadata": {},
   "source": [
    "**5.Create a function that returns the mean of all digits.**\n",
    "\n",
    "Examples:\n",
    "\n",
    "mean(42) ➞ 3\n",
    "\n",
    "mean(12345) ➞ 3\n",
    "\n",
    "mean(666) ➞ 6\n",
    "\n",
    "Notes:\n",
    "\n",
    "1.The mean of all digits is the sum of digits / how many digits there are (e.g. mean of digits in 512 is (5+1+2)/3(number of digits) = 8/3=2).\n",
    "\n",
    "2.The mean will always be an integer."
   ]
  },
  {
   "cell_type": "code",
   "execution_count": 64,
   "id": "bf77256e",
   "metadata": {},
   "outputs": [
    {
     "name": "stdout",
     "output_type": "stream",
     "text": [
      "Please enter number: 42\n",
      "The average of all the digits of the number 42 is 3.0\n",
      "\n",
      "Please enter number: 12345\n",
      "The average of all the digits of the number 12345 is 3.0\n",
      "\n",
      "Please enter number: 666\n",
      "The average of all the digits of the number 666 is 6.0\n",
      "\n"
     ]
    }
   ],
   "source": [
    "# code to find mean of all the digits of a given number\n",
    "def mean():\n",
    "    \n",
    "    s=input(\"Please enter number: \")\n",
    "    \n",
    "    sum=0 # initializing a sum to zero\n",
    "    \n",
    "    for ele in str(s): # s is a string. Iterating through each element of the string\n",
    "        \n",
    "        sum = sum + int(ele) # coverting each element into an integer and adding it to sum\n",
    "        \n",
    "    sum=sum/len(s) # averaging out the sum\n",
    "    \n",
    "    print(f'The average of all the digits of the number {s} is {sum}\\n')\n",
    "    \n",
    "for a in range(3):\n",
    "    mean()     "
   ]
  },
  {
   "cell_type": "code",
   "execution_count": null,
   "id": "78eb18c5",
   "metadata": {},
   "outputs": [],
   "source": []
  }
 ],
 "metadata": {
  "kernelspec": {
   "display_name": "Python 3 (ipykernel)",
   "language": "python",
   "name": "python3"
  },
  "language_info": {
   "codemirror_mode": {
    "name": "ipython",
    "version": 3
   },
   "file_extension": ".py",
   "mimetype": "text/x-python",
   "name": "python",
   "nbconvert_exporter": "python",
   "pygments_lexer": "ipython3",
   "version": "3.9.13"
  }
 },
 "nbformat": 4,
 "nbformat_minor": 5
}
