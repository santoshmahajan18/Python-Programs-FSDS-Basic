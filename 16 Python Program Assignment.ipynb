{
 "cells": [
  {
   "cell_type": "markdown",
   "id": "f940bbf1",
   "metadata": {},
   "source": [
    "# 16 Python Program Assignment"
   ]
  },
  {
   "cell_type": "markdown",
   "id": "7ce3e144",
   "metadata": {},
   "source": [
    "**1.Write a function that stutters a word as if someone is struggling to read it. The first two letters are repeated twice with an ellipsis ... and space after each, and then the word is pronounced with a question mark ?**\n",
    "\n",
    "Examples: stutter(\"incredible\") ➞ \"in... in... incredible?\"\n",
    "\n",
    "stutter(\"enthusiastic\") ➞ \"en... en... enthusiastic?\"\n",
    "\n",
    "stutter(\"outstanding\") ➞ \"ou... ou... outstanding?\"\n",
    "\n",
    "Hint :- Assume all input is in lower case and at least two characters long."
   ]
  },
  {
   "cell_type": "code",
   "execution_count": null,
   "id": "10343d83",
   "metadata": {},
   "outputs": [],
   "source": [
    "# code to show stuttering\n",
    "def stutter():\n",
    "    s=input(\"Please enter your word: \")\n",
    "    result=s.replace(s[0:2],((s[0:2]+'...')*2)+s[0:2])+'?'\n",
    "    print(f'{s}---->{result}')\n",
    "    \n",
    "for i in range(3):\n",
    "    stutter()\n",
    "    "
   ]
  },
  {
   "cell_type": "markdown",
   "id": "bb52dfcf",
   "metadata": {},
   "source": [
    "**2.Create a function that takes an angle in radians and returns the corresponding angle in degrees rounded to one decimal place.**\n",
    "\n",
    "Examples:\n",
    "\n",
    "radians_to_degrees(1) ➞ 57.3\n",
    "\n",
    "radians_to_degrees(20) ➞ 1145.9\n",
    "\n",
    "radians_to_degrees(50) ➞ 2864.8"
   ]
  },
  {
   "cell_type": "code",
   "execution_count": null,
   "id": "a74395a3",
   "metadata": {},
   "outputs": [],
   "source": [
    "# code to change angle from radians to degrees\n",
    "import math\n",
    "def change_rad():\n",
    "    s=int(input(\"Please enter the angle in radians: \"))\n",
    "    result=(180/math.pi)*s\n",
    "    print(f'The conversion of radians {s} ---> degrees {result}')\n",
    "    \n",
    "for x in range(4):\n",
    "    change_rad()"
   ]
  },
  {
   "cell_type": "markdown",
   "id": "382b1402",
   "metadata": {},
   "source": [
    "**3.In this challenge, establish if a given integer num is a Curzon number. If 1 plus 2 elevated to num is exactly divisible by 1 plus 2 multiplied by num, then num is a Curzon number. Given a non-negative integer num, implement a function that returns True if num is a Curzon number, or False otherwise.**\n",
    "\n",
    "Examples: is_curzon(5) ➞ True\n",
    "\n",
    "    # 2 ** 5 + 1 = 33\n",
    "    \n",
    "    # 2 * 5 + 1 = 11\n",
    "    \n",
    "    # 33 is a multiple of 11\n",
    "    \n",
    "is_curzon(10) ➞ False\n",
    "\n",
    "    # 2 ** 10 + 1 = 1025\n",
    "    \n",
    "    # 2 * 10 + 1 = 21\n",
    "    \n",
    "    # 1025 is not a multiple of 21\n",
    "    \n",
    "is_curzon(14) ➞ True\n",
    "\n",
    "    # 2 ** 14 + 1 = 16385\n",
    "    \n",
    "    # 2 * 14 + 1 = 29\n",
    "    \n",
    "    # 16385 is a multiple of 29"
   ]
  },
  {
   "cell_type": "code",
   "execution_count": null,
   "id": "cb54bd3c",
   "metadata": {},
   "outputs": [],
   "source": [
    "# code to check curzon number\n",
    "\n",
    "def curz():\n",
    "    \n",
    "    s=int(input(\"Please enter your number: \"))\n",
    "    \n",
    "    if (pow(2,s) + 1) % (( 2 * s) + 1) == 0:\n",
    "        \n",
    "        print(f'{s} is a curzon number!')\n",
    "        \n",
    "    else:\n",
    "        \n",
    "        print(f'{s} is not a curzon number!')     \n",
    "        \n",
    "for x in range(3):\n",
    "    \n",
    "    curz()"
   ]
  },
  {
   "cell_type": "markdown",
   "id": "a75a44c5",
   "metadata": {},
   "source": [
    "**4.Given the side length x find the area of a hexagon.**\n",
    "\n",
    "Examples: area_of_hexagon(1) ➞ 2.6\n",
    "\n",
    "area_of_hexagon(2) ➞ 10.4\n",
    "\n",
    "area_of_hexagon(3) ➞ 23.4"
   ]
  },
  {
   "cell_type": "code",
   "execution_count": 6,
   "id": "41c405f0",
   "metadata": {},
   "outputs": [
    {
     "name": "stdout",
     "output_type": "stream",
     "text": [
      "Please enter side of hexagon: 12\n",
      "Area of hexagon with side 12 is 374.1229744348775 sq units\n",
      "Please enter side of hexagon: 15\n",
      "Area of hexagon with side 15 is 584.5671475544962 sq units\n",
      "Please enter side of hexagon: 19\n",
      "Area of hexagon with side 19 is 937.9055122985471 sq units\n"
     ]
    }
   ],
   "source": [
    "# code to find area of hexagon is given by 3 x (sqrt 3)/2 x a x a where a  is the side of hexagon\n",
    "\n",
    "import math\n",
    "\n",
    "def area_hex():\n",
    "    \n",
    "    s=int(input(\"Please enter side of hexagon: \"))\n",
    "    \n",
    "    result = ((3 * math.sqrt(3)) /2 )*(s*s)\n",
    "    \n",
    "    print(f'Area of hexagon with side {s} is {result} sq units')\n",
    "              \n",
    "for x in range(3):\n",
    "    \n",
    "              area_hex()\n"
   ]
  },
  {
   "cell_type": "markdown",
   "id": "bb68d108",
   "metadata": {},
   "source": [
    "**5.Create a function that returns a base-2 (binary) representation of a base-10 (decimal) string number. To convert is simple:**\n",
    "\n",
    "((2) means base-2 and (10) means base-10)\n",
    "\n",
    "010101001(2) = 1 + 8 + 32 + 128.\n",
    "\n",
    "Going from right to left, the value of the most right bit is 1, now from that every bit to the left will be x2 the value, value of an 8 bit binary numbers are (256, 128, 64, 32, 16, 8, 4, 2, 1).\n",
    "\n",
    "Examples:\n",
    "\n",
    "binary(1) ➞ \"1\"\n",
    "\n",
    "    # 1* 1 = 1\n",
    "    \n",
    "binary(5) ➞ \"101\"\n",
    "\n",
    "    # 1 1 + 1 4 = 5\n",
    "    \n",
    "binary(10) ➞ \"1010\"\n",
    "\n",
    "    # 1 2 + 1 8 = 10"
   ]
  },
  {
   "cell_type": "code",
   "execution_count": 8,
   "id": "cc3f3360",
   "metadata": {},
   "outputs": [
    {
     "name": "stdout",
     "output_type": "stream",
     "text": [
      "Enter a Number: 1\n",
      "Binary of 1 ➞ 1\n",
      "Enter a Number: 5\n",
      "Binary of 5 ➞ 101\n",
      "Enter a Number: 10\n",
      "Binary of 10 ➞ 1010\n"
     ]
    }
   ],
   "source": [
    "# code to return base 2 representation of base 10 number\n",
    "\n",
    "def getBinary():\n",
    "    \n",
    "    s = int(input(\"Enter a Number: \"))\n",
    "    \n",
    "    result = bin(s).replace('0b','') \n",
    "    \n",
    "    print(f'Binary of {s} ➞ {result}')\n",
    "\n",
    "for x in range(3):\n",
    "    \n",
    "    getBinary()"
   ]
  },
  {
   "cell_type": "code",
   "execution_count": null,
   "id": "09345796",
   "metadata": {},
   "outputs": [],
   "source": []
  }
 ],
 "metadata": {
  "kernelspec": {
   "display_name": "Python 3 (ipykernel)",
   "language": "python",
   "name": "python3"
  },
  "language_info": {
   "codemirror_mode": {
    "name": "ipython",
    "version": 3
   },
   "file_extension": ".py",
   "mimetype": "text/x-python",
   "name": "python",
   "nbconvert_exporter": "python",
   "pygments_lexer": "ipython3",
   "version": "3.9.13"
  }
 },
 "nbformat": 4,
 "nbformat_minor": 5
}
