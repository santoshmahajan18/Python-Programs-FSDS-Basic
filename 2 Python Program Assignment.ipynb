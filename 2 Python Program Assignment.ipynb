{
 "cells": [
  {
   "cell_type": "markdown",
   "id": "20d57530",
   "metadata": {},
   "source": [
    "# 2 Python Program Assignment"
   ]
  },
  {
   "cell_type": "markdown",
   "id": "99c347e5",
   "metadata": {},
   "source": [
    "1.Write a Python program to convert Kilometers to Miles ?"
   ]
  },
  {
   "cell_type": "code",
   "execution_count": 2,
   "id": "9d5cc247",
   "metadata": {},
   "outputs": [
    {
     "name": "stdout",
     "output_type": "stream",
     "text": [
      "Please enter kilometers: 22\n",
      "22.0 km is equal to 13.661999999999999 miles\n"
     ]
    }
   ],
   "source": [
    "# code to change kms to miles\n",
    "def km2mile():\n",
    "    km=float(input(\"Please enter kilometers: \"))\n",
    "    print(\"{} km is equal to {} miles\".format(km,km*0.621))\n",
    "    \n",
    "km2mile()"
   ]
  },
  {
   "cell_type": "markdown",
   "id": "67631c28",
   "metadata": {},
   "source": [
    "2.Write a Python program to convert Celsius to Farenheit ?"
   ]
  },
  {
   "cell_type": "code",
   "execution_count": 3,
   "id": "b2385d98",
   "metadata": {},
   "outputs": [
    {
     "name": "stdout",
     "output_type": "stream",
     "text": [
      "Please enter temperature in celcius: 30\n",
      "30 Celcius is equal to 86.0 Farenheit\n"
     ]
    }
   ],
   "source": [
    "# code to convert Celsius to Farenheit\n",
    "def celtofar():\n",
    "    celcius=int(input(\"Please enter temperature in celcius: \"))\n",
    "    Farenheit=((celcius)*(9/5))+32\n",
    "    print(\"{} Celcius is equal to {} Farenheit\".format(celcius,Farenheit))\n",
    "    \n",
    "celtofar()\n",
    "    "
   ]
  },
  {
   "cell_type": "markdown",
   "id": "0fc92a32",
   "metadata": {},
   "source": [
    "3.Write a Python program to display calender ?"
   ]
  },
  {
   "cell_type": "code",
   "execution_count": 4,
   "id": "09a1288a",
   "metadata": {},
   "outputs": [
    {
     "name": "stdout",
     "output_type": "stream",
     "text": [
      "Please enter calendar year: 2023\n",
      "                                  2023\n",
      "\n",
      "      January                   February                   March\n",
      "Mo Tu We Th Fr Sa Su      Mo Tu We Th Fr Sa Su      Mo Tu We Th Fr Sa Su\n",
      "                   1             1  2  3  4  5             1  2  3  4  5\n",
      " 2  3  4  5  6  7  8       6  7  8  9 10 11 12       6  7  8  9 10 11 12\n",
      " 9 10 11 12 13 14 15      13 14 15 16 17 18 19      13 14 15 16 17 18 19\n",
      "16 17 18 19 20 21 22      20 21 22 23 24 25 26      20 21 22 23 24 25 26\n",
      "23 24 25 26 27 28 29      27 28                     27 28 29 30 31\n",
      "30 31\n",
      "\n",
      "       April                      May                       June\n",
      "Mo Tu We Th Fr Sa Su      Mo Tu We Th Fr Sa Su      Mo Tu We Th Fr Sa Su\n",
      "                1  2       1  2  3  4  5  6  7                1  2  3  4\n",
      " 3  4  5  6  7  8  9       8  9 10 11 12 13 14       5  6  7  8  9 10 11\n",
      "10 11 12 13 14 15 16      15 16 17 18 19 20 21      12 13 14 15 16 17 18\n",
      "17 18 19 20 21 22 23      22 23 24 25 26 27 28      19 20 21 22 23 24 25\n",
      "24 25 26 27 28 29 30      29 30 31                  26 27 28 29 30\n",
      "\n",
      "        July                     August                  September\n",
      "Mo Tu We Th Fr Sa Su      Mo Tu We Th Fr Sa Su      Mo Tu We Th Fr Sa Su\n",
      "                1  2          1  2  3  4  5  6                   1  2  3\n",
      " 3  4  5  6  7  8  9       7  8  9 10 11 12 13       4  5  6  7  8  9 10\n",
      "10 11 12 13 14 15 16      14 15 16 17 18 19 20      11 12 13 14 15 16 17\n",
      "17 18 19 20 21 22 23      21 22 23 24 25 26 27      18 19 20 21 22 23 24\n",
      "24 25 26 27 28 29 30      28 29 30 31               25 26 27 28 29 30\n",
      "31\n",
      "\n",
      "      October                   November                  December\n",
      "Mo Tu We Th Fr Sa Su      Mo Tu We Th Fr Sa Su      Mo Tu We Th Fr Sa Su\n",
      "                   1             1  2  3  4  5                   1  2  3\n",
      " 2  3  4  5  6  7  8       6  7  8  9 10 11 12       4  5  6  7  8  9 10\n",
      " 9 10 11 12 13 14 15      13 14 15 16 17 18 19      11 12 13 14 15 16 17\n",
      "16 17 18 19 20 21 22      20 21 22 23 24 25 26      18 19 20 21 22 23 24\n",
      "23 24 25 26 27 28 29      27 28 29 30               25 26 27 28 29 30 31\n",
      "30 31\n",
      "\n"
     ]
    }
   ],
   "source": [
    "# code to display calendar\n",
    "import calendar\n",
    "def my_calendar():\n",
    "    year=int(input(\"Please enter calendar year: \"))\n",
    "    print(calendar.calendar(year))\n",
    "    \n",
    "my_calendar()"
   ]
  },
  {
   "cell_type": "markdown",
   "id": "be3411a6",
   "metadata": {},
   "source": [
    "4.Write a Python program to solve quadartic equation ?"
   ]
  },
  {
   "cell_type": "code",
   "execution_count": 5,
   "id": "43e8f930",
   "metadata": {},
   "outputs": [
    {
     "name": "stdout",
     "output_type": "stream",
     "text": [
      "Please enter value of a: 10\n",
      "Please enter value of b: 15\n",
      "Please enter value of c: -26\n",
      "The equation has real and different roots: 1.0283419243778738 and -2.528341924377874\n"
     ]
    }
   ],
   "source": [
    "# code to solve quadratic equation\n",
    "# ax2 + bx + c = 0 is standard form of quadratic equation\n",
    "# where a, b, and c are coefficient and real numbers.\n",
    "# If a is equal to 0 that equation is not valid quadratic equation.\n",
    "\n",
    "import math\n",
    "\n",
    "def quad_eqn_root(a,b,c):\n",
    "     # calculating discriminant using formula\n",
    "        dis = b * b - 4 * a * c\n",
    "        sqrt_val=math.sqrt(abs(dis))\n",
    "        \n",
    "     # checking condition of discrimant\n",
    "        if dis > 0:\n",
    "                        \n",
    "            root1 = (-b + sqrt_val) / (2*a)\n",
    "            root2 = (-b - sqrt_val) / (2*a)\n",
    "            print(\"The equation has real and different roots: {} and {}\".format(root1,root2))\n",
    "            \n",
    "        elif dis == 0:\n",
    "            \n",
    "            root1 = (-b/(2*a))\n",
    "            root1 = (-b/(2*a))\n",
    "            print(\"The equation has real and equal roots: {} and {} \".format(root1,root2))\n",
    "        \n",
    "        else:\n",
    "            \n",
    "            root1=(-b/(2*a),\"+i\",sqrt_val)\n",
    "            root2=(-b/(2*a),\"-i\",sqrt_val)\n",
    "            print(\"The equation has complex roots: {} and {} \".format(root1,root2))\n",
    "            \n",
    "a=int(input(\"Please enter value of a: \"))\n",
    "b=int(input(\"Please enter value of b: \"))\n",
    "c=int(input(\"Please enter value of c: \"))\n",
    "            \n",
    "quad_eqn_root(a,b,c)\n",
    "            "
   ]
  },
  {
   "cell_type": "markdown",
   "id": "a0d16995",
   "metadata": {},
   "source": [
    "5.Write a Python program to swap two variables without temp variable."
   ]
  },
  {
   "cell_type": "code",
   "execution_count": 1,
   "id": "4cf10de6",
   "metadata": {},
   "outputs": [
    {
     "name": "stdout",
     "output_type": "stream",
     "text": [
      "Please enter first number: 12\n",
      "Please enter second number: 15\n",
      "Before swap the numbers are :  12 15\n",
      "After swapm the numbers are:  15 12\n"
     ]
    }
   ],
   "source": [
    "# code to swap two variables without temp\n",
    "num1=int(input(\"Please enter first number: \"))\n",
    "num2=int(input(\"Please enter second number: \"))\n",
    "\n",
    "def swap(num1,num2):\n",
    "        print(\"Before swap the numbers are : \",num1,num2)\n",
    "        num1 = num1 + num2\n",
    "        num2 = num1 - num2\n",
    "        num1 = num1 - num2\n",
    "        print(\"After swap the numbers are: \",num1,num2)\n",
    "        \n",
    "swap(num1,num2)\n",
    "        "
   ]
  },
  {
   "cell_type": "code",
   "execution_count": null,
   "id": "438bbdfc",
   "metadata": {},
   "outputs": [],
   "source": []
  }
 ],
 "metadata": {
  "kernelspec": {
   "display_name": "Python 3 (ipykernel)",
   "language": "python",
   "name": "python3"
  },
  "language_info": {
   "codemirror_mode": {
    "name": "ipython",
    "version": 3
   },
   "file_extension": ".py",
   "mimetype": "text/x-python",
   "name": "python",
   "nbconvert_exporter": "python",
   "pygments_lexer": "ipython3",
   "version": "3.9.13"
  }
 },
 "nbformat": 4,
 "nbformat_minor": 5
}
