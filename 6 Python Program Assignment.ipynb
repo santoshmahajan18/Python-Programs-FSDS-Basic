{
 "cells": [
  {
   "cell_type": "markdown",
   "id": "4ddf1507",
   "metadata": {},
   "source": [
    "# 6 Python Program Assignment"
   ]
  },
  {
   "cell_type": "markdown",
   "id": "5ef2fcdf",
   "metadata": {},
   "source": [
    "1. Write a Python Program to Display Fibonacci Sequence using Recursion."
   ]
  },
  {
   "cell_type": "code",
   "execution_count": null,
   "id": "d4a8d6b3",
   "metadata": {},
   "outputs": [],
   "source": [
    "# code to display fib sequence using recursion\n",
    "def fib(n):\n",
    "    if n<=1:\n",
    "        return n\n",
    "    else:\n",
    "        return (fib(n-1)+fib(n-2))\n",
    "    \n",
    "n=int(input(\"Please enter the number of terms: \"))\n",
    "print(\"The fibonacci sequence is: \")\n",
    "for i in range(n):\n",
    "    print(fib(i),end=' ')"
   ]
  },
  {
   "cell_type": "markdown",
   "id": "e850c313",
   "metadata": {},
   "source": [
    "2. Write a Python Program to Find Factorial of a Number using Recursion."
   ]
  },
  {
   "cell_type": "code",
   "execution_count": null,
   "id": "7f79344a",
   "metadata": {},
   "outputs": [],
   "source": [
    "# code to find factorial using recursion\n",
    "def fac(n):\n",
    "    if n==1 or n==0:\n",
    "        return 1\n",
    "    else:\n",
    "        return (n*fac(n-1))\n",
    "    \n",
    "n=int(input(\"Please enter a number: \"))\n",
    "fac(n)\n",
    "print(f\"The factorial of number {n} is {fac(n)} : \")"
   ]
  },
  {
   "cell_type": "markdown",
   "id": "e5ca004b",
   "metadata": {},
   "source": [
    "3. Write a Python Program to Calculate your Body Mass Index."
   ]
  },
  {
   "cell_type": "code",
   "execution_count": null,
   "id": "12020004",
   "metadata": {},
   "outputs": [],
   "source": [
    "#code to calculate body mass index\n",
    "\n",
    "def my_bmi():\n",
    "    calculate_BMI=wt/pow(ht,2)\n",
    "    if (calculate_BMI < 18.5):\n",
    "        status = \"You are underweight!\"\n",
    "    elif calculate_BMI >= 18.5 and calculate_BMI <= 24.9:\n",
    "        status = \"You are healthy!\"\n",
    "    elif calculate_BMI >= 24.9 and calculate_BMI <= 30:\n",
    "        status = \"You are overweight!\"\n",
    "    elif calculate_BMI >= 30:\n",
    "        status = \"You are suffering from obesity!\"\n",
    "    print(f'Your BMI score is: {calculate_BMI} and status is: {status}')\n",
    "        \n",
    "wt=eval(input(\"Please enter your weight in kgs: \"))\n",
    "ht=eval(input(\"Please enter your height in meters: \"))\n",
    "my_bmi()\n",
    "          "
   ]
  },
  {
   "cell_type": "markdown",
   "id": "6dd1178e",
   "metadata": {},
   "source": [
    "4. Write a Python Program to Calculate the Natural Logarithm of any Number."
   ]
  },
  {
   "cell_type": "code",
   "execution_count": 21,
   "id": "f492d57e",
   "metadata": {},
   "outputs": [
    {
     "name": "stdout",
     "output_type": "stream",
     "text": [
      "Please enter your number: 14\n",
      "The natural log of number 14 is 2.6390573296152584\n"
     ]
    }
   ],
   "source": [
    "# code to calculate natural log of any number\n",
    "import math\n",
    "def log():\n",
    "    n=eval(input(\"Please enter your number: \"))\n",
    "    print(f\"The natural log of number {n} is {math.log(n)}\")\n",
    "\n",
    "log()"
   ]
  },
  {
   "cell_type": "markdown",
   "id": "f4dde4a4",
   "metadata": {},
   "source": [
    "5. Write a Python Program for Cube sum of first n Natural Numbers ?"
   ]
  },
  {
   "cell_type": "code",
   "execution_count": 44,
   "id": "de30c43b",
   "metadata": {},
   "outputs": [
    {
     "name": "stdout",
     "output_type": "stream",
     "text": [
      "Please enter a number: 5\n",
      "The sum of cube of first 5 natural numbers is: 225\n"
     ]
    }
   ],
   "source": [
    "def sum_cube(n):\n",
    "    sum=0\n",
    "    for i in range(n+1):\n",
    "        sum = sum + (i*i*i)\n",
    "    print(f\"The sum of cube of first {n} natural numbers is: {sum}\")\n",
    "n=int(input(\"Please enter a number: \"))\n",
    "sum_cube(n)"
   ]
  },
  {
   "cell_type": "code",
   "execution_count": null,
   "id": "9592501a",
   "metadata": {},
   "outputs": [],
   "source": []
  }
 ],
 "metadata": {
  "kernelspec": {
   "display_name": "Python 3 (ipykernel)",
   "language": "python",
   "name": "python3"
  },
  "language_info": {
   "codemirror_mode": {
    "name": "ipython",
    "version": 3
   },
   "file_extension": ".py",
   "mimetype": "text/x-python",
   "name": "python",
   "nbconvert_exporter": "python",
   "pygments_lexer": "ipython3",
   "version": "3.9.13"
  }
 },
 "nbformat": 4,
 "nbformat_minor": 5
}
