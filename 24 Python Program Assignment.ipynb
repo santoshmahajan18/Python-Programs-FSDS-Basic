{
 "cells": [
  {
   "cell_type": "markdown",
   "id": "cf1b1902",
   "metadata": {},
   "source": [
    "# 24 Python Program Assignment"
   ]
  },
  {
   "cell_type": "markdown",
   "id": "12a4653e",
   "metadata": {},
   "source": [
    "**1.Create a function that takes an integer and returns a list from 1 to the given number, where:**\n",
    "\n",
    "1.If the number can be divided evenly by 4, amplify it by 10 (i.e. return 10 times the number).\n",
    "\n",
    "2.If the number cannot be divided evenly by 4, simply return the number.\n",
    "\n",
    "Examples:\n",
    "\n",
    "amplify(4) ➞ [1, 2, 3, 40]\n",
    "\n",
    "amplify(3) ➞ [1, 2, 3]\n",
    "\n",
    "amplify(25) ➞ [1, 2, 3, 40, 5, 6, 7, 80, 9, 10, 11, 120, 13, 14, 15, 160, 17, 18, 19, 200, 21, 22, 23, 240, 25]\n",
    "\n",
    "Notes:\n",
    "\n",
    "1.The given integer will always be equal to or greater than 1.\n",
    "\n",
    "2.Include the number (see example above).\n",
    "\n",
    "3.To perform this problem with its intended purpose, try doing it with list"
   ]
  },
  {
   "cell_type": "code",
   "execution_count": 17,
   "id": "46dfa871",
   "metadata": {},
   "outputs": [
    {
     "name": "stdout",
     "output_type": "stream",
     "text": [
      "Please enter number: 4\n",
      "My input is 4\n",
      "and my output list is [1, 2, 3, 40]\n",
      "\n",
      "Please enter number: 3\n",
      "My input is 3\n",
      "and my output list is [1, 2, 3]\n",
      "\n",
      "Please enter number: 25\n",
      "My input is 25\n",
      "and my output list is [1, 2, 3, 40, 5, 6, 7, 80, 9, 10, 11, 120, 13, 14, 15, 160, 17, 18, 19, 200, 21, 22, 23, 240, 25]\n",
      "\n"
     ]
    }
   ],
   "source": [
    "# code to return a list from 1 to given number, where if number divisible by 4, it should be multiplied by 10\n",
    "\n",
    "def amplify():\n",
    "    \n",
    "    s=int(input(\"Please enter number: \"))\n",
    "    \n",
    "    result=[]\n",
    "    \n",
    "    for i in range(1,s+1):\n",
    "        \n",
    "        if i%4==0:\n",
    "            \n",
    "            result.append(i*10)\n",
    "            \n",
    "        else:\n",
    "            \n",
    "            result.append(i)\n",
    "            \n",
    "    print(f'My input is {s}\\nand my output list is {result}\\n')\n",
    "            \n",
    "for a in range(3):\n",
    "        amplify() "
   ]
  },
  {
   "cell_type": "markdown",
   "id": "829a9926",
   "metadata": {},
   "source": [
    "**2.Create a function that takes a list of numbers and return the number that's unique.**\n",
    "\n",
    "Examples:\n",
    "\n",
    "unique([3, 3, 3, 7, 3, 3]) ➞ 7\n",
    "\n",
    "unique([0, 0, 0.77, 0, 0]) ➞ 0.77\n",
    "\n",
    "unique([0, 1, 1, 1, 1, 1, 1, 1]) ➞ 0\n",
    "\n",
    "Notes:\n",
    "\n",
    "Test cases will always have exactly one unique number while all others are the same."
   ]
  },
  {
   "cell_type": "code",
   "execution_count": 18,
   "id": "5ad965c2",
   "metadata": {},
   "outputs": [
    {
     "name": "stdout",
     "output_type": "stream",
     "text": [
      "My input list is: [3, 3, 3, 7, 3, 3]\n",
      "My unique number is: 7\n",
      "\n",
      "My input list is: [0, 0, 0.77, 0, 0]\n",
      "My unique number is: 0.77\n",
      "\n",
      "My input list is: [0, 1, 1, 1, 1, 1, 1, 1]\n",
      "My unique number is: 0\n",
      "\n"
     ]
    }
   ],
   "source": [
    "# code to take a list of numbers and return a number that is unique\n",
    "\n",
    "def unique(my_list):\n",
    "    \n",
    "    result='' \n",
    "    \n",
    "    for i in set(my_list):\n",
    "        \n",
    "        if my_list.count(i)==1:\n",
    "                        \n",
    "            result=i\n",
    "            \n",
    "    print(f\"My input list is: {my_list}\\nMy unique number is: {result}\\n\")\n",
    "    \n",
    "my_list=[3, 3, 3, 7, 3, 3]\n",
    "unique(my_list)\n",
    "\n",
    "my_list=[0, 0, 0.77, 0, 0] \n",
    "unique(my_list)\n",
    "\n",
    "my_list=[0, 1, 1, 1, 1, 1, 1, 1]\n",
    "unique(my_list)"
   ]
  },
  {
   "cell_type": "markdown",
   "id": "7a1c039b",
   "metadata": {},
   "source": [
    "**3.Your task is to create a Circle constructor that creates a circle with a radius provided by an argument. The circles constructed must have two getters getArea() (PIr^2) and getPerimeter() (2PI*r) which give both respective areas and perimeter (circumference). For help with this class, I have provided you with a Rectangle constructor which you can use as a base example ?**\n",
    "\n",
    "Examples:\n",
    "\n",
    "circy = Circle(11)\n",
    "\n",
    "circy.getArea()\n",
    "\n",
    "#Should return 380.132711084365 circy = Circle(4.44)\n",
    "\n",
    "circy.getPerimeter()\n",
    "\n",
    "#Should return 27.897342763877365\n",
    "\n",
    "Notes:\n",
    "\n",
    "Round results up to the nearest integer."
   ]
  },
  {
   "cell_type": "code",
   "execution_count": 19,
   "id": "3b340660",
   "metadata": {},
   "outputs": [
    {
     "name": "stdout",
     "output_type": "stream",
     "text": [
      "Radius------->380\n",
      "Perimeter---->28\n"
     ]
    }
   ],
   "source": [
    "# code to find area and perimeter of a circle\n",
    "import math\n",
    "\n",
    "class Circle:\n",
    "    \n",
    "    def __init__(self,radius):\n",
    "        \n",
    "        self.radius=radius\n",
    "        \n",
    "    def getArea(self):\n",
    "        \n",
    "        print(f'Radius------->{round(math.pi*(self.radius)*(self.radius))}')\n",
    "        \n",
    "    def getPerimeter(self):\n",
    "        \n",
    "        print(f'Perimeter---->{round(2*math.pi*self.radius)}')\n",
    "        \n",
    "circy=Circle(11)\n",
    "circy.getArea()\n",
    "\n",
    "circy=Circle(4.44)\n",
    "circy.getPerimeter()\n",
    "    "
   ]
  },
  {
   "cell_type": "markdown",
   "id": "80d7cd9d",
   "metadata": {},
   "source": [
    "**4.Create a function that takes a list of strings and return a list, sorted from shortest to longest.**\n",
    "\n",
    "Examples:\n",
    "\n",
    "sort_by_length([\"Google\", \"Apple\", \"Microsoft\"])\n",
    "\n",
    "➞ [\"Apple\", \"Google\", \"Microsoft\"]\n",
    "\n",
    "sort_by_length([\"Leonardo\", \"Michelangelo\", \"Raphael\", \"Donatello\"])\n",
    "\n",
    "➞ [\"Raphael\", \"Leonardo\", \"Donatello\", \"Michelangelo\"]\n",
    "\n",
    "sort_by_length([\"Turing\", \"Einstein\", \"Jung\"])\n",
    "\n",
    "➞ [\"Jung\", \"Turing\", \"Einstein\"]\n",
    "\n",
    "Notes:\n",
    "\n",
    "All test cases contain lists with strings of different lengths, so you won't have to deal with multiple strings of the same length."
   ]
  },
  {
   "cell_type": "code",
   "execution_count": 20,
   "id": "6dd9b259",
   "metadata": {},
   "outputs": [
    {
     "name": "stdout",
     "output_type": "stream",
     "text": [
      "My input list is: ['Google', 'Apple', 'Microsoft']\n",
      "My output list is ['Apple', 'Google', 'Microsoft']\n",
      "\n",
      "My input list is: ['Leonardo', 'Michelangelo', 'Raphael', 'Donatello']\n",
      "My output list is ['Raphael', 'Leonardo', 'Donatello', 'Michelangelo']\n",
      "\n",
      "My input list is: ['Turing', 'Einstein', 'Jung']\n",
      "My output list is ['Jung', 'Turing', 'Einstein']\n",
      "\n"
     ]
    }
   ],
   "source": [
    "# code to create a function that takes a list of strings and returns a list in sorted form\n",
    "\n",
    "def sort_by_length(my_list):\n",
    "    \n",
    "    result=sorted(my_list,key=len)\n",
    "    \n",
    "    print(f'My input list is: {my_list}\\nMy output list is {result}\\n')\n",
    "\n",
    "my_list=[\"Google\", \"Apple\", \"Microsoft\"]\n",
    "sort_by_length(my_list)\n",
    "\n",
    "my_list=[\"Leonardo\", \"Michelangelo\", \"Raphael\", \"Donatello\"]\n",
    "sort_by_length(my_list)\n",
    "\n",
    "my_list=[\"Turing\", \"Einstein\", \"Jung\"]\n",
    "sort_by_length(my_list)"
   ]
  },
  {
   "cell_type": "markdown",
   "id": "595ef817",
   "metadata": {},
   "source": [
    "**5.Create a function that validates whether three given integers form a Pythagorean triplet. The sum of the squares of the two smallest integers must equal the square of the largest number to be validated.**\n",
    "\n",
    "Examples:\n",
    "\n",
    "is_triplet(3, 4, 5) ➞ True\n",
    "\n",
    "    # 3² + 4² = 25\n",
    "    \n",
    "    # 5² = 25\n",
    "    \n",
    "is_triplet(13, 5, 12) ➞ True\n",
    "\n",
    "    # 5² + 12² = 169\n",
    "    \n",
    "    # 13² = 169\n",
    "    \n",
    "is_triplet(1, 2, 3) ➞ False\n",
    "\n",
    "    # 1² + 2² = 5\n",
    "    \n",
    "    # 3² = 9\n",
    "\n",
    "Notes: Numbers may not be given in a sorted order."
   ]
  },
  {
   "cell_type": "code",
   "execution_count": 16,
   "id": "449b3590",
   "metadata": {},
   "outputs": [
    {
     "name": "stdout",
     "output_type": "stream",
     "text": [
      "Please enter the three sides of triangle 13 12 5\n",
      "[13, 12, 5]\n",
      "The given triplet 5,12,13 form a Pythagoream triplet\n",
      "\n",
      "Please enter the three sides of triangle 3 5 4\n",
      "[3, 5, 4]\n",
      "The given triplet 3,4,5 form a Pythagoream triplet\n",
      "\n",
      "Please enter the three sides of triangle 1 2 3\n",
      "[1, 2, 3]\n",
      "The given triplet 1,2,3 do not form a Pythagoream triplet\n",
      "\n"
     ]
    }
   ],
   "source": [
    "# code to check if three given integers form a Pythagorean triplet\n",
    "def is_triplet():\n",
    "    \n",
    "    s=[]\n",
    "    \n",
    "    s=[int(item) for item in input(\"Please enter the three sides of triangle \").split()]\n",
    "    \n",
    "    print(s)\n",
    "    \n",
    "    s.sort()\n",
    "    \n",
    "    a,b,c=sorted(s)\n",
    "\n",
    "    \n",
    "    if int(a)**2+int(b)**2==int(c)**2: \n",
    "        \n",
    "        \n",
    "        print(f'The given triplet {a},{b},{c} form a Pythagoream triplet\\n')\n",
    "        \n",
    "    else:\n",
    "        \n",
    "        print(f'The given triplet {a},{b},{c} do not form a Pythagoream triplet\\n')\n",
    "        \n",
    "for a in range(3):\n",
    "    is_triplet()\n"
   ]
  },
  {
   "cell_type": "code",
   "execution_count": null,
   "id": "6e1862fc",
   "metadata": {},
   "outputs": [],
   "source": []
  }
 ],
 "metadata": {
  "kernelspec": {
   "display_name": "Python 3 (ipykernel)",
   "language": "python",
   "name": "python3"
  },
  "language_info": {
   "codemirror_mode": {
    "name": "ipython",
    "version": 3
   },
   "file_extension": ".py",
   "mimetype": "text/x-python",
   "name": "python",
   "nbconvert_exporter": "python",
   "pygments_lexer": "ipython3",
   "version": "3.9.13"
  }
 },
 "nbformat": 4,
 "nbformat_minor": 5
}
