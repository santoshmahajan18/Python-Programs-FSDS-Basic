{
 "cells": [
  {
   "cell_type": "markdown",
   "id": "39db3d19",
   "metadata": {},
   "source": [
    "# 22 Python Program Assignment"
   ]
  },
  {
   "cell_type": "markdown",
   "id": "9d77e1b1",
   "metadata": {},
   "source": [
    "**1.Create a function that takes three parameters where:**\n",
    "\n",
    "x is the start of the range (inclusive).\n",
    "\n",
    "y is the end of the range (inclusive).\n",
    "\n",
    "n is the divisor to be checked against.\n",
    "\n",
    "Return an ordered list with numbers in the range that are divisible by the third parameter n. Return an empty list if there are no numbers that are divisible by n. Examples:\n",
    "\n",
    "list_operation(1, 10, 3) ➞ [3, 6, 9]\n",
    "\n",
    "list_operation(7, 9, 2) ➞ [8]\n",
    "\n",
    "list_operation(15, 20, 7) ➞ []"
   ]
  },
  {
   "cell_type": "code",
   "execution_count": null,
   "id": "ee0c13b6",
   "metadata": {},
   "outputs": [],
   "source": [
    "# code to create a function with three parameters x, y and n\n",
    "\n",
    "\n",
    "def check_div(x,y,n):\n",
    "    \n",
    "    my_list=[]\n",
    "    \n",
    "    for i in range(x,y+1):\n",
    "        \n",
    "        if i%n==0:\n",
    "            \n",
    "            my_list.append(i)\n",
    "            \n",
    "    print(f'Ordered list is {my_list}')\n",
    "    \n",
    "check_div(1,10,3)\n",
    "\n",
    "check_div(7,9,2) \n",
    "\n",
    "check_div(15,20,7)"
   ]
  },
  {
   "cell_type": "code",
   "execution_count": null,
   "id": "57ec6c11",
   "metadata": {},
   "outputs": [],
   "source": [
    "# another method to write a code to create a function with three parameters x, y and n\n",
    "\n",
    "def check_div():\n",
    "    \n",
    "    x= int(input(\"Please enter x value: \"))\n",
    "    \n",
    "    y= int(input(\"Please enter y value: \"))\n",
    "    \n",
    "    n= int(input(\"Please enter n value: \"))\n",
    "    \n",
    "    my_list=[]\n",
    "    \n",
    "    for i in range(x,y+1):\n",
    "        \n",
    "        if i%n==0:\n",
    "            \n",
    "            my_list.append(i)\n",
    "            \n",
    "    print(f'Ordered list is {my_list}\\n')\n",
    "    \n",
    "for a in range(3):\n",
    "    \n",
    "    check_div()\n",
    "    "
   ]
  },
  {
   "cell_type": "markdown",
   "id": "c0f9d01c",
   "metadata": {},
   "source": [
    "**2.Create a function that takes in two lists and returns True if the second list follows the first list by one element, and False otherwise. In other words, determine if the second list is the first list shifted to the right by 1.**\n",
    "\n",
    "Examples:\n",
    "\n",
    "simon_says([1, 2], [5, 1]) ➞ True\n",
    "\n",
    "simon_says([1, 2], [5, 5]) ➞ False\n",
    "\n",
    "simon_says([1, 2, 3, 4, 5], [0, 1, 2, 3, 4]) ➞ True\n",
    "\n",
    "simon_says([1, 2, 3, 4, 5], [5, 5, 1, 2, 3]) ➞ False\n",
    "\n",
    "Notes:\n",
    "\n",
    "1. Both input lists will be of the same length, and will have a minimum length of 2.\n",
    "\n",
    "2. The values of the 0-indexed element in the second list and the n-1th indexed element in the first list do not matter."
   ]
  },
  {
   "cell_type": "code",
   "execution_count": 4,
   "id": "c1e7380a",
   "metadata": {},
   "outputs": [
    {
     "name": "stdout",
     "output_type": "stream",
     "text": [
      "([1, 2], [5, 1]) is True\n",
      "([1, 2], [5, 5]) is False\n",
      "([1, 2, 3, 4, 5], [0, 1, 2, 3, 4]) is True\n",
      "([1, 2, 3, 4, 5], [5, 5, 1, 2, 3]) is False\n"
     ]
    }
   ],
   "source": [
    "# code to take two lits and compare them to check True or False for a particular condition\n",
    "\n",
    "def comp(list1,list2):\n",
    "    \n",
    "    if len(list1)==len(list2) and len(list1)>=2 and len(list2)>=2:\n",
    "        \n",
    "        if (list1[:-1])==(list2[1:]):\n",
    "            \n",
    "            print(f'{list1,list2} is {True}')\n",
    "            \n",
    "        else:\n",
    "            \n",
    "            print(f'{list1,list2} is {False}')\n",
    "            \n",
    "\n",
    "list1=[1, 2]\n",
    "list2=[5, 1]\n",
    "comp(list1,list2)\n",
    "        \n",
    "list1=[1, 2] \n",
    "list2=[5, 5]\n",
    "comp(list1,list2)\n",
    "\n",
    "list1=[1, 2, 3, 4, 5]\n",
    "list2=[0, 1, 2, 3, 4]\n",
    "comp(list1,list2)\n",
    "\n",
    "list1=[1, 2, 3, 4, 5]\n",
    "list2=[5, 5, 1, 2, 3]\n",
    "comp(list1,list2)"
   ]
  },
  {
   "cell_type": "markdown",
   "id": "0b8b6dcd",
   "metadata": {},
   "source": [
    "**3.A group of friends have decided to start a secret society. The name will be the first letter of each of their names, sorted in a alphabetical order ? Create a function that takes in a list of names and returns the name of the secret society.**\n",
    "\n",
    "Examples:\n",
    "\n",
    "society_name([\"Adam\", \"Sarah\", \"Malcolm\"]) ➞ \"AMS\"\n",
    "\n",
    "society_name([\"Harry\", \"Newt\", \"Luna\", \"Cho\"]) ➞ \"CHLN\"\n",
    "\n",
    "society_name([\"Phoebe\", \"Chandler\", \"Rachel\", \"Ross\", \"Monica\", \"Joey\"])"
   ]
  },
  {
   "cell_type": "code",
   "execution_count": 13,
   "id": "c24c67a2",
   "metadata": {},
   "outputs": [
    {
     "name": "stdout",
     "output_type": "stream",
     "text": [
      "The name of secret society is: AMS\n",
      "\n",
      "The name of secret society is: CHLN\n",
      "\n",
      "The name of secret society is: CJMPRR\n",
      "\n"
     ]
    }
   ],
   "source": [
    "# code to create a name of secret society as per the given conditions\n",
    "\n",
    "def sec_soc(my_list):\n",
    "    \n",
    "    result=[]\n",
    "    \n",
    "    for i in my_list:\n",
    "        \n",
    "        result.append(i[0])\n",
    "        \n",
    "    output=''.join(sorted(result))\n",
    "    \n",
    "    print(f'The name of secret society is: {output}\\n')\n",
    "\n",
    "my_list=[\"Adam\", \"Sarah\", \"Malcolm\"]\n",
    "sec_soc(my_list)\n",
    "\n",
    "my_list=\"Harry\", \"Newt\", \"Luna\", \"Cho\"\n",
    "sec_soc(my_list)\n",
    "\n",
    "my_list=[\"Phoebe\", \"Chandler\", \"Rachel\", \"Ross\", \"Monica\", \"Joey\"]\n",
    "sec_soc(my_list)"
   ]
  },
  {
   "cell_type": "code",
   "execution_count": 25,
   "id": "c4bb23d2",
   "metadata": {},
   "outputs": [
    {
     "name": "stdout",
     "output_type": "stream",
     "text": [
      "Please enter your names: Adam,Sarah,Malcolm\n",
      "The name of secret society is: AMS\n",
      "\n",
      "Please enter your names: Harry,Newt,Luna,Cho\n",
      "The name of secret society is: CHLN\n",
      "\n",
      "Please enter your names: Phoebe,Chandler,Rachel,Ross,Monica,Joey\n",
      "The name of secret society is: CJMPRR\n",
      "\n"
     ]
    }
   ],
   "source": [
    "# another way of writing this code where the list will be entered by the user\n",
    "\n",
    "def sec_soc():\n",
    "    \n",
    "    my_list=input(\"Please enter your names: \").split(',')\n",
    "\n",
    "    result=[]\n",
    "    \n",
    "    for i in my_list:\n",
    "        \n",
    "        result.append(i[0])\n",
    "        \n",
    "    output=''.join(sorted(result))\n",
    "    \n",
    "    print(f'The name of secret society is: {output}\\n')\n",
    "\n",
    "for a in range(3):\n",
    "    sec_soc()"
   ]
  },
  {
   "cell_type": "markdown",
   "id": "ab571f54",
   "metadata": {},
   "source": [
    "**4.An isogram is a word that has no duplicate letters. Create a function that takes a string and returns either True or False depending on whether or not it's an \"isogram\".**\n",
    "\n",
    "Examples:\n",
    "\n",
    "is_isogram(\"Algorism\") ➞ True\n",
    "\n",
    "is_isogram(\"PasSword\") ➞ False\n",
    "\n",
    "Not case sensitive.\n",
    "\n",
    "is_isogram(\"Consecutive\") ➞ False\n",
    "\n",
    "Notes:\n",
    "\n",
    "Ignore letter case (should not be case sensitive).\n",
    "\n",
    "All test cases contain valid one word strings.\n"
   ]
  },
  {
   "cell_type": "code",
   "execution_count": 41,
   "id": "4dbcd9b6",
   "metadata": {},
   "outputs": [
    {
     "name": "stdout",
     "output_type": "stream",
     "text": [
      "Please enter the string: Algorism\n"
     ]
    },
    {
     "data": {
      "text/plain": [
       "True"
      ]
     },
     "execution_count": 41,
     "metadata": {},
     "output_type": "execute_result"
    }
   ],
   "source": [
    "# code to check if a string is isogram or not\n",
    "\n",
    "def is_isogram():\n",
    "    \n",
    "    s=input(\"Please enter the string: \")\n",
    "    \n",
    "    s=s.lower()\n",
    "    \n",
    "    count=0\n",
    "    \n",
    "    result=[]\n",
    "    \n",
    "    for i in (s):\n",
    "        \n",
    "        if i in result:\n",
    "            \n",
    "            return False\n",
    "        \n",
    "        result.append(i)\n",
    "        \n",
    "    return True\n",
    "\n",
    "is_isogram()\n",
    "\n"
   ]
  },
  {
   "cell_type": "markdown",
   "id": "48155299",
   "metadata": {},
   "source": [
    "**5.Create a function that takes a string and returns True or False, depending on whether the characters are in order or not.**\n",
    "\n",
    "Examples:\n",
    "\n",
    "is_in_order(\"abc\") ➞ True\n",
    "\n",
    "is_in_order(\"edabit\") ➞ False\n",
    "\n",
    "is_in_order(\"123\") ➞ True\n",
    "\n",
    "is_in_order(\"xyzz\") ➞ True\n",
    "\n",
    "Notes:\n",
    "\n",
    "You don't have to handle empty strings."
   ]
  },
  {
   "cell_type": "code",
   "execution_count": 48,
   "id": "85777951",
   "metadata": {},
   "outputs": [
    {
     "name": "stdout",
     "output_type": "stream",
     "text": [
      "abc----> True\n",
      "edabit----> False\n",
      "123----> True\n",
      "xyzz----> True\n"
     ]
    }
   ],
   "source": [
    "# code to create a fuction that checks if the characters are in order or not\n",
    "def is_in_order(my_string):\n",
    "    my_string_sorted=''.join(sorted(my_string))\n",
    "    if my_string==my_string_sorted:\n",
    "        print(f'{my_string}----> {True}')\n",
    "    else:\n",
    "         print(f'{my_string}----> {False}')   \n",
    "               \n",
    "    \n",
    "is_in_order(\"abc\")\n",
    "is_in_order(\"edabit\")\n",
    "is_in_order(\"123\")\n",
    "is_in_order(\"xyzz\")"
   ]
  }
 ],
 "metadata": {
  "kernelspec": {
   "display_name": "Python 3 (ipykernel)",
   "language": "python",
   "name": "python3"
  },
  "language_info": {
   "codemirror_mode": {
    "name": "ipython",
    "version": 3
   },
   "file_extension": ".py",
   "mimetype": "text/x-python",
   "name": "python",
   "nbconvert_exporter": "python",
   "pygments_lexer": "ipython3",
   "version": "3.9.13"
  }
 },
 "nbformat": 4,
 "nbformat_minor": 5
}
