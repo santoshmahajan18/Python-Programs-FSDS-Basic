{
 "cells": [
  {
   "cell_type": "markdown",
   "id": "db00f726",
   "metadata": {},
   "source": [
    "# 8 Python Program Assignment"
   ]
  },
  {
   "cell_type": "markdown",
   "id": "66c33f17",
   "metadata": {},
   "source": [
    "1. Write a Python Program to Add two Matrices"
   ]
  },
  {
   "cell_type": "code",
   "execution_count": 4,
   "id": "2d20417e",
   "metadata": {},
   "outputs": [
    {
     "name": "stdout",
     "output_type": "stream",
     "text": [
      "[20, 20, 20]\n",
      "[20, 20, 20]\n",
      "[20, 20, 20]\n"
     ]
    }
   ],
   "source": [
    "# Program to add two matrices using nested loop\n",
    "\n",
    "A=[[1,2,3],\n",
    "  [4,5,6],\n",
    "  [7,8,9]]\n",
    "\n",
    "B=[[19,18,17],\n",
    "   [16,15,14],\n",
    "   [13,12,11]]\n",
    "\n",
    "result=[[0,0,0],\n",
    "        [0,0,0],\n",
    "        [0,0,0]]\n",
    "\n",
    "\n",
    "# iterate through rows\n",
    "for i in range(len(A)):\n",
    "# iterate through columns\n",
    "    for j in range(len(A[0])):\n",
    "        result[i][j] = A[i][j] + B[i][j]\n",
    "\n",
    "for r in result:\n",
    "    print(r)\n"
   ]
  },
  {
   "cell_type": "markdown",
   "id": "ebe505b2",
   "metadata": {},
   "source": [
    "2. Write a Python Program to Multiply two Matrices."
   ]
  },
  {
   "cell_type": "code",
   "execution_count": 6,
   "id": "9fe9ddd6",
   "metadata": {},
   "outputs": [
    {
     "name": "stdout",
     "output_type": "stream",
     "text": [
      "[90, 84, 78, 72]\n",
      "[234, 219, 204, 189]\n",
      "[378, 354, 330, 306]\n"
     ]
    }
   ],
   "source": [
    "# Program to multiply two matrices using nested loop\n",
    "# A is a 3 x 3 matrix\n",
    "A=[[1,2,3],\n",
    "  [4,5,6],\n",
    "  [7,8,9]]\n",
    "\n",
    "#B is a 3 x 4 matrix\n",
    "B=[[19,18,17,16],\n",
    "   [16,15,14,13],\n",
    "   [13,12,11,10]]\n",
    "\n",
    "result=[[0,0,0,0],\n",
    "        [0,0,0,0],\n",
    "        [0,0,0,0]]\n",
    "\n",
    "\n",
    "# iterating by row of A, total 3 rows\n",
    "for i in range(len(A)):\n",
    "    \n",
    "    # iterating by column by B total 4 columns\n",
    "    for j in range(len(B[0])):\n",
    "        \n",
    "         # iterating by rows of B total 3 rows\n",
    "        for k in range(len(B)):\n",
    "            result[i][j]=result[i][j]+A[i][k]*B[k][j]\n",
    "\n",
    "for r in result:\n",
    "    print(r)\n"
   ]
  },
  {
   "cell_type": "markdown",
   "id": "fc9dd69f",
   "metadata": {},
   "source": [
    "3. Write a Python Program to transpose a Matrix."
   ]
  },
  {
   "cell_type": "markdown",
   "id": "313d5777",
   "metadata": {},
   "source": [
    "Transpose of a matrix is obtained by changing rows to columns and columns to rows. In other words, transpose of A[][] is obtained by changing A[i][j] to A[j][i]. "
   ]
  },
  {
   "cell_type": "code",
   "execution_count": 2,
   "id": "26f09085",
   "metadata": {},
   "outputs": [
    {
     "name": "stdout",
     "output_type": "stream",
     "text": [
      "[[1, 3, 5], [2, 4, 6]]\n"
     ]
    }
   ],
   "source": [
    "# code to transpose a matrix\n",
    "# consider a 3 x 2 matrix\n",
    "\n",
    "mat1=[[1,2],[3,4],[5,6]]\n",
    "\n",
    "# to transpose the above matrix of 3 x 2, we will need a 2 x 3 matrix\n",
    "tpose=[[0,0,0],[0,0,0]]\n",
    "\n",
    "# iterating the rows and then then columns of each row\n",
    "for i in range(len(mat1)):\n",
    "    for j in range(len(mat1[0])):\n",
    "        tpose[j][i]=mat1[i][j]\n",
    "        \n",
    "print(tpose)"
   ]
  },
  {
   "cell_type": "code",
   "execution_count": 5,
   "id": "3cd80351",
   "metadata": {},
   "outputs": [
    {
     "name": "stdout",
     "output_type": "stream",
     "text": [
      "[[1, 2, 3], [4, 5, 6], [7, 8, 9]] -> [[1, 4, 7], [2, 5, 8], [3, 6, 9]]\n"
     ]
    }
   ],
   "source": [
    "# code to transpose a matrix using a function\n",
    "\n",
    "def gen_transpose(in_matrix):\n",
    "    out_matrix = []\n",
    "    for ele in range(len(in_matrix[0])):\n",
    "        out_matrix.append([0 for i in range(len(in_matrix))])\n",
    "    for i in range(len(in_matrix)):\n",
    "        for j in range(len(in_matrix[i])):\n",
    "            out_matrix[j][i] = in_matrix[i][j]\n",
    "    print(f'{in_matrix} -> {out_matrix}')\n",
    "\n",
    "a = [[1,2,3],[4,5,6],[7,8,9]]\n",
    "gen_transpose(a)    "
   ]
  },
  {
   "cell_type": "markdown",
   "id": "05dcb673",
   "metadata": {},
   "source": [
    "4. Write a Python Program to sort Words in an Alphabatical Order."
   ]
  },
  {
   "cell_type": "code",
   "execution_count": 15,
   "id": "03c8ca0e",
   "metadata": {},
   "outputs": [
    {
     "name": "stdout",
     "output_type": "stream",
     "text": [
      "Please enter your text here: the Quick brown fox jumPs over the lazY Dog\n",
      "The words arranged in alphabetical order are: \n",
      "brown dog fox jumps lazy over quick the the\n"
     ]
    }
   ],
   "source": [
    "# We have to use the sort () method. It is in-built in the Python library and is used to arrange a list of words or \n",
    "# characters in alphabetical order. \n",
    "def func(txt):\n",
    "    x=txt.split(\" \")\n",
    "    for i in range(len(x)):\n",
    "        #convert all the words into lower case\n",
    "        x[i]=x[i].lower()\n",
    "    y=sorted(x)\n",
    "    print(' '.join(y))\n",
    "    \n",
    "txt=input(\"Please enter your text here: \")\n",
    "print(\"The words arranged in alphabetical order are: \")\n",
    "func(txt)\n",
    "    "
   ]
  },
  {
   "cell_type": "markdown",
   "id": "932b3448",
   "metadata": {},
   "source": [
    "5. Write a Python Program to remove Punctuations From a String."
   ]
  },
  {
   "cell_type": "code",
   "execution_count": 21,
   "id": "225c0323",
   "metadata": {},
   "outputs": [
    {
     "name": "stdout",
     "output_type": "stream",
     "text": [
      "The original text is: @India, is on the path: towards energy sustainability, growth, and self-reliancy!\n",
      "The string after removal of all punctuations is:  India is on the path towards energy sustainability growth and selfreliancy\n"
     ]
    }
   ],
   "source": [
    "# code to remove punctuations from a string\n",
    "# sometimes in order to process a data, we need to remove certain characters from strings.\n",
    "# initializing a string\n",
    "txt=\"@India, is on the path: towards energy sustainability, growth, and self-reliancy!\"\n",
    "print(\"The original text is: \"+ txt)\n",
    "# initializing punctuations string\n",
    "punctu='''!()-[]{};:'\"\\,<>./?@#$%^&*_~'''\n",
    "\n",
    "# removing punctuations in a string\n",
    "for i in txt:\n",
    "    if i in punctu:\n",
    "        txt=txt.replace(i,\"\")\n",
    "        \n",
    "print(\"The string after removal of all punctuations is:  \" + txt)"
   ]
  }
 ],
 "metadata": {
  "kernelspec": {
   "display_name": "Python 3 (ipykernel)",
   "language": "python",
   "name": "python3"
  },
  "language_info": {
   "codemirror_mode": {
    "name": "ipython",
    "version": 3
   },
   "file_extension": ".py",
   "mimetype": "text/x-python",
   "name": "python",
   "nbconvert_exporter": "python",
   "pygments_lexer": "ipython3",
   "version": "3.9.13"
  }
 },
 "nbformat": 4,
 "nbformat_minor": 5
}
