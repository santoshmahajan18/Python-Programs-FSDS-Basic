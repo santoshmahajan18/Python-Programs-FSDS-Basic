{
 "cells": [
  {
   "cell_type": "markdown",
   "id": "971f2f18",
   "metadata": {},
   "source": [
    "# 1 Python Program Assignment"
   ]
  },
  {
   "cell_type": "markdown",
   "id": "1d1de0ee",
   "metadata": {},
   "source": [
    "1.Write a Python program to print 'Hello Python' ?¶"
   ]
  },
  {
   "cell_type": "code",
   "execution_count": null,
   "id": "fea4fb25",
   "metadata": {},
   "outputs": [],
   "source": [
    "print('Hello Python')"
   ]
  },
  {
   "cell_type": "markdown",
   "id": "981c9660",
   "metadata": {},
   "source": [
    "2.Write a Python program to do arithmetic operations addition and division ?"
   ]
  },
  {
   "cell_type": "code",
   "execution_count": 1,
   "id": "317ed6ee",
   "metadata": {},
   "outputs": [
    {
     "name": "stdout",
     "output_type": "stream",
     "text": [
      "Please select an operator:       \n",
      "Addition(+)      \n",
      "Subtraction(-)      \n",
      "Subtraction(-)      \n",
      "Multiplication(*)      \n",
      "Division(/)      \n",
      "Stop(0)\n",
      "Please enter an arithmetic operator: 12\n",
      "Please enter a correct operator!\n",
      "Please enter an arithmetic operator: *\n",
      "\n",
      "Please enter first number: 4\n",
      "\n",
      "Please enter second number: 3\n",
      "4 * 3 = 12\n",
      "\n",
      "Please enter an arithmetic operator: 0\n",
      "Program terminated!\n"
     ]
    }
   ],
   "source": [
    "import operator\n",
    "ops={\"+\":operator.add,\"-\":operator.sub,\"*\":operator.mul,\"/\":operator.truediv}\n",
    "print(\"Please select an operator: \\\n",
    "      \\nAddition(+)\\\n",
    "      \\nSubtraction(-)\\\n",
    "      \\nSubtraction(-)\\\n",
    "      \\nMultiplication(*)\\\n",
    "      \\nDivision(/)\\\n",
    "      \\nStop(0)\")\n",
    "\n",
    "while True:\n",
    "    operator=input(\"Please enter an arithmetic operator: \")\n",
    "    if operator=='0':\n",
    "        print(\"Program terminated!\")\n",
    "        break\n",
    "        \n",
    "    elif operator not in ['+','-','*','/']:\n",
    "        print(\"Please enter a correct operator!\")\n",
    "        \n",
    "    else:\n",
    "        num1=int(input(\"\\nPlease enter first number: \"))\n",
    "        num2=int(input(\"\\nPlease enter second number: \"))\n",
    "        print('{} {} {} = {}\\n'.format(num1,operator,num2,ops[operator](num1,num2)))\n",
    "    "
   ]
  },
  {
   "cell_type": "markdown",
   "id": "d3c7e2b9",
   "metadata": {},
   "source": [
    "3.Write a Python program to find the area of a triangle ?"
   ]
  },
  {
   "cell_type": "code",
   "execution_count": 7,
   "id": "d5d239bb",
   "metadata": {},
   "outputs": [
    {
     "name": "stdout",
     "output_type": "stream",
     "text": [
      "Please enter base of triangle: 12\n",
      "Please enter height of triangle: 6\n",
      "Area of given triangle in sq.units is:  36.0\n"
     ]
    }
   ],
   "source": [
    "# code to find area of a triangle\n",
    "base=int(input(\"Please enter base of triangle: \"))\n",
    "height=int(input(\"Please enter height of triangle: \"))\n",
    "\n",
    "def area(base,height):\n",
    "    print(\"Area of given triangle in sq.units is: \",0.5*base*height)\n",
    "area(base,height)   "
   ]
  },
  {
   "cell_type": "markdown",
   "id": "e61ad30d",
   "metadata": {},
   "source": [
    "4.Write a Python program to swap two variables ?"
   ]
  },
  {
   "cell_type": "code",
   "execution_count": 16,
   "id": "eac02f0b",
   "metadata": {},
   "outputs": [
    {
     "name": "stdout",
     "output_type": "stream",
     "text": [
      "\n",
      "Please enter first number: 12\n",
      "\n",
      "Please enter second number: 45\n",
      "\n",
      "Before swapping, the numbers were: 12 and 45\n",
      "\n",
      "After swapping, the numbers are: 45 and 12\n"
     ]
    }
   ],
   "source": [
    "# code to swap two variables\n",
    "num1=int(input(\"\\nPlease enter first number: \"))\n",
    "num2=int(input(\"\\nPlease enter second number: \"))\n",
    "\n",
    "def swap(a,b):\n",
    "    temp=a\n",
    "    a=b\n",
    "    b=temp\n",
    "    return a,b\n",
    "print(\"\\nBefore swapping, the numbers were: {} and {}\\n\".format(num1,num2))\n",
    "num1,num2=swap(num1,num2)\n",
    "print(\"After swapping, the numbers are: {} and {}\".format(num1,num2))"
   ]
  },
  {
   "cell_type": "markdown",
   "id": "f6b8a157",
   "metadata": {},
   "source": [
    "5.Write a Python program to generate a random number ?¶"
   ]
  },
  {
   "cell_type": "code",
   "execution_count": 19,
   "id": "d1ddaa4c",
   "metadata": {},
   "outputs": [
    {
     "name": "stdout",
     "output_type": "stream",
     "text": [
      "Random number:  9064\n",
      "Random number:  5\n"
     ]
    }
   ],
   "source": [
    "# code to generate random numbers\n",
    "\n",
    "from random import randint\n",
    "\n",
    "def get_ran(start=0,end=10000):\n",
    "    print(\"Random number: \", randint(start,end))\n",
    "    \n",
    "\n",
    "# generating random numbers without defining arguments\n",
    "get_ran()\n",
    "\n",
    "# generating random numbers with defining arguments\n",
    "get_ran(0,100)"
   ]
  },
  {
   "cell_type": "code",
   "execution_count": null,
   "id": "80d9392b",
   "metadata": {},
   "outputs": [],
   "source": []
  }
 ],
 "metadata": {
  "kernelspec": {
   "display_name": "Python 3 (ipykernel)",
   "language": "python",
   "name": "python3"
  },
  "language_info": {
   "codemirror_mode": {
    "name": "ipython",
    "version": 3
   },
   "file_extension": ".py",
   "mimetype": "text/x-python",
   "name": "python",
   "nbconvert_exporter": "python",
   "pygments_lexer": "ipython3",
   "version": "3.9.13"
  }
 },
 "nbformat": 4,
 "nbformat_minor": 5
}
