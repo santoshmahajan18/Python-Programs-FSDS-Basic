{
 "cells": [
  {
   "cell_type": "markdown",
   "id": "65a7ebd0",
   "metadata": {},
   "source": [
    "# 5 Python Program Assignment"
   ]
  },
  {
   "cell_type": "markdown",
   "id": "0b406503",
   "metadata": {},
   "source": [
    "1. Write a Python Program to find LCM."
   ]
  },
  {
   "cell_type": "code",
   "execution_count": null,
   "id": "022af4a7",
   "metadata": {},
   "outputs": [],
   "source": [
    "# code to find LCM of two numbers\n",
    "n1=int(input(\"Please enter first number: \"))\n",
    "n2=int(input(\"Please enter second number: \"))\n",
    "for i in range(max(n1,n2),1+(n1*n2)):\n",
    "    if i% n1 == 0 and i % n2==0:\n",
    "        lcm = i\n",
    "        break\n",
    "print(f\"The LCM of {n1} and {n2} is: {i}\")"
   ]
  },
  {
   "cell_type": "markdown",
   "id": "ac552120",
   "metadata": {},
   "source": [
    "2. Write a Python Program to find HCF."
   ]
  },
  {
   "cell_type": "code",
   "execution_count": 12,
   "id": "1b86861a",
   "metadata": {},
   "outputs": [
    {
     "name": "stdout",
     "output_type": "stream",
     "text": [
      "Please enter first number: 36\n",
      "Please enter second number: 60\n",
      "The HCF of 36 and 60 is 12\n"
     ]
    }
   ],
   "source": [
    "# code to find HCF of two numbers\n",
    "n1=int(input(\"Please enter first number: \"))\n",
    "n2=int(input(\"Please enter second number: \"))\n",
    "def hcf(n1,n2):\n",
    "    result=min(n1,n2)\n",
    "    \n",
    "    while result:\n",
    "        if n1 % result ==0 and n2 % result == 0:\n",
    "            break\n",
    "        result=result-1\n",
    "    return result\n",
    "print(f\"The HCF of {n1} and {n2} is {hcf(n1,n2)}\")"
   ]
  },
  {
   "cell_type": "markdown",
   "id": "d8e1efff",
   "metadata": {},
   "source": [
    "3. Write a Python Program to Convert Decimal to Binary, Octal and Hexadecimal."
   ]
  },
  {
   "cell_type": "code",
   "execution_count": 14,
   "id": "51c3b27c",
   "metadata": {},
   "outputs": [
    {
     "name": "stdout",
     "output_type": "stream",
     "text": [
      "Please enter your integer: 12\n",
      "Coversion of deminal to binary is:  0b1100\n",
      "Coversion of deminal to octal is:  0o14\n",
      "Coversion of deminal to hexadecimal is:  0xc\n"
     ]
    }
   ],
   "source": [
    "#code to convert decimal to binary, octal and hexadecimal\n",
    "dec=int(input(\"Please enter your integer: \"))\n",
    "\n",
    "print(\"Coversion of deminal to binary is: \",bin(dec))\n",
    "print(\"Coversion of deminal to octal is: \",oct(dec))\n",
    "print(\"Coversion of deminal to hexadecimal is: \",hex(dec))\n"
   ]
  },
  {
   "cell_type": "markdown",
   "id": "b56a0287",
   "metadata": {},
   "source": [
    "4. Write a Python Program to Find the ASCII value of a Character."
   ]
  },
  {
   "cell_type": "code",
   "execution_count": 20,
   "id": "b28a3613",
   "metadata": {},
   "outputs": [
    {
     "name": "stdout",
     "output_type": "stream",
     "text": [
      "Please enter your character: d\n",
      "The ASCII value of a character 'd' is 100\n"
     ]
    }
   ],
   "source": [
    "# code to print ASCII value of a character \n",
    "b= input(\"Please enter your character: \")\n",
    "a=b\n",
    "print(\"The ASCII value of a character '\" + a +\"' is\",ord(a))"
   ]
  },
  {
   "cell_type": "markdown",
   "id": "4b13c1c5",
   "metadata": {},
   "source": [
    "5. Write a Python Program to Make a Simple Calculator with 4 Basic Mathematical operations."
   ]
  },
  {
   "cell_type": "code",
   "execution_count": 37,
   "id": "78da0477",
   "metadata": {},
   "outputs": [
    {
     "name": "stdout",
     "output_type": "stream",
     "text": [
      "Please select an arithmatic operator:       \n",
      "1.Addition(+)      \n",
      "2.Subtraction (-)      \n",
      "3.Multiplication (*)      \n",
      "4.Division (/)      \n",
      "5.Stop(0)\n",
      "\n",
      "Please enter an operator: +\n",
      "Please enter first number: 12\n",
      "Please enter second number: 55\n",
      "12 + 55 = 67\n",
      "\n",
      "Please enter an operator: -\n",
      "Please enter first number: 32\n",
      "Please enter second number: 16\n",
      "32 - 16 = 16\n",
      "\n",
      "Please enter an operator: *\n",
      "Please enter first number: 15\n",
      "Please enter second number: 25\n",
      "15 * 25 = 375\n",
      "\n",
      "Please enter an operator: 169\n",
      "Please enter a valid operator!\n",
      "Please enter an operator: /\n",
      "Please enter first number: 91\n",
      "Please enter second number: 13\n",
      "91 / 13 = 7.0\n",
      "\n",
      "Please enter an operator: 0\n",
      "Program terminated!\n"
     ]
    }
   ],
   "source": [
    "import operator\n",
    "\n",
    "op={\"+\":operator.add, \"-\":operator.sub, \"*\":operator.mul, \"/\":operator.truediv}\n",
    "\n",
    "print(\"Please select an arithmatic operator: \\\n",
    "      \\n1.Addition(+)\\\n",
    "      \\n2.Subtraction (-)\\\n",
    "      \\n3.Multiplication (*)\\\n",
    "      \\n4.Division (/)\\\n",
    "      \\n5.Stop(0)\\n\"\n",
    "     )\n",
    "while True:\n",
    "    operator=input(\"Please enter an operator: \")\n",
    "    if operator == '0':\n",
    "        print(\"Program terminated!\")\n",
    "        break\n",
    "    elif operator not in ['+','-','*','/']:\n",
    "        print(\"Please enter a valid operator!\")\n",
    "    else:\n",
    "        n1=int(input(\"Please enter first number: \"))\n",
    "        n2=int(input(\"Please enter second number: \"))\n",
    "        print(f'{n1} {operator} {n2} = {op[operator](n1,n2)}\\n')        \n",
    "   "
   ]
  },
  {
   "cell_type": "code",
   "execution_count": null,
   "id": "cf8781f5",
   "metadata": {},
   "outputs": [],
   "source": []
  }
 ],
 "metadata": {
  "kernelspec": {
   "display_name": "Python 3 (ipykernel)",
   "language": "python",
   "name": "python3"
  },
  "language_info": {
   "codemirror_mode": {
    "name": "ipython",
    "version": 3
   },
   "file_extension": ".py",
   "mimetype": "text/x-python",
   "name": "python",
   "nbconvert_exporter": "python",
   "pygments_lexer": "ipython3",
   "version": "3.9.13"
  }
 },
 "nbformat": 4,
 "nbformat_minor": 5
}
