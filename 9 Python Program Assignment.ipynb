{
 "cells": [
  {
   "cell_type": "markdown",
   "id": "3768d3c4",
   "metadata": {},
   "source": [
    "# 9 Python Program Assignment"
   ]
  },
  {
   "cell_type": "markdown",
   "id": "d5cd7a9f",
   "metadata": {},
   "source": [
    "1.Write a Python Program to check if the given number is a Disarium Number."
   ]
  },
  {
   "cell_type": "markdown",
   "id": "730e812d",
   "metadata": {},
   "source": [
    "A Disarium number is a number defined by the following process:\n",
    "Sum of its digits powered with their respective position is equal to the original number.\n",
    "For example 175 is a Disarium number:\n",
    "As 11+32+53 = 175"
   ]
  },
  {
   "cell_type": "code",
   "execution_count": 7,
   "id": "483549a4",
   "metadata": {},
   "outputs": [
    {
     "name": "stdout",
     "output_type": "stream",
     "text": [
      "Please enter a number: 175\n",
      "Number 175 is a Disarium number.\n",
      "Please enter a number: 100\n",
      "Number 100 is not a Disarium number.\n"
     ]
    }
   ],
   "source": [
    "# code to check if a number is a Disarium number\n",
    "def dis():\n",
    "    num=input(\"Please enter a number: \")\n",
    "    x=0\n",
    "    for i in range(len(str(num))):\n",
    "        x=x+int(str(num)[i])**(i+1)\n",
    "\n",
    "    if x == int(num):\n",
    "        print(f\"Number {num} is a Disarium number.\")\n",
    "    else: \n",
    "        print(f\"Number {num} is not a Disarium number.\")\n",
    "    \n",
    "\n",
    "dis()\n",
    "dis()"
   ]
  },
  {
   "cell_type": "markdown",
   "id": "d9ff415a",
   "metadata": {},
   "source": [
    "2.Write a Python Program to print all Disarium numbers between 1 to 100."
   ]
  },
  {
   "cell_type": "code",
   "execution_count": 8,
   "id": "b5b7cf1c",
   "metadata": {},
   "outputs": [
    {
     "data": {
      "text/plain": [
       "[0, 1, 2, 3, 4, 5, 6, 7, 8, 9, 89]"
      ]
     },
     "execution_count": 8,
     "metadata": {},
     "output_type": "execute_result"
    }
   ],
   "source": [
    "# code to print all Disarium numbers between 1 to 100 \n",
    "def find_disar(start=0,end=100):\n",
    "    out_list=[]\n",
    "    for num in range(start,end+1):\n",
    "        sum=0\n",
    "        for i in range(len(str(num))):\n",
    "            sum=sum+int(str(num)[i])**(i+1)\n",
    "        if sum==num:\n",
    "            out_list.append(num)\n",
    "    return out_list    \n",
    "find_disar(0,100)"
   ]
  },
  {
   "cell_type": "markdown",
   "id": "f3b53fa1",
   "metadata": {},
   "source": [
    "3. Write a Python Program to check if the given number is a Happy Number."
   ]
  },
  {
   "cell_type": "markdown",
   "id": "949ee0b3",
   "metadata": {},
   "source": [
    "A number is called happy if it leads to 1 after a sequence of steps wherein each step number is replaced by the sum of squares of its digit that is if we start with Happy Number and keep replacing it with digits square sum, we reach 1. \n",
    "\n",
    "For example: 19 is Happy Number,\n",
    "\n",
    "1^2 + 9^2 = 82\n",
    "\n",
    "8^2 + 2^2 = 68\n",
    "\n",
    "6^2 + 8^2 = 100\n",
    "\n",
    "1^2 + 0^2 + 0^2 = 1\n",
    "\n",
    "As we reached to 1, 19 is a Happy Number."
   ]
  },
  {
   "cell_type": "code",
   "execution_count": 9,
   "id": "ef7a4ecd",
   "metadata": {},
   "outputs": [
    {
     "name": "stdout",
     "output_type": "stream",
     "text": [
      "Please enter your number: 19\n",
      "19 is a happy number\n"
     ]
    }
   ],
   "source": [
    "# code to find if a number is happy or not\n",
    "def is_happy(num):    \n",
    "    \n",
    "    rem = sum = 0\n",
    "    #Calculates the sum of squares of digits    \n",
    "    while num>0:\n",
    "        rem=num%10 # gives remainder when the number is divided by 10\n",
    "                   # in every iteration, we will get a new remainder\n",
    "        sum=sum+rem*rem\n",
    "        \n",
    "        num=num//10 # gives the quotient when the number is divided by 10\n",
    "                    # in every iteration, the number will go on reducing in terms of digits from right to left\n",
    "    return sum\n",
    "\n",
    "num=int(input(\"Please enter your number: \"))\n",
    "result=num\n",
    "\n",
    "while result!=1 and result!=4:\n",
    "    result=is_happy(result)\n",
    "\n",
    "#Happy number always ends with 1    \n",
    "if(result == 1):    \n",
    "    print(str(num) + \" is a happy number\");    \n",
    "    \n",
    "#Unhappy number ends in a cycle of repeating numbers which contain 4    \n",
    "elif(result == 4):    \n",
    "    print(str(num) + \" is not a happy number\");   "
   ]
  },
  {
   "cell_type": "markdown",
   "id": "900b8a83",
   "metadata": {},
   "source": [
    "4.Write a Python Program to print all Happy numbers between 1 and 100."
   ]
  },
  {
   "cell_type": "code",
   "execution_count": 10,
   "id": "e6bf3f65",
   "metadata": {},
   "outputs": [
    {
     "name": "stdout",
     "output_type": "stream",
     "text": [
      "The list of happy numbers between 1 and 100 are : \n",
      "1\n",
      "7\n",
      "10\n",
      "13\n",
      "19\n",
      "23\n",
      "28\n",
      "31\n",
      "32\n",
      "44\n",
      "49\n",
      "68\n",
      "70\n",
      "79\n",
      "82\n",
      "86\n",
      "91\n",
      "94\n",
      "97\n",
      "100\n"
     ]
    }
   ],
   "source": [
    "def check_happy_num(my_num):\n",
    "    rem=sum=0\n",
    "    \n",
    "    while(my_num > 0):\n",
    "        rem = my_num % 10\n",
    "        sum = sum + rem * rem\n",
    "        my_num= my_num//10\n",
    "    \n",
    "    return sum   \n",
    "         \n",
    "print(\"The list of happy numbers between 1 and 100 are : \")\n",
    "for i in range(1, 101):   \n",
    "   my_result = i   \n",
    "     \n",
    "   while(my_result != 1 and my_result != 4):   \n",
    "      my_result = check_happy_num(my_result)   \n",
    "      \n",
    "   if(my_result == 1):   \n",
    "      print(i)"
   ]
  },
  {
   "cell_type": "markdown",
   "id": "6b267816",
   "metadata": {},
   "source": [
    "5.Write a Python Program to determine whether the given number is a Harshad Number."
   ]
  },
  {
   "cell_type": "markdown",
   "id": "051fd44f",
   "metadata": {},
   "source": [
    "In mathematics, a number is said to be Harshad number if it is divisible by the sum of its digits.\n",
    "\n",
    "Harshad number examples: 153, 156, 24 etc.\n",
    "\n",
    "153 is Harshad number becuase it is divisible by 1+5+3=9 i.e. 153/(1+5+3) = 153/9 = 17."
   ]
  },
  {
   "cell_type": "code",
   "execution_count": 11,
   "id": "31243bb6",
   "metadata": {},
   "outputs": [
    {
     "name": "stdout",
     "output_type": "stream",
     "text": [
      "Please enter a number: 153\n",
      "Yes 153 is a Harshad number!\n"
     ]
    }
   ],
   "source": [
    "# code to find a Harshad number\n",
    "#first reading a number\n",
    "num=int(input(\"Please enter a number: \"))\n",
    "              \n",
    "# making copy of number for later use\n",
    "copy=num\n",
    "              \n",
    "# finding sum of digits\n",
    "digit_sum=0\n",
    "\n",
    "while num:\n",
    "    digit_sum = digit_sum + num%10 # first we segregate each digit of the number and then go on adding them\n",
    "                                #variable digit_sum which is zero in the beginning adds remainder of num/10 to itself\n",
    "                                # in every iteration\n",
    "    num=num//10 # quotient obtained by dividing number by 10 becomes the new number, so the number goes on reducing\n",
    "                # in every iteration\n",
    "    \n",
    "# checking divisibility & taking decision\n",
    "              \n",
    "if copy % digit_sum==0: # checking if the number is divisible by the sum of its digits. If yes, then its a Harshad number\n",
    "    print(f\"Yes {copy} is a Harshad number!\")\n",
    "else:\n",
    "    print(f\"No {copy} is not a Harshad number!\")"
   ]
  },
  {
   "cell_type": "code",
   "execution_count": 3,
   "id": "0144b3fa",
   "metadata": {},
   "outputs": [
    {
     "name": "stdout",
     "output_type": "stream",
     "text": [
      "Please enter your number:256\n",
      "No 256 is not a Harshad number!\n",
      "Please enter your number:153\n",
      "Yes 153 is a Harshad number!\n"
     ]
    }
   ],
   "source": [
    "# code to find Harshad number using function method\n",
    "\n",
    "def check_harsh():\n",
    "    \n",
    "    num=input(\"Please enter your number:\") # takes input in form of string\n",
    "    \n",
    "    sum=0 # initializing sum of digits to zero\n",
    "    \n",
    "    for i in range(len(num)): # iteration over the entire length of number\n",
    "        \n",
    "        sum = sum + int(num[i]) # we add all the digits of the number\n",
    "        \n",
    "    if int(num)%sum==0: # if the number is divisible by sum of its digits, it is a Harshad number\n",
    "        \n",
    "        print(f\"Yes {num} is a Harshad number!\")\n",
    "        \n",
    "    else:\n",
    "        \n",
    "        print(f\"No {num} is not a Harshad number!\")\n",
    "        \n",
    "check_harsh()       \n",
    "check_harsh()"
   ]
  },
  {
   "cell_type": "markdown",
   "id": "fb2b1da1",
   "metadata": {},
   "source": [
    "6.Write a Python Program to print all pronic numbers between 1 and 100."
   ]
  },
  {
   "cell_type": "markdown",
   "id": "9782595f",
   "metadata": {},
   "source": [
    "Any given number is called as a pronic number if the value of that number is equal to the product of two consecutive integers of the form: n(n+1). For example 6 is a pronic number, because 2 x 3 = 6"
   ]
  },
  {
   "cell_type": "code",
   "execution_count": 5,
   "id": "13683294",
   "metadata": {},
   "outputs": [
    {
     "name": "stdout",
     "output_type": "stream",
     "text": [
      "Please enter minimum Pro number0\n",
      "Please enter maximum Pro number100\n",
      "The list of pronic numbers from 0 to 100 is: \n",
      "0 2 6 12 20 30 42 56 72 90 "
     ]
    }
   ],
   "source": [
    "# code to print pronic numbers between 1 and 100\n",
    "def check_pro(num):\n",
    "    i=0\n",
    "    flag=0\n",
    "    while i <= num:\n",
    "        if num == i * (i+1):\n",
    "            flag = 1\n",
    "            break\n",
    "        i = i + 1\n",
    "    return flag\n",
    "min_num=int(input(\"Please enter minimum Pro number\"))\n",
    "max_num=int(input(\"Please enter maximum Pro number\"))\n",
    "print(f'The list of pronic numbers from {min_num} to {max_num} is: ')\n",
    "for i in range(min_num,max_num):\n",
    "    if(check_pro(i)==1):\n",
    "        print(i,end=\" \")       \n",
    "              "
   ]
  },
  {
   "cell_type": "code",
   "execution_count": null,
   "id": "d87f8498",
   "metadata": {},
   "outputs": [],
   "source": []
  }
 ],
 "metadata": {
  "kernelspec": {
   "display_name": "Python 3 (ipykernel)",
   "language": "python",
   "name": "python3"
  },
  "language_info": {
   "codemirror_mode": {
    "name": "ipython",
    "version": 3
   },
   "file_extension": ".py",
   "mimetype": "text/x-python",
   "name": "python",
   "nbconvert_exporter": "python",
   "pygments_lexer": "ipython3",
   "version": "3.9.13"
  }
 },
 "nbformat": 4,
 "nbformat_minor": 5
}
