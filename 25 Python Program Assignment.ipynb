{
 "cells": [
  {
   "cell_type": "markdown",
   "id": "bd9d23eb",
   "metadata": {},
   "source": [
    "# 25 Python Program Assignment"
   ]
  },
  {
   "cell_type": "markdown",
   "id": "01e4fcb7",
   "metadata": {},
   "source": [
    "**1.Create a function that takes three integer arguments (a, b, c) and returns the amount of integers which are of equal value.**\n",
    "\n",
    "Examples:\n",
    "\n",
    "equal(3, 4, 3) ➞ 2\n",
    "\n",
    "equal(1, 1, 1) ➞ 3\n",
    "\n",
    "equal(3, 4, 1) ➞ 0\n",
    "\n",
    "Notes:\n",
    "\n",
    "Your function must return 0, 2 or 3."
   ]
  },
  {
   "cell_type": "code",
   "execution_count": 8,
   "id": "52a510b1",
   "metadata": {},
   "outputs": [
    {
     "name": "stdout",
     "output_type": "stream",
     "text": [
      "Please enter the three numbers separted by comma: 3,4,3\n",
      "(3, 3, 4) ----> 2\n",
      "\n",
      "Please enter the three numbers separted by comma: 1,1,1\n",
      "(1, 1, 1) ----> 3\n",
      "\n",
      "Please enter the three numbers separted by comma: 1,4,3\n",
      "(1, 3, 4) ----> 0\n",
      "\n"
     ]
    }
   ],
   "source": [
    "# code to create a function to return the number of integers which are of equal value\n",
    "\n",
    "def equal():\n",
    "    \n",
    "    s=[] # creating a blank list\n",
    "    \n",
    "    s=[int(i) for i in input(\"Please enter the three numbers separted by comma: \").split(',')]\n",
    "    # taking three elements separted by comma and then splitting the list to get individual elements in the form of integer\n",
    "    \n",
    "    a,b,c=sorted(s) #assigning the three elements of this list to a,b and c.\n",
    "    \n",
    "    if a==b==c:\n",
    "        \n",
    "        print(f'{a,b,c} ----> {3}\\n')\n",
    "        \n",
    "    elif a==b or b==c:\n",
    "        \n",
    "        print(f'{a,b,c} ----> {2}\\n') \n",
    "        \n",
    "    else:    \n",
    "        \n",
    "        print(f'{a,b,c} ----> {0}\\n')\n",
    "\n",
    "for y in range(3):\n",
    "    \n",
    "            equal()"
   ]
  },
  {
   "cell_type": "markdown",
   "id": "ab745538",
   "metadata": {},
   "source": [
    "**2.Write a function that converts a dictionary into a list of keys-values tuples.**\n",
    "\n",
    "\n",
    "Examples:\n",
    "\n",
    "dict_to_list({\n",
    "    \"D\": 1,\n",
    "    \"B\": 2,\n",
    "    \"C\": 3\n",
    "    }) ➞ [(\"B\", 2), (\"C\", 3), (\"D\", 1)]  \n",
    "    \n",
    "dict_to_list({\n",
    "    \"likes\": 2,\n",
    "    \"dislikes\": 3,\n",
    "    \"followers\": 10\n",
    "    }) ➞ [(\"dislikes\", 3), (\"followers\", 10), (\"likes\", 2)]\n",
    "\n",
    "Notes:\n",
    "\n",
    "Return the elements in the list in alphabetical order."
   ]
  },
  {
   "cell_type": "code",
   "execution_count": 16,
   "id": "2b3ba4c0",
   "metadata": {},
   "outputs": [
    {
     "name": "stdout",
     "output_type": "stream",
     "text": [
      "The conversion of input dictionary {'D': 1, 'B': 2, 'C': 3} to list is : [('B', 2), ('C', 3), ('D', 1)]\n",
      "\n",
      "The conversion of input dictionary {'likes': 2, 'dislikes': 3, 'followers': 10} to list is : [('dislikes', 3), ('followers', 10), ('likes', 2)]\n",
      "\n"
     ]
    }
   ],
   "source": [
    "# code to convert a dictionary to a key-value tuples\n",
    "\n",
    "def dict_to_list(my_dict):\n",
    "    \n",
    "    result=[]\n",
    "    \n",
    "    for keys,values in my_dict.items():\n",
    "        \n",
    "        result.append((keys,values))\n",
    "        \n",
    "        result=sorted(result)\n",
    "        \n",
    "    print(f'The conversion of input dictionary {my_dict} to list is : {result}\\n')\n",
    "\n",
    "my_dict= { \"D\": 1, \"B\": 2, \"C\": 3 } \n",
    "dict_to_list(my_dict)\n",
    "\n",
    "my_dict= { \"likes\": 2, \"dislikes\": 3, \"followers\": 10 }\n",
    "dict_to_list(my_dict)"
   ]
  },
  {
   "cell_type": "markdown",
   "id": "de7cd1fa",
   "metadata": {},
   "source": [
    "**3.Write a function that creates a dictionary with each (key, value) pair being the (lower case, upper case) versions of a letter, respectively.**\n",
    "\n",
    "Examples:\n",
    "\n",
    "mapping([\"p\", \"s\"]) ➞ { \"p\": \"P\", \"s\": \"S\" }\n",
    "\n",
    "mapping([\"a\", \"b\", \"c\"]) ➞ { \"a\": \"A\", \"b\": \"B\", \"c\": \"C\" }\n",
    "\n",
    "mapping([\"a\", \"v\", \"y\", \"z\"]) ➞ { \"a\": \"A\", \"v\": \"V\", \"y\": \"Y\", \"z\": \"Z\" }\n",
    "\n",
    "Notes:\n",
    "\n",
    "All of the letters in the input list will always be lowercase."
   ]
  },
  {
   "cell_type": "code",
   "execution_count": 21,
   "id": "04128149",
   "metadata": {},
   "outputs": [
    {
     "name": "stdout",
     "output_type": "stream",
     "text": [
      "The input list is : ['p', 's'] and the output dictionary is: {'p': 'P', 's': 'S'}\n",
      "\n",
      "The input list is : ['a', 'b', 'c'] and the output dictionary is: {'a': 'A', 'b': 'B', 'c': 'C'}\n",
      "\n",
      "The input list is : ['a', 'v', 'y', 'z'] and the output dictionary is: {'a': 'A', 'v': 'V', 'y': 'Y', 'z': 'Z'}\n",
      "\n"
     ]
    }
   ],
   "source": [
    "# code to create a dictionary from a list where key value pair will be lower case letter and upper case letter\n",
    "\n",
    "def mapping(my_list):\n",
    "    \n",
    "    result={}\n",
    "    \n",
    "    for i in my_list:\n",
    "        \n",
    "        result[i]=i.upper()\n",
    "        \n",
    "    print(f'The input list is : {my_list} and the output dictionary is: {result}\\n')\n",
    "    \n",
    "my_list=[\"p\", \"s\"]\n",
    "mapping(my_list)\n",
    "\n",
    "my_list=[\"a\", \"b\", \"c\"]\n",
    "mapping(my_list)\n",
    "\n",
    "my_list=[\"a\", \"v\", \"y\", \"z\"]\n",
    "mapping(my_list)"
   ]
  },
  {
   "cell_type": "markdown",
   "id": "4cee22df",
   "metadata": {},
   "source": [
    "**4.Write a function, that replaces all vowels in a string with a specified vowel.**\n",
    "\n",
    "Examples:\n",
    "\n",
    "vow_replace(\"apples and bananas\", \"u\") ➞ \"upplus und bununus\"\n",
    "\n",
    "vow_replace(\"cheese casserole\", \"o\") ➞ \"chooso cossorolo\"\n",
    "\n",
    "vow_replace(\"stuffed jalapeno poppers\", \"e\") ➞ \"steffed jelepene peppers\"\n",
    "\n",
    "Notes:\n",
    "\n",
    "All words will be lowercase. Y is not considered a vowel."
   ]
  },
  {
   "cell_type": "code",
   "execution_count": 23,
   "id": "1a01c469",
   "metadata": {},
   "outputs": [
    {
     "name": "stdout",
     "output_type": "stream",
     "text": [
      "The input string is: apples and bananas and the output string is: upplus und bununus\n",
      "\n",
      "The input string is: cheese casserole and the output string is: chooso cossorolo\n",
      "\n",
      "The input string is: stuffed jalapeno poppers and the output string is: steffed jelepene peppers\n",
      "\n"
     ]
    }
   ],
   "source": [
    "# code to replace all vowels in a string with a specified vowel\n",
    "\n",
    "def vow_replace(my_string,repl_char):\n",
    "    \n",
    "    result=''\n",
    "    \n",
    "    a=['a','e','i','o','u']\n",
    "    \n",
    "    for i in my_string:\n",
    "        \n",
    "        if i in a:\n",
    "            \n",
    "            result=result+repl_char\n",
    "            \n",
    "        else:\n",
    "                        \n",
    "            result=result+i\n",
    "            \n",
    "    print(f'The input string is: {my_string} and the output string is: {result}\\n')\n",
    "\n",
    "my_string=\"apples and bananas\"\n",
    "repl_char=\"u\"\n",
    "vow_replace(my_string,repl_char)\n",
    "\n",
    "my_string=\"cheese casserole\"\n",
    "repl_char=\"o\"\n",
    "vow_replace(my_string,repl_char)\n",
    "\n",
    "my_string=\"stuffed jalapeno poppers\"\n",
    "repl_char=\"e\"\n",
    "vow_replace(my_string,repl_char)"
   ]
  },
  {
   "cell_type": "markdown",
   "id": "551a4ae9",
   "metadata": {},
   "source": [
    "**5.Create a function that takes a string as input and capitalizes a letter if its ASCII code is even and returns its lower case version if its ASCII code is odd.**\n",
    "\n",
    "Examples:\n",
    "\n",
    "ascii_capitalize(\"to be or not to be!\") ➞ \"To Be oR NoT To Be!\"\n",
    "\n",
    "ascii_capitalize(\"THE LITTLE MERMAID\") ➞ \"THe LiTTLe meRmaiD\"\n",
    "\n",
    "ascii_capitalize(\"Oh what a beautiful morning.\") ➞ \"oH wHaT a BeauTiFuL moRNiNg.\""
   ]
  },
  {
   "cell_type": "code",
   "execution_count": 24,
   "id": "597bdd7b",
   "metadata": {},
   "outputs": [
    {
     "name": "stdout",
     "output_type": "stream",
     "text": [
      "The input string is : to be or not to be! and the output string is: To Be oR NoT To Be!\n",
      "\n",
      "The input string is : THE LITTLE MERMAID and the output string is: THe LiTTLe meRmaiD\n",
      "\n",
      "The input string is : Oh what a beautiful morning. and the output string is: oH wHaT a BeauTiFuL moRNiNg.\n",
      "\n"
     ]
    }
   ],
   "source": [
    "# code to create a function that takes a string as input and capitalizes a letter if its ASCII code is even or returns\n",
    "# its lower case if ASCII is not odd\n",
    "\n",
    "def ascii_cpatialize(my_string):\n",
    "    \n",
    "    result=''\n",
    "    \n",
    "    for i in my_string.lower():\n",
    "        \n",
    "        if (ord(i)%2==0):\n",
    "            \n",
    "            result=result+i.upper()\n",
    "            \n",
    "        else:\n",
    "            \n",
    "            result=result+i\n",
    "            \n",
    "    print(f'The input string is : {my_string} and the output string is: {result}\\n')\n",
    "    \n",
    "my_string=\"to be or not to be!\"\n",
    "ascii_cpatialize(my_string)\n",
    "\n",
    "my_string= \"THE LITTLE MERMAID\"\n",
    "ascii_cpatialize(my_string)\n",
    "\n",
    "my_string= \"Oh what a beautiful morning.\"\n",
    "ascii_cpatialize(my_string)\n",
    "    "
   ]
  },
  {
   "cell_type": "code",
   "execution_count": null,
   "id": "5d0c4e76",
   "metadata": {},
   "outputs": [],
   "source": []
  }
 ],
 "metadata": {
  "kernelspec": {
   "display_name": "Python 3 (ipykernel)",
   "language": "python",
   "name": "python3"
  },
  "language_info": {
   "codemirror_mode": {
    "name": "ipython",
    "version": 3
   },
   "file_extension": ".py",
   "mimetype": "text/x-python",
   "name": "python",
   "nbconvert_exporter": "python",
   "pygments_lexer": "ipython3",
   "version": "3.9.13"
  }
 },
 "nbformat": 4,
 "nbformat_minor": 5
}
