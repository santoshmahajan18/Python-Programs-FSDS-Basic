{
 "cells": [
  {
   "cell_type": "markdown",
   "id": "b21b82a4",
   "metadata": {},
   "source": [
    "# 15 Python Program Assignment"
   ]
  },
  {
   "cell_type": "markdown",
   "id": "fc956523",
   "metadata": {},
   "source": [
    "**1. Please write a program using generator to print the numbers which can be divisible by 5 and 7 between 0 and n in comma separated form while n is input by console.**\n",
    "\n",
    "Example:\n",
    "\n",
    "If the following n is given as input to the program: 100\n",
    "\n",
    "Then, the output of the program should be: 0,35,70"
   ]
  },
  {
   "cell_type": "code",
   "execution_count": 25,
   "id": "5e1532f2",
   "metadata": {},
   "outputs": [
    {
     "name": "stdout",
     "output_type": "stream",
     "text": [
      "Please enter the range of number: 200\n",
      "0 35 70 105 140 175 "
     ]
    }
   ],
   "source": [
    "# code to list numbers divisible by both 5 & 7\n",
    "\n",
    "def check_div():\n",
    "    \n",
    "    num=int(input(\"Please enter the range of number: \")) # asking user to enter range of number\n",
    "    \n",
    "    for element in range(0,num):\n",
    "        \n",
    "        if element%5 ==0 and element % 7 == 0: # checking divisibility of each number in the range with 5 & 7\n",
    "            \n",
    "            yield element\n",
    "       \n",
    "for element in check_div():\n",
    "    \n",
    "    print(element,end=' ')        \n",
    "    "
   ]
  },
  {
   "cell_type": "markdown",
   "id": "aaecc907",
   "metadata": {},
   "source": [
    "**2.Please write a program using generator to print the even numbers between 0 and n in comma separated form while n is input by console ?**\n",
    "\n",
    "Example:\n",
    "\n",
    "If the following n is given as input to the program: 10\n",
    "\n",
    "Then, the output of the program should be: 0,2,4,6,8,10"
   ]
  },
  {
   "cell_type": "code",
   "execution_count": 26,
   "id": "6fab5ac9",
   "metadata": {},
   "outputs": [
    {
     "name": "stdout",
     "output_type": "stream",
     "text": [
      "Please enter the range of number: 100\n",
      "0 2 4 6 8 10 12 14 16 18 20 22 24 26 28 30 32 34 36 38 40 42 44 46 48 50 52 54 56 58 60 62 64 66 68 70 72 74 76 78 80 82 84 86 88 90 92 94 96 98 "
     ]
    }
   ],
   "source": [
    "# code to list even numbers between 0 and n\n",
    "def check_div():\n",
    "    \n",
    "    num=int(input(\"Please enter the range of number: \")) # asking user to enter range of number\n",
    "    \n",
    "    for element in range(0,num):\n",
    "        \n",
    "        if element % 2 ==0 : # checking divisibility of each number in the range with 2\n",
    "            \n",
    "            yield element\n",
    "       \n",
    "for element in check_div():\n",
    "    \n",
    "    print(element,end=' ')       "
   ]
  },
  {
   "cell_type": "markdown",
   "id": "0937d7a6",
   "metadata": {},
   "source": [
    "**3.The Fibonacci Sequence is computed based on the following formula below, Please write a program using list comprehension to print the Fibonacci Sequence in comma separated form with a given n input by console.**\n",
    "\n",
    "f(n)=0 if n=0\n",
    "\n",
    "f(n)=1 if n=1\n",
    "\n",
    "f(n)=f(n-1)+f(n-2) if n>1"
   ]
  },
  {
   "cell_type": "code",
   "execution_count": 31,
   "id": "07f6ac44",
   "metadata": {},
   "outputs": [
    {
     "name": "stdout",
     "output_type": "stream",
     "text": [
      "[0, 1, 1, 2, 3, 5, 8, 13, 21, 34]\n"
     ]
    }
   ],
   "source": [
    "# code to generate fib series with input n\n",
    "def fib(n):\n",
    "    if n==0:\n",
    "        return 0\n",
    "    elif n==1:\n",
    "        return 1\n",
    "    else:\n",
    "        return fib(n-1)+fib(n-2)\n",
    "    \n",
    "print([fib(x) for x in range (10)])"
   ]
  },
  {
   "cell_type": "markdown",
   "id": "a5c9296a",
   "metadata": {},
   "source": [
    "**4.Assuming that we have some email addresses in the \"username@companyname.com\" format, please write program to print the user name of a given email address. Both user names and company names are composed of letters only.**\n",
    "\n",
    "Example:\n",
    "\n",
    "If the following email address is given as input to the program: john@google.com\n",
    "\n",
    "Then, the output of the program should be: john"
   ]
  },
  {
   "cell_type": "code",
   "execution_count": 33,
   "id": "c5d970e6",
   "metadata": {},
   "outputs": [
    {
     "name": "stdout",
     "output_type": "stream",
     "text": [
      "enter email idjack@gmail.com\n",
      "the username of jack@gmail.com is jack\n",
      "enter email idjohn@gmail.com\n",
      "the username of john@gmail.com is john\n",
      "enter email idanil@gmail.com\n",
      "the username of anil@gmail.com is anil\n"
     ]
    }
   ],
   "source": [
    "# code to print out only the user name from email id\n",
    "def name():\n",
    "    s=input(\"enter email id\")\n",
    "    result=s.split('@')\n",
    "    print(f'the username of {s} is {result[0]}')\n",
    "          \n",
    "for i in range(3):\n",
    "          name()"
   ]
  },
  {
   "cell_type": "markdown",
   "id": "596588d8",
   "metadata": {},
   "source": [
    "**5.Define a class named Shape and its subclass Square. The Square class has an init function which takes a length as argument. Both classes have a area function which can print the area of the shape where Shape's area is 0 by default.**"
   ]
  },
  {
   "cell_type": "code",
   "execution_count": 34,
   "id": "d8e272f0",
   "metadata": {},
   "outputs": [
    {
     "name": "stdout",
     "output_type": "stream",
     "text": [
      "625\n"
     ]
    }
   ],
   "source": [
    "class Shape:\n",
    "    def area(self):\n",
    "        return 0\n",
    "    \n",
    "class Square:\n",
    "    def __init__(self,length):\n",
    "        self.length=length\n",
    "    def area(self):\n",
    "        return self.length*self.length\n",
    "    \n",
    "square=Square(25)\n",
    "print(square.area())"
   ]
  }
 ],
 "metadata": {
  "kernelspec": {
   "display_name": "Python 3 (ipykernel)",
   "language": "python",
   "name": "python3"
  },
  "language_info": {
   "codemirror_mode": {
    "name": "ipython",
    "version": 3
   },
   "file_extension": ".py",
   "mimetype": "text/x-python",
   "name": "python",
   "nbconvert_exporter": "python",
   "pygments_lexer": "ipython3",
   "version": "3.9.13"
  }
 },
 "nbformat": 4,
 "nbformat_minor": 5
}
