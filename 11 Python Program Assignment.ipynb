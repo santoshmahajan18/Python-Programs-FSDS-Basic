{
 "cells": [
  {
   "cell_type": "markdown",
   "id": "26f3546f",
   "metadata": {},
   "source": [
    "# 11 Python Program Assignment"
   ]
  },
  {
   "cell_type": "markdown",
   "id": "e36744ea",
   "metadata": {},
   "source": [
    "1. Write a Python program to find words which are greater than given length k."
   ]
  },
  {
   "cell_type": "code",
   "execution_count": 1,
   "id": "c60c776d",
   "metadata": {},
   "outputs": [
    {
     "name": "stdout",
     "output_type": "stream",
     "text": [
      "['India', 'fastest', 'growing', 'economy']\n"
     ]
    }
   ],
   "source": [
    "# code to find words greater than a given length k\n",
    "# function find string greater than length k\n",
    "def find_str(k,str):\n",
    "    \n",
    "    # create an empty string\n",
    "    string=[]\n",
    "    \n",
    "    # split the string based on spaces\n",
    "    txt=str.split(\" \")\n",
    "    \n",
    "    for i in txt: # checking each element in the list txt for its length\n",
    "        \n",
    "        if len(i) > k: # if length of the element is greater than k\n",
    "            \n",
    "            string.append(i) # I will apend the element to the empty list 'string'.\n",
    "            \n",
    "    return string # final outcome of this function: string will be returned\n",
    "\n",
    "k=4\n",
    "str=\"India is the fastest growing economy in Asia\"\n",
    "\n",
    "print(find_str(k,str))"
   ]
  },
  {
   "cell_type": "markdown",
   "id": "f0900602",
   "metadata": {},
   "source": [
    "2. Write a Python program for removing i-th character from a string."
   ]
  },
  {
   "cell_type": "code",
   "execution_count": 2,
   "id": "06910c60",
   "metadata": {},
   "outputs": [
    {
     "name": "stdout",
     "output_type": "stream",
     "text": [
      "progamming\n"
     ]
    }
   ],
   "source": [
    "# code for removing i-th character from a string\n",
    "\n",
    "def remov_char(s,i): # initiating a function\n",
    "    \n",
    "    a=s[:i] # creating a list of characters from start to index i (i is excluded from this list)\n",
    "    \n",
    "    b=s[i+1:] # creating another list of characters from index i+1 till end\n",
    "    \n",
    "    return a+b # concatinating the two lists will give a new list without this ith character\n",
    "\n",
    "string=\"programming\"\n",
    "\n",
    "#remove the element at ith index\n",
    "i=4\n",
    "print(remov_char(string,4))"
   ]
  },
  {
   "cell_type": "markdown",
   "id": "703817b8",
   "metadata": {},
   "source": [
    "3. Write a Python program to split and join a string."
   ]
  },
  {
   "cell_type": "code",
   "execution_count": 8,
   "id": "de596729",
   "metadata": {},
   "outputs": [
    {
     "name": "stdout",
     "output_type": "stream",
     "text": [
      "['India', 'is', 'the', 'fastest', 'growing', 'economy', 'in', 'Asia']\n",
      "\n",
      "India * is * the * fastest * growing * economy * in * Asia\n"
     ]
    }
   ],
   "source": [
    "# code to split and join a string\n",
    "# input string\n",
    "s=\"India is the fastest growing economy in Asia\"\n",
    "\n",
    "# print the string after split method\n",
    "print(s.split(\" \"),end='\\n\\n')\n",
    "\n",
    "# print the string after joining them together\n",
    "print(\" * \".join(s.split()))\n",
    "\n"
   ]
  },
  {
   "cell_type": "markdown",
   "id": "a2a90224",
   "metadata": {},
   "source": [
    "4. Write a Python program to check if a given string is binary string or not."
   ]
  },
  {
   "cell_type": "code",
   "execution_count": 11,
   "id": "7eb02cdb",
   "metadata": {},
   "outputs": [
    {
     "name": "stdout",
     "output_type": "stream",
     "text": [
      "00111000111 is a binary string!\n",
      "111100011100 is a binary string!\n"
     ]
    }
   ],
   "source": [
    "# code to check if a string is binary string or not\n",
    "def check_str(str):\n",
    "    b=set(str)\n",
    "    s={'0','1'}\n",
    "    if s==b or b=={'0'} or b == {'1'}:\n",
    "        print(f\"{str} is a binary string!\")\n",
    "    else:\n",
    "        print(f\"{str} is not a binary string!\")\n",
    "    \n",
    "\n",
    "s1='00111000111'\n",
    "check_str(s1)\n",
    "\n",
    "s2='111100011100'\n",
    "check_str(s2)"
   ]
  },
  {
   "cell_type": "markdown",
   "id": "006ca727",
   "metadata": {},
   "source": [
    "5. Write a Python program to find uncommon words from two Strings."
   ]
  },
  {
   "cell_type": "code",
   "execution_count": 14,
   "id": "90a30e0f",
   "metadata": {},
   "outputs": [
    {
     "name": "stdout",
     "output_type": "stream",
     "text": [
      "['country', 'economy', 'a', 'the', 'One', 'fastest', 'of']\n"
     ]
    }
   ],
   "source": [
    "# code to list all the uncommon words from two strings\n",
    "def uncom(a,b):\n",
    "    a=a.split()\n",
    "    b=b.split()\n",
    "    x=[]\n",
    "    for i in a:\n",
    "        if i not in b:\n",
    "            x.append(i)\n",
    "    for i in b:\n",
    "        if i not in a:\n",
    "            x.append(i)\n",
    "            \n",
    "    x=list(set(x))\n",
    "    return x\n",
    "    \n",
    "a= \"India is a growing economy\"\n",
    "b=\"One of the fastest growing country is India\"\n",
    "print(uncom(a,b))\n",
    "    "
   ]
  },
  {
   "cell_type": "markdown",
   "id": "aebaa47e",
   "metadata": {},
   "source": [
    "6. Write a Python code to find all duplicate characters in string."
   ]
  },
  {
   "cell_type": "code",
   "execution_count": 15,
   "id": "3e77d5af",
   "metadata": {},
   "outputs": [
    {
     "name": "stdout",
     "output_type": "stream",
     "text": [
      "['s', 'e', 't', 'i', 'l']\n"
     ]
    }
   ],
   "source": [
    "# code to find all the duplicate characters in a string\n",
    "\n",
    "def dup_char(str):\n",
    "    chars={}\n",
    "    for i in str:\n",
    "        if i not in chars:\n",
    "            chars[i]=1\n",
    "        else:\n",
    "            chars[i]=chars[i]+1\n",
    "            \n",
    "    duplics=[]\n",
    "    \n",
    "    for i,count in chars.items():\n",
    "        if count > 1:\n",
    "            duplics.append(i)\n",
    "            \n",
    "    return duplics\n",
    "\n",
    "print(dup_char(\"speedthrillsbutkills\"))      \n",
    "    \n",
    "    "
   ]
  },
  {
   "cell_type": "markdown",
   "id": "669f1e7f",
   "metadata": {},
   "source": [
    "7. Write a Python Program to check if a string contains any special character."
   ]
  },
  {
   "cell_type": "code",
   "execution_count": 24,
   "id": "619f5e24",
   "metadata": {},
   "outputs": [
    {
     "name": "stdout",
     "output_type": "stream",
     "text": [
      "The given string contains special characters.\n"
     ]
    }
   ],
   "source": [
    "# code to check if any special characters exist in a string\n",
    "\n",
    "a='India\\'s success $$ story # has been @@ well appreciated globally!!!' # given string\n",
    "\n",
    "a.split() # splitting the string\n",
    "\n",
    "b=0 # initiatlizing count of special characters\n",
    "\n",
    "s='[@_!#$%^&*()<>?/\\|}{~:]' # creating a list of all special characters\n",
    "\n",
    "for i in range(len(a)): # iterating through the entire length of the given string\n",
    "    \n",
    "    if a[i] in s: # checking each element of the given string for matches with any of the special characters\n",
    "        \n",
    "        b=b+1 # increating the counter each time if a special character is found\n",
    "        \n",
    "if b:\n",
    "    print(\"The given string contains special characters.\")\n",
    "else:\n",
    "    print(\"The given string does not contain any special characters.\")    \n",
    "    "
   ]
  },
  {
   "cell_type": "code",
   "execution_count": 27,
   "id": "1742ff63",
   "metadata": {},
   "outputs": [
    {
     "name": "stdout",
     "output_type": "stream",
     "text": [
      "Please enter your string: India\\'s success $$ story # has been @@ well appreciated globally!!!\n",
      "There are 9 number of special characters in: India\\'s success $$ story # has been @@ well appreciated globally!!! and which are ['\\\\', '$', '$', '#', '@', '@', '!', '!', '!']\n",
      "\n",
      "Please enter your string: @python programming ## is one of the best $$ satisfying careers!!!!\n",
      "There are 9 number of special characters in: @python programming ## is one of the best $$ satisfying careers!!!! and which are ['@', '#', '#', '$', '$', '!', '!', '!', '!']\n",
      "\n"
     ]
    }
   ],
   "source": [
    "# code to check if any special characters exist in a string using a function\n",
    "\n",
    "def check_special():\n",
    "    s='[@_!#$%^&*()<>?/\\|}{~:]'\n",
    "    my_str=input(\"Please enter your string: \")\n",
    "    count=0\n",
    "    spec_char_list=[]\n",
    "    for i in my_str:\n",
    "        if i in s:\n",
    "            spec_char_list.append(i)\n",
    "            count=count+1\n",
    "    print(f'There are {count} number of special characters in: {my_str} and which are {spec_char_list}',end=\"\\n\\n\")\n",
    "    \n",
    "check_special()\n",
    "check_special()"
   ]
  },
  {
   "cell_type": "code",
   "execution_count": null,
   "id": "8e85ef78",
   "metadata": {},
   "outputs": [],
   "source": []
  }
 ],
 "metadata": {
  "kernelspec": {
   "display_name": "Python 3 (ipykernel)",
   "language": "python",
   "name": "python3"
  },
  "language_info": {
   "codemirror_mode": {
    "name": "ipython",
    "version": 3
   },
   "file_extension": ".py",
   "mimetype": "text/x-python",
   "name": "python",
   "nbconvert_exporter": "python",
   "pygments_lexer": "ipython3",
   "version": "3.9.13"
  }
 },
 "nbformat": 4,
 "nbformat_minor": 5
}
